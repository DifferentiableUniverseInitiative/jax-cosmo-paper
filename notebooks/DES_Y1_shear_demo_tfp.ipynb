{
  "nbformat": 4,
  "nbformat_minor": 0,
  "metadata": {
    "kernelspec": {
      "display_name": "Python 3",
      "language": "python",
      "name": "python3"
    },
    "language_info": {
      "codemirror_mode": {
        "name": "ipython",
        "version": 3
      },
      "file_extension": ".py",
      "mimetype": "text/x-python",
      "name": "python",
      "nbconvert_exporter": "python",
      "pygments_lexer": "ipython3",
      "version": "3.8.2"
    },
    "colab": {
      "name": "DES_Y1_shear_demo.ipynb",
      "provenance": [],
      "include_colab_link": true
    },
    "accelerator": "GPU"
  },
  "cells": [
    {
      "cell_type": "markdown",
      "metadata": {
        "id": "view-in-github",
        "colab_type": "text"
      },
      "source": [
        "<a href=\"https://colab.research.google.com/github/DifferentiableUniverseInitiative/jax-cosmo-paper/blob/master/notebooks/DES_Y1_shear_demo_tfp.ipynb\" target=\"_parent\"><img src=\"https://colab.research.google.com/assets/colab-badge.svg\" alt=\"Open In Colab\"/></a>"
      ]
    },
    {
      "cell_type": "markdown",
      "metadata": {
        "id": "ou21wjAMAJwV",
        "colab_type": "text"
      },
      "source": [
        "# Illustration of JAX-cosmo on a DES Y1-like analysis"
      ]
    },
    {
      "cell_type": "code",
      "metadata": {
        "id": "pX7n8teoATCx",
        "colab_type": "code",
        "outputId": "5ed20501-396a-4e18-925c-cb16d64f8884",
        "colab": {
          "base_uri": "https://localhost:8080/",
          "height": 343
        }
      },
      "source": [
        "!pip install git+https://github.com/DifferentiableUniverseInitiative/jax_cosmo.git"
      ],
      "execution_count": 1,
      "outputs": [
        {
          "output_type": "stream",
          "text": [
            "Collecting git+https://github.com/DifferentiableUniverseInitiative/jax_cosmo.git\n",
            "  Cloning https://github.com/DifferentiableUniverseInitiative/jax_cosmo.git to /tmp/pip-req-build-sgd2kw36\n",
            "  Running command git clone -q https://github.com/DifferentiableUniverseInitiative/jax_cosmo.git /tmp/pip-req-build-sgd2kw36\n",
            "Requirement already satisfied: jax in /usr/local/lib/python3.6/dist-packages (from jax-cosmo==0.1rc4.dev20+ga05fc27) (0.1.64)\n",
            "Requirement already satisfied: jaxlib in /usr/local/lib/python3.6/dist-packages (from jax-cosmo==0.1rc4.dev20+ga05fc27) (0.1.45)\n",
            "Requirement already satisfied: absl-py in /usr/local/lib/python3.6/dist-packages (from jax->jax-cosmo==0.1rc4.dev20+ga05fc27) (0.9.0)\n",
            "Requirement already satisfied: opt-einsum in /usr/local/lib/python3.6/dist-packages (from jax->jax-cosmo==0.1rc4.dev20+ga05fc27) (3.2.1)\n",
            "Requirement already satisfied: numpy>=1.12 in /usr/local/lib/python3.6/dist-packages (from jax->jax-cosmo==0.1rc4.dev20+ga05fc27) (1.18.4)\n",
            "Requirement already satisfied: scipy in /usr/local/lib/python3.6/dist-packages (from jaxlib->jax-cosmo==0.1rc4.dev20+ga05fc27) (1.4.1)\n",
            "Requirement already satisfied: six in /usr/local/lib/python3.6/dist-packages (from absl-py->jax->jax-cosmo==0.1rc4.dev20+ga05fc27) (1.12.0)\n",
            "Building wheels for collected packages: jax-cosmo\n",
            "  Building wheel for jax-cosmo (setup.py) ... \u001b[?25l\u001b[?25hdone\n",
            "  Created wheel for jax-cosmo: filename=jax_cosmo-0.1rc4.dev20+ga05fc27-cp36-none-any.whl size=25628 sha256=79d65caad4909031301f13607bb0024c27005036fe83148a0b6b3adcaef05da0\n",
            "  Stored in directory: /tmp/pip-ephem-wheel-cache-dpa2lujq/wheels/88/09/bb/e8fa873bc98f4b1be20b586d836ec856fa676f1c8b1142ef06\n",
            "Successfully built jax-cosmo\n",
            "Installing collected packages: jax-cosmo\n",
            "Successfully installed jax-cosmo-0.1rc4.dev20+ga05fc27\n"
          ],
          "name": "stdout"
        }
      ]
    },
    {
      "cell_type": "code",
      "metadata": {
        "id": "Ocnog_lXAJwX",
        "colab_type": "code",
        "outputId": "1f943f69-9b06-4019-a3bc-dbe1d0b8cd1c",
        "colab": {
          "base_uri": "https://localhost:8080/",
          "height": 35
        }
      },
      "source": [
        "%pylab inline\n",
        "import os.path\n",
        "import jax\n",
        "import jax.numpy as np\n",
        "import jax_cosmo as jc"
      ],
      "execution_count": 1,
      "outputs": [
        {
          "output_type": "stream",
          "text": [
            "Populating the interactive namespace from numpy and matplotlib\n"
          ],
          "name": "stdout"
        }
      ]
    },
    {
      "cell_type": "markdown",
      "metadata": {
        "id": "TY01xHMlAJwe",
        "colab_type": "text"
      },
      "source": [
        "## Retrieving  the nz data"
      ]
    },
    {
      "cell_type": "code",
      "metadata": {
        "id": "FkQNiAm0AJwf",
        "colab_type": "code",
        "colab": {}
      },
      "source": [
        "# Let's grab the data file\n",
        "from astropy.io import fits\n",
        "if not os.path.isfile('2pt_NG_mcal_1110.fits'):\n",
        "    !wget http://desdr-server.ncsa.illinois.edu/despublic/y1a1_files/chains/2pt_NG_mcal_1110.fits\n",
        "\n",
        "nz_source=fits.getdata('2pt_NG_mcal_1110.fits', 6)"
      ],
      "execution_count": 0,
      "outputs": []
    },
    {
      "cell_type": "code",
      "metadata": {
        "id": "KL66Tw1TAJwl",
        "colab_type": "code",
        "outputId": "686c0fa5-d3c3-4218-da2b-847cff43f871",
        "colab": {
          "base_uri": "https://localhost:8080/",
          "height": 313
        }
      },
      "source": [
        "# Let's plot the NZs\n",
        "plot(nz_source['Z_MID'], nz_source['BIN1'])\n",
        "plot(nz_source['Z_MID'], nz_source['BIN2'])\n",
        "plot(nz_source['Z_MID'], nz_source['BIN3'])\n",
        "plot(nz_source['Z_MID'], nz_source['BIN4'])\n",
        "xlim(0,2);\n",
        "xlabel('z')\n",
        "title('Source redshift distributions')\n"
      ],
      "execution_count": 3,
      "outputs": [
        {
          "output_type": "execute_result",
          "data": {
            "text/plain": [
              "Text(0.5, 1.0, 'Source redshift distributions')"
            ]
          },
          "metadata": {
            "tags": []
          },
          "execution_count": 3
        },
        {
          "output_type": "display_data",
          "data": {
            "image/png": "[encoded data removed]",
            "text/plain": [
              "<Figure size 432x288 with 1 Axes>"
            ]
          },
          "metadata": {
            "tags": [],
            "needs_background": "light"
          }
        }
      ]
    },
    {
      "cell_type": "code",
      "metadata": {
        "id": "tRy3cEfwAJwr",
        "colab_type": "code",
        "colab": {}
      },
      "source": [
        "# Now let's try to build the equivalent with jax-cosmo\n",
        "\n",
        "# This is the effective number of sources from the cosmic shear paper\n",
        "neff_s = [1.47, 1.46, 1.50, 0.73]\n",
        "\n",
        "nzs_s = [jc.redshift.kde_nz(nz_source['Z_MID'].astype('float32'),\n",
        "                            nz_source['BIN%d'%i].astype('float32'), \n",
        "                            bw=0.01,\n",
        "                            gals_per_arcmin2=neff_s[i-1])\n",
        "           for i in range(1,5)]"
      ],
      "execution_count": 0,
      "outputs": []
    },
    {
      "cell_type": "code",
      "metadata": {
        "id": "b98Xii8eAJwv",
        "colab_type": "code",
        "outputId": "df0533bc-6415-43d2-ed3a-a0100687f62c",
        "colab": {
          "base_uri": "https://localhost:8080/",
          "height": 447
        }
      },
      "source": [
        "z = linspace(0,2)\n",
        "for i in range(4):\n",
        "    plot(nz_source['Z_MID'], nz_source['BIN%d'%(i+1)], color='C%d'%i)\n",
        "    plot(z, nzs_s[i](z), '--', color='C%d'%i)\n",
        "\n",
        "xlim(0,2)\n"
      ],
      "execution_count": 5,
      "outputs": [
        {
          "output_type": "stream",
          "text": [
            "/usr/local/lib/python3.6/dist-packages/jax/lax/lax.py:5104: UserWarning: Explicitly requested dtype <class 'jax.numpy.lax_numpy.int64'> requested in arange is not available, and will be truncated to dtype int32. To enable more dtypes, set the jax_enable_x64 configuration option or the JAX_ENABLE_X64 shell environment variable. See https://github.com/google/jax#current-gotchas for more.\n",
            "  warnings.warn(msg.format(dtype, fun_name , truncated_dtype))\n",
            "/usr/local/lib/python3.6/dist-packages/jax/lax/lax.py:5104: UserWarning: Explicitly requested dtype <class 'jax.numpy.lax_numpy.int64'> requested in arange is not available, and will be truncated to dtype int32. To enable more dtypes, set the jax_enable_x64 configuration option or the JAX_ENABLE_X64 shell environment variable. See https://github.com/google/jax#current-gotchas for more.\n",
            "  warnings.warn(msg.format(dtype, fun_name , truncated_dtype))\n",
            "/usr/local/lib/python3.6/dist-packages/jax/lax/lax.py:5104: UserWarning: Explicitly requested dtype <class 'jax.numpy.lax_numpy.int64'> requested in arange is not available, and will be truncated to dtype int32. To enable more dtypes, set the jax_enable_x64 configuration option or the JAX_ENABLE_X64 shell environment variable. See https://github.com/google/jax#current-gotchas for more.\n",
            "  warnings.warn(msg.format(dtype, fun_name , truncated_dtype))\n",
            "/usr/local/lib/python3.6/dist-packages/jax/lax/lax.py:5104: UserWarning: Explicitly requested dtype <class 'jax.numpy.lax_numpy.int64'> requested in arange is not available, and will be truncated to dtype int32. To enable more dtypes, set the jax_enable_x64 configuration option or the JAX_ENABLE_X64 shell environment variable. See https://github.com/google/jax#current-gotchas for more.\n",
            "  warnings.warn(msg.format(dtype, fun_name , truncated_dtype))\n"
          ],
          "name": "stderr"
        },
        {
          "output_type": "execute_result",
          "data": {
            "text/plain": [
              "(0.0, 2.0)"
            ]
          },
          "metadata": {
            "tags": []
          },
          "execution_count": 5
        },
        {
          "output_type": "display_data",
          "data": {
            "image/png": "[encoded data removed]",
            "text/plain": [
              "<Figure size 432x288 with 1 Axes>"
            ]
          },
          "metadata": {
            "tags": [],
            "needs_background": "light"
          }
        }
      ]
    },
    {
      "cell_type": "markdown",
      "metadata": {
        "id": "WAyvns3sAJw1",
        "colab_type": "text"
      },
      "source": [
        "##  Let's build  a model for C_ell"
      ]
    },
    {
      "cell_type": "code",
      "metadata": {
        "id": "fAuW74YBAJw2",
        "colab_type": "code",
        "outputId": "b3850dbb-caa2-469b-8815-daa60f21fc8e",
        "colab": {
          "base_uri": "https://localhost:8080/",
          "height": 233
        }
      },
      "source": [
        "# First, let's define a function to go to and from a 1d parameter vector\n",
        "def get_params_vec(cosmo, m, dz, ia):\n",
        "    m1, m2, m3, m4 = m\n",
        "    dz1, dz2, dz3, dz4 = dz\n",
        "    A, eta = ia\n",
        "    return np.array([ \n",
        "        # Cosmological parameters\n",
        "        cosmo.sigma8, cosmo.Omega_c, cosmo.Omega_b,\n",
        "        cosmo.h, cosmo.n_s, cosmo.w0,\n",
        "        # Shear systematics\n",
        "        m1, m2, m3, m4,\n",
        "        # Photoz systematics\n",
        "        dz1, dz2, dz3, dz4,\n",
        "        # IA model\n",
        "        A, eta\n",
        "    ])\n",
        "    \n",
        "def unpack_params_vec(params):\n",
        "    # Retrieve cosmology\n",
        "    cosmo = jc.Cosmology(sigma8=params[0], Omega_c=params[1], Omega_b=params[2],\n",
        "                         h=params[3], n_s=params[4], w0=params[5],\n",
        "                         Omega_k=0., wa=0.)\n",
        "    m1,m2,m3,m4 = params[6:10]\n",
        "    dz1,dz2,dz3,dz4 = params[10:14]\n",
        "    A = params[14]\n",
        "    eta = params[15]\n",
        "    return cosmo, [m1,m2,m3,m4], [dz1,dz2,dz3,dz4], [A, eta]\n",
        "\n",
        "# Let's try a round trip just to make sure\n",
        "p = get_params_vec(jc.Planck15(), [1.,2.,3.,4.], [5.,6.,7.,8.],\n",
        "              [1., 2.])\n",
        "unpack_params_vec(p)"
      ],
      "execution_count": 6,
      "outputs": [
        {
          "output_type": "execute_result",
          "data": {
            "text/plain": [
              "(Cosmological parameters: \n",
              "     h:        0.6774 \n",
              "     Omega_b:  0.0486 \n",
              "     Omega_c:  0.2589 \n",
              "     Omega_k:  0.0 \n",
              "     w0:       -1.0 \n",
              "     wa:       0.0 \n",
              "     n:        0.9667 \n",
              "     sigma8:   0.8159,\n",
              " [1.0, 2.0, 3.0, 4.0],\n",
              " [5.0, 6.0, 7.0, 8.0],\n",
              " [DeviceArray(1., dtype=float32), DeviceArray(2., dtype=float32)])"
            ]
          },
          "metadata": {
            "tags": []
          },
          "execution_count": 6
        }
      ]
    },
    {
      "cell_type": "code",
      "metadata": {
        "id": "I8hrMWTAAJw7",
        "colab_type": "code",
        "outputId": "1df1958b-cf7b-414f-df85-5ffd29f0712e",
        "colab": {
          "base_uri": "https://localhost:8080/",
          "height": 109
        }
      },
      "source": [
        "# Define some ell range\n",
        "ell = np.logspace(1, 3)\n",
        "\n",
        "@jax.jit\n",
        "def mu(params):\n",
        "    # First unpack parameter vector\n",
        "    cosmo, m, dz, (A, eta) = unpack_params_vec(params) \n",
        "\n",
        "    # Build source nz with redshift systematic bias\n",
        "    nzs_s_sys = [jc.redshift.systematic_shift(nzi, dzi) \n",
        "                for nzi, dzi in zip(nzs_s, dz)]\n",
        "\n",
        "    # Define IA model, z0 is fixed\n",
        "    b_ia = jc.bias.des_y1_ia_bias(A, eta, 0.62)\n",
        "    \n",
        "    # Define the lensing and number counts probe\n",
        "    probes = [jc.probes.WeakLensing(nzs_s_sys, \n",
        "                                    ia_bias=b_ia,\n",
        "                                    multiplicative_bias=m)]\n",
        "\n",
        "    cl = jc.angular_cl.angular_cl(cosmo, ell, probes)\n",
        "\n",
        "    return cl"
      ],
      "execution_count": 7,
      "outputs": [
        {
          "output_type": "stream",
          "text": [
            "/usr/local/lib/python3.6/dist-packages/jax/lax/lax.py:5104: UserWarning: Explicitly requested dtype float64 requested in asarray is not available, and will be truncated to dtype float32. To enable more dtypes, set the jax_enable_x64 configuration option or the JAX_ENABLE_X64 shell environment variable. See https://github.com/google/jax#current-gotchas for more.\n",
            "  warnings.warn(msg.format(dtype, fun_name , truncated_dtype))\n",
            "/usr/local/lib/python3.6/dist-packages/jax/lax/lax.py:5104: UserWarning: Explicitly requested dtype float64 requested in array is not available, and will be truncated to dtype float32. To enable more dtypes, set the jax_enable_x64 configuration option or the JAX_ENABLE_X64 shell environment variable. See https://github.com/google/jax#current-gotchas for more.\n",
            "  warnings.warn(msg.format(dtype, fun_name , truncated_dtype))\n"
          ],
          "name": "stderr"
        }
      ]
    },
    {
      "cell_type": "code",
      "metadata": {
        "id": "TTULYIcCAJw_",
        "colab_type": "code",
        "outputId": "2d1433e2-d297-4c80-af37-bc6c11994177",
        "colab": {
          "base_uri": "https://localhost:8080/",
          "height": 35
        }
      },
      "source": [
        "## Let's get the covariance\n",
        "f_sky = 1321./41253.\n",
        "print(\"f_sky\", f_sky)\n",
        "@jax.jit\n",
        "def cov(params):\n",
        "    \n",
        "    cl_signal = mu(params)\n",
        "    \n",
        "    # First unpack parameter vector\n",
        "    cosmo, m, dz, (A, eta) = unpack_params_vec(params) \n",
        "    \n",
        "    # Build source nz with redshift systematic bias\n",
        "    nzs_s_sys = [jc.redshift.systematic_shift(nzi, dzi) \n",
        "                for nzi, dzi in zip(nzs_s, dz)]\n",
        "    \n",
        "    # Define IA model, z0 is fixed\n",
        "    b_ia = jc.bias.des_y1_ia_bias(A, eta, 0.62)\n",
        "    \n",
        "    # Define the lensing and number counts probe\n",
        "    probes = [jc.probes.WeakLensing(nzs_s_sys, \n",
        "                                    ia_bias=b_ia,\n",
        "                                    multiplicative_bias=m)]\n",
        "    \n",
        "    cl_noise = jc.angular_cl.noise_cl(ell, probes)\n",
        "    \n",
        "    cov = jc.angular_cl.gaussian_cl_covariance(ell, probes, cl_signal, cl_noise, f_sky=f_sky)\n",
        "    \n",
        "    return cov"
      ],
      "execution_count": 8,
      "outputs": [
        {
          "output_type": "stream",
          "text": [
            "f_sky 0.03202191355780186\n"
          ],
          "name": "stdout"
        }
      ]
    },
    {
      "cell_type": "code",
      "metadata": {
        "id": "Gz7OLBOCAJxF",
        "colab_type": "code",
        "colab": {}
      },
      "source": [
        "jacobian = jax.jit(jax.jacfwd(lambda p: mu(p).flatten()))"
      ],
      "execution_count": 0,
      "outputs": []
    },
    {
      "cell_type": "code",
      "metadata": {
        "id": "1ZvXh7kXAJxK",
        "colab_type": "code",
        "colab": {}
      },
      "source": [
        "# Let's try it out\n",
        "from functools import partial\n",
        "\n",
        "FiducialCosmo = partial(jc.Cosmology, sigma8=0.801,\n",
        "                         Omega_c=0.2545,\n",
        "                         Omega_b=0.0485,\n",
        "                         h=0.682,\n",
        "                         n_s=0.971,\n",
        "                         w0=-1., Omega_k=0., wa=0.)\n",
        "\n",
        "fid_cosmo = FiducialCosmo()\n",
        "fid_params = get_params_vec(fid_cosmo, \n",
        "                            [1.2e-2, 1.2e-2, 1.2e-2, 1.2e-2],\n",
        "                            [0.1e-2, -1.9e-2, 0.9e-2, -1.8e-2],\n",
        "                            [0.5, 0.])"
      ],
      "execution_count": 0,
      "outputs": []
    },
    {
      "cell_type": "code",
      "metadata": {
        "id": "zwsfFj4EAJxN",
        "colab_type": "code",
        "outputId": "e204cde0-c851-4f57-d88d-540fd3f614ad",
        "colab": {
          "base_uri": "https://localhost:8080/",
          "height": 181
        }
      },
      "source": [
        "cl_wl = mu(fid_params)"
      ],
      "execution_count": 11,
      "outputs": [
        {
          "output_type": "stream",
          "text": [
            "/usr/local/lib/python3.6/dist-packages/jax/lax/lax.py:5104: UserWarning: Explicitly requested dtype float64 requested in asarray is not available, and will be truncated to dtype float32. To enable more dtypes, set the jax_enable_x64 configuration option or the JAX_ENABLE_X64 shell environment variable. See https://github.com/google/jax#current-gotchas for more.\n",
            "  warnings.warn(msg.format(dtype, fun_name , truncated_dtype))\n",
            "/usr/local/lib/python3.6/dist-packages/jax/lax/lax.py:5104: UserWarning: Explicitly requested dtype float64 requested in array is not available, and will be truncated to dtype float32. To enable more dtypes, set the jax_enable_x64 configuration option or the JAX_ENABLE_X64 shell environment variable. See https://github.com/google/jax#current-gotchas for more.\n",
            "  warnings.warn(msg.format(dtype, fun_name , truncated_dtype))\n",
            "/usr/local/lib/python3.6/dist-packages/jax/lax/lax.py:5104: UserWarning: Explicitly requested dtype <class 'jax.numpy.lax_numpy.int64'> requested in astype is not available, and will be truncated to dtype int32. To enable more dtypes, set the jax_enable_x64 configuration option or the JAX_ENABLE_X64 shell environment variable. See https://github.com/google/jax#current-gotchas for more.\n",
            "  warnings.warn(msg.format(dtype, fun_name , truncated_dtype))\n",
            "/usr/local/lib/python3.6/dist-packages/jax/lax/lax.py:5104: UserWarning: Explicitly requested dtype <class 'jax.numpy.lax_numpy.int64'> requested in arange is not available, and will be truncated to dtype int32. To enable more dtypes, set the jax_enable_x64 configuration option or the JAX_ENABLE_X64 shell environment variable. See https://github.com/google/jax#current-gotchas for more.\n",
            "  warnings.warn(msg.format(dtype, fun_name , truncated_dtype))\n"
          ],
          "name": "stderr"
        }
      ]
    },
    {
      "cell_type": "code",
      "metadata": {
        "id": "gPKAIA7pAJxV",
        "colab_type": "code",
        "outputId": "c575026c-15bf-4351-caec-f2591f4f4535",
        "colab": {
          "base_uri": "https://localhost:8080/",
          "height": 35
        }
      },
      "source": [
        "%timeit mu(fid_params).block_until_ready()"
      ],
      "execution_count": 12,
      "outputs": [
        {
          "output_type": "stream",
          "text": [
            "10 loops, best of 3: 57.7 ms per loop\n"
          ],
          "name": "stdout"
        }
      ]
    },
    {
      "cell_type": "code",
      "metadata": {
        "id": "EDnQXROYAJxc",
        "colab_type": "code",
        "outputId": "99722eca-ed21-40ec-d66b-51c922d4d63a",
        "colab": {
          "base_uri": "https://localhost:8080/",
          "height": 288
        }
      },
      "source": [
        "loglog(ell, cl_wl[0])"
      ],
      "execution_count": 13,
      "outputs": [
        {
          "output_type": "execute_result",
          "data": {
            "text/plain": [
              "[<matplotlib.lines.Line2D at 0x7fd673c4dcf8>]"
            ]
          },
          "metadata": {
            "tags": []
          },
          "execution_count": 13
        },
        {
          "output_type": "display_data",
          "data": {
            "image/png": "[encoded data removed]",
            "text/plain": [
              "<Figure size 432x288 with 1 Axes>"
            ]
          },
          "metadata": {
            "tags": [],
            "needs_background": "light"
          }
        }
      ]
    },
    {
      "cell_type": "code",
      "metadata": {
        "id": "yOqVdlGWAJxf",
        "colab_type": "code",
        "outputId": "f15e39d1-9994-44ba-ec91-a3a5eda0ae6a",
        "colab": {
          "base_uri": "https://localhost:8080/",
          "height": 181
        }
      },
      "source": [
        "C = cov(fid_params)"
      ],
      "execution_count": 14,
      "outputs": [
        {
          "output_type": "stream",
          "text": [
            "/usr/local/lib/python3.6/dist-packages/jax/lax/lax.py:5104: UserWarning: Explicitly requested dtype float64 requested in asarray is not available, and will be truncated to dtype float32. To enable more dtypes, set the jax_enable_x64 configuration option or the JAX_ENABLE_X64 shell environment variable. See https://github.com/google/jax#current-gotchas for more.\n",
            "  warnings.warn(msg.format(dtype, fun_name , truncated_dtype))\n",
            "/usr/local/lib/python3.6/dist-packages/jax/lax/lax.py:5104: UserWarning: Explicitly requested dtype float64 requested in array is not available, and will be truncated to dtype float32. To enable more dtypes, set the jax_enable_x64 configuration option or the JAX_ENABLE_X64 shell environment variable. See https://github.com/google/jax#current-gotchas for more.\n",
            "  warnings.warn(msg.format(dtype, fun_name , truncated_dtype))\n",
            "/usr/local/lib/python3.6/dist-packages/jax/lax/lax.py:5104: UserWarning: Explicitly requested dtype <class 'jax.numpy.lax_numpy.int64'> requested in astype is not available, and will be truncated to dtype int32. To enable more dtypes, set the jax_enable_x64 configuration option or the JAX_ENABLE_X64 shell environment variable. See https://github.com/google/jax#current-gotchas for more.\n",
            "  warnings.warn(msg.format(dtype, fun_name , truncated_dtype))\n",
            "/usr/local/lib/python3.6/dist-packages/jax/lax/lax.py:5104: UserWarning: Explicitly requested dtype <class 'jax.numpy.lax_numpy.int64'> requested in arange is not available, and will be truncated to dtype int32. To enable more dtypes, set the jax_enable_x64 configuration option or the JAX_ENABLE_X64 shell environment variable. See https://github.com/google/jax#current-gotchas for more.\n",
            "  warnings.warn(msg.format(dtype, fun_name , truncated_dtype))\n"
          ],
          "name": "stderr"
        }
      ]
    },
    {
      "cell_type": "code",
      "metadata": {
        "id": "7Szx4sXwAJxj",
        "colab_type": "code",
        "outputId": "67212868-bae0-4b9a-b7bf-e15c8dcbe222",
        "colab": {
          "base_uri": "https://localhost:8080/",
          "height": 181
        }
      },
      "source": [
        "j = jacobian(fid_params)"
      ],
      "execution_count": 15,
      "outputs": [
        {
          "output_type": "stream",
          "text": [
            "/usr/local/lib/python3.6/dist-packages/jax/lax/lax.py:5104: UserWarning: Explicitly requested dtype float64 requested in asarray is not available, and will be truncated to dtype float32. To enable more dtypes, set the jax_enable_x64 configuration option or the JAX_ENABLE_X64 shell environment variable. See https://github.com/google/jax#current-gotchas for more.\n",
            "  warnings.warn(msg.format(dtype, fun_name , truncated_dtype))\n",
            "/usr/local/lib/python3.6/dist-packages/jax/lax/lax.py:5104: UserWarning: Explicitly requested dtype float64 requested in array is not available, and will be truncated to dtype float32. To enable more dtypes, set the jax_enable_x64 configuration option or the JAX_ENABLE_X64 shell environment variable. See https://github.com/google/jax#current-gotchas for more.\n",
            "  warnings.warn(msg.format(dtype, fun_name , truncated_dtype))\n",
            "/usr/local/lib/python3.6/dist-packages/jax/lax/lax.py:5104: UserWarning: Explicitly requested dtype <class 'jax.numpy.lax_numpy.int64'> requested in astype is not available, and will be truncated to dtype int32. To enable more dtypes, set the jax_enable_x64 configuration option or the JAX_ENABLE_X64 shell environment variable. See https://github.com/google/jax#current-gotchas for more.\n",
            "  warnings.warn(msg.format(dtype, fun_name , truncated_dtype))\n",
            "/usr/local/lib/python3.6/dist-packages/jax/lax/lax.py:5104: UserWarning: Explicitly requested dtype <class 'jax.numpy.lax_numpy.int64'> requested in arange is not available, and will be truncated to dtype int32. To enable more dtypes, set the jax_enable_x64 configuration option or the JAX_ENABLE_X64 shell environment variable. See https://github.com/google/jax#current-gotchas for more.\n",
            "  warnings.warn(msg.format(dtype, fun_name , truncated_dtype))\n"
          ],
          "name": "stderr"
        }
      ]
    },
    {
      "cell_type": "code",
      "metadata": {
        "id": "Dzk21ERRAJxp",
        "colab_type": "code",
        "colab": {}
      },
      "source": [
        "#%timeit jacobian(fid_params).block_until_ready()"
      ],
      "execution_count": 0,
      "outputs": []
    },
    {
      "cell_type": "code",
      "metadata": {
        "id": "_zJMe7YKAJxu",
        "colab_type": "code",
        "colab": {}
      },
      "source": [
        "# And we get the fisher matrix from the jacobian and covariance\n",
        "F = np.einsum('ia,ij,jb',j,np.linalg.inv(C),j)\n",
        "\n",
        "# Add priors to systematics\n",
        "import numpy as onp\n",
        "d = onp.zeros(16)\n",
        "d[6] = 1./(2.3e-2)**2\n",
        "d[7] = 1./(2.3e-2)**2\n",
        "d[8] = 1./(2.3e-2)**2\n",
        "d[9] = 1./(2.3e-2)**2\n",
        "d[10] = 1./(1.6e-2)**2\n",
        "d[11] = 1./(1.3e-2)**2\n",
        "d[12] = 1./(1.1e-2)**2\n",
        "d[13] = 1./(2.2e-2)**2\n",
        "\n",
        "F = F + np.diag(d)"
      ],
      "execution_count": 0,
      "outputs": []
    },
    {
      "cell_type": "code",
      "metadata": {
        "id": "TKCBOPmRAJxz",
        "colab_type": "code",
        "colab": {}
      },
      "source": [
        "import matplotlib.pyplot as plt\n",
        "from matplotlib.patches import Ellipse\n",
        "\n",
        "def plot_contours(fisher, pos, inds=[1,0], nstd=1., ax=None, **kwargs):\n",
        "  \"\"\"\n",
        "  Plot 2D parameter contours given a Hessian matrix of the likelihood\n",
        "  \"\"\"\n",
        "  i,j = inds\n",
        "  \n",
        "  def eigsorted(cov):\n",
        "    vals, vecs = linalg.eigh(cov)\n",
        "    order = vals.argsort()[::-1]\n",
        "    return vals[order], vecs[:, order]\n",
        "\n",
        "  mat = fisher\n",
        "  cov = np.linalg.inv(mat)\n",
        "  sigma_marg = lambda i: np.sqrt(cov[i, i])\n",
        "\n",
        "  if ax is None:\n",
        "      ax = plt.gca()\n",
        "\n",
        "  # Extracts the block we are interested in\n",
        "  block_cov = cov[:,[i,j]][[i,j],:]\n",
        "  vals, vecs = eigsorted(block_cov)\n",
        "  theta = degrees(np.arctan2(*vecs[:, 0][::-1]))\n",
        "\n",
        "  # Width and height are \"full\" widths, not radius\n",
        "  width, height = 2 * nstd * sqrt(vals)\n",
        "  ellip = Ellipse(xy=pos[[i,j]], width=width,\n",
        "                  height=height, angle=theta, **kwargs)\n",
        "\n",
        "  ax.add_artist(ellip)\n",
        "  sz = max(width, height)\n",
        "  s1 = 1.5*nstd*sigma_marg(i)\n",
        "  s2 = 1.5*nstd*sigma_marg(j)\n",
        "  ax.set_xlim(pos[i] - s1, pos[i] + s1)\n",
        "  ax.set_ylim(pos[j] - s2, pos[j] + s2)\n",
        "  plt.draw()\n",
        "  return ellip"
      ],
      "execution_count": 0,
      "outputs": []
    },
    {
      "cell_type": "code",
      "metadata": {
        "id": "b2if1bBMAJx4",
        "colab_type": "code",
        "outputId": "7420d399-d083-459c-a22b-ba0bd2f26ff7",
        "colab": {
          "base_uri": "https://localhost:8080/",
          "height": 298
        }
      },
      "source": [
        "plot_contours(F, fid_params)\n",
        "xlabel('Omega_c')\n",
        "ylabel('sigma8')"
      ],
      "execution_count": 19,
      "outputs": [
        {
          "output_type": "execute_result",
          "data": {
            "text/plain": [
              "Text(27.0, 0.5, 'sigma8')"
            ]
          },
          "metadata": {
            "tags": []
          },
          "execution_count": 19
        },
        {
          "output_type": "display_data",
          "data": {
            "image/png": "[encoded data removed]",
            "text/plain": [
              "<Figure size 432x288 with 1 Axes>"
            ]
          },
          "metadata": {
            "tags": [],
            "needs_background": "light"
          }
        }
      ]
    },
    {
      "cell_type": "markdown",
      "metadata": {
        "id": "B7gghORJAJx8",
        "colab_type": "text"
      },
      "source": [
        "## Fisher matrices are ok, but let's try proper inference"
      ]
    },
    {
      "cell_type": "code",
      "metadata": {
        "id": "E6haCwL_AJx9",
        "colab_type": "code",
        "colab": {}
      },
      "source": [
        "from tensorflow_probability.python.internal.backend import jax as tf\n",
        "import tensorflow_probability as tfp; tfp = tfp.experimental.substrates.jax"
      ],
      "execution_count": 0,
      "outputs": []
    },
    {
      "cell_type": "code",
      "metadata": {
        "id": "Fuh9QA2jAJyB",
        "colab_type": "code",
        "colab": {}
      },
      "source": [
        "@jax.jit\n",
        "def model_fn(params):\n",
        "    # First unpack parameter vector\n",
        "    cosmo, m, dz, (A, eta) = unpack_params_vec(params) \n",
        "\n",
        "    # Build source nz with redshift systematic bias\n",
        "    nzs_s_sys = [jc.redshift.systematic_shift(nzi, dzi) \n",
        "                for nzi, dzi in zip(nzs_s, dz)]\n",
        "\n",
        "    # Define IA model, z0 is fixed\n",
        "    b_ia = jc.bias.des_y1_ia_bias(A, eta, 0.62)\n",
        "    \n",
        "    # Define the lensing and number counts probe\n",
        "    probes = [jc.probes.WeakLensing(nzs_s_sys, \n",
        "                                    ia_bias=b_ia,\n",
        "                                    multiplicative_bias=m)]\n",
        "    cl = jc.angular_cl.angular_cl(cosmo, ell, probes)\n",
        "    return cl.flatten()"
      ],
      "execution_count": 0,
      "outputs": []
    },
    {
      "cell_type": "code",
      "metadata": {
        "id": "EN3qWP1ZBB33",
        "colab_type": "code",
        "colab": {}
      },
      "source": [
        "tfd = tfp.distributions"
      ],
      "execution_count": 0,
      "outputs": []
    },
    {
      "cell_type": "code",
      "metadata": {
        "id": "1rE6EYPrDJlg",
        "colab_type": "code",
        "colab": {}
      },
      "source": [
        "params_fn = lambda x: get_params_vec(FiducialCosmo(**x), \n",
        "                            [1.2e-2, 1.2e-2, 1.2e-2, 1.2e-2],\n",
        "                            [0.1e-2, -1.9e-2, 0.9e-2, -1.8e-2],\n",
        "                            [0.5, 0.])"
      ],
      "execution_count": 0,
      "outputs": []
    },
    {
      "cell_type": "code",
      "metadata": {
        "id": "VjZpKW3nBB0r",
        "colab_type": "code",
        "colab": {}
      },
      "source": [
        "model = tfd.JointDistributionNamed(dict(\n",
        "  Omega_c = tfd.Uniform(0.1, 0.9),\n",
        "  sigma8 = tfd.Uniform(0.4, 1.0),\n",
        "  Omega_b = tfd.Uniform(0.03, 0.07),\n",
        "  h = tfd.Uniform(0.55, 0.9),\n",
        "  n_s = tfd.Uniform(0.87, 1.97),\n",
        "  w0 = tfd.Uniform(-2.0, -0.33),\n",
        "  obs_cl = lambda Omega_c, sigma8, Omega_b, h, n_s, w0: tfd.MultivariateNormalTriL(\n",
        "      model_fn(params_fn(dict(Omega_c=Omega_c, sigma8=sigma8, Omega_b=Omega_b, \n",
        "                          h=h, n_s=n_s, w0=w0)))\n",
        "      , np.linalg.cholesky(C))\n",
        "))"
      ],
      "execution_count": 0,
      "outputs": []
    },
    {
      "cell_type": "code",
      "metadata": {
        "id": "TU1h6J_yBByb",
        "colab_type": "code",
        "outputId": "ea0a56e3-c2e4-4da5-d7eb-be68cba045d9",
        "colab": {
          "base_uri": "https://localhost:8080/",
          "height": 143
        }
      },
      "source": [
        "model.resolve_graph()"
      ],
      "execution_count": 25,
      "outputs": [
        {
          "output_type": "execute_result",
          "data": {
            "text/plain": [
              "(('w0', ()),\n",
              " ('sigma8', ()),\n",
              " ('n_s', ()),\n",
              " ('h', ()),\n",
              " ('Omega_c', ()),\n",
              " ('Omega_b', ()),\n",
              " ('obs_cl', ('Omega_c', 'sigma8', 'Omega_b', 'h', 'n_s', 'w0')))"
            ]
          },
          "metadata": {
            "tags": []
          },
          "execution_count": 25
        }
      ]
    },
    {
      "cell_type": "code",
      "metadata": {
        "id": "kZEK_OXWEySN",
        "colab_type": "code",
        "outputId": "66025412-85a3-4716-869b-b2e658287b35",
        "colab": {
          "base_uri": "https://localhost:8080/",
          "height": 181
        }
      },
      "source": [
        "y = model.sample(seed=jax.random.PRNGKey(0))"
      ],
      "execution_count": 26,
      "outputs": [
        {
          "output_type": "stream",
          "text": [
            "/usr/local/lib/python3.6/dist-packages/jax/lax/lax.py:5104: UserWarning: Explicitly requested dtype float64 requested in asarray is not available, and will be truncated to dtype float32. To enable more dtypes, set the jax_enable_x64 configuration option or the JAX_ENABLE_X64 shell environment variable. See https://github.com/google/jax#current-gotchas for more.\n",
            "  warnings.warn(msg.format(dtype, fun_name , truncated_dtype))\n",
            "/usr/local/lib/python3.6/dist-packages/jax/lax/lax.py:5104: UserWarning: Explicitly requested dtype float64 requested in array is not available, and will be truncated to dtype float32. To enable more dtypes, set the jax_enable_x64 configuration option or the JAX_ENABLE_X64 shell environment variable. See https://github.com/google/jax#current-gotchas for more.\n",
            "  warnings.warn(msg.format(dtype, fun_name , truncated_dtype))\n",
            "/usr/local/lib/python3.6/dist-packages/jax/lax/lax.py:5104: UserWarning: Explicitly requested dtype <class 'jax.numpy.lax_numpy.int64'> requested in astype is not available, and will be truncated to dtype int32. To enable more dtypes, set the jax_enable_x64 configuration option or the JAX_ENABLE_X64 shell environment variable. See https://github.com/google/jax#current-gotchas for more.\n",
            "  warnings.warn(msg.format(dtype, fun_name , truncated_dtype))\n",
            "/usr/local/lib/python3.6/dist-packages/jax/lax/lax.py:5104: UserWarning: Explicitly requested dtype <class 'jax.numpy.lax_numpy.int64'> requested in arange is not available, and will be truncated to dtype int32. To enable more dtypes, set the jax_enable_x64 configuration option or the JAX_ENABLE_X64 shell environment variable. See https://github.com/google/jax#current-gotchas for more.\n",
            "  warnings.warn(msg.format(dtype, fun_name , truncated_dtype))\n"
          ],
          "name": "stderr"
        }
      ]
    },
    {
      "cell_type": "code",
      "metadata": {
        "id": "167yOYekEyPC",
        "colab_type": "code",
        "outputId": "7354099a-2351-40ac-ef74-f3c06774315f",
        "colab": {
          "base_uri": "https://localhost:8080/",
          "height": 283
        }
      },
      "source": [
        "semilogy(y['obs_cl'])"
      ],
      "execution_count": 27,
      "outputs": [
        {
          "output_type": "execute_result",
          "data": {
            "text/plain": [
              "[<matplotlib.lines.Line2D at 0x7fd620ea4ef0>]"
            ]
          },
          "metadata": {
            "tags": []
          },
          "execution_count": 27
        },
        {
          "output_type": "display_data",
          "data": {
            "image/png": "[encoded data removed]",
            "text/plain": [
              "<Figure size 432x288 with 1 Axes>"
            ]
          },
          "metadata": {
            "tags": [],
            "needs_background": "light"
          }
        }
      ]
    },
    {
      "cell_type": "code",
      "metadata": {
        "id": "yG8gCx5jGgvP",
        "colab_type": "code",
        "colab": {}
      },
      "source": [
        "# compute somes data \n",
        "data = tfd.MultivariateNormalTriL(model_fn(fid_params), np.linalg.cholesky(C)).sample(seed=jax.random.PRNGKey(1))"
      ],
      "execution_count": 0,
      "outputs": []
    },
    {
      "cell_type": "code",
      "metadata": {
        "id": "OoZ_xjqcHNvd",
        "colab_type": "code",
        "outputId": "700c3c5d-9b49-4e5b-f98b-e47b5384125d",
        "colab": {
          "base_uri": "https://localhost:8080/",
          "height": 283
        }
      },
      "source": [
        "semilogy(data)"
      ],
      "execution_count": 29,
      "outputs": [
        {
          "output_type": "execute_result",
          "data": {
            "text/plain": [
              "[<matplotlib.lines.Line2D at 0x7fd620738860>]"
            ]
          },
          "metadata": {
            "tags": []
          },
          "execution_count": 29
        },
        {
          "output_type": "display_data",
          "data": {
            "image/png": "[encoded data removed]",
            "text/plain": [
              "<Figure size 432x288 with 1 Axes>"
            ]
          },
          "metadata": {
            "tags": [],
            "needs_background": "light"
          }
        }
      ]
    },
    {
      "cell_type": "code",
      "metadata": {
        "id": "J2iCtadfBBrS",
        "colab_type": "code",
        "colab": {}
      },
      "source": [
        "# Now write down the joint log prob\n",
        "@jax.jit\n",
        "def unnormalized_log_prob(params):\n",
        "  Omega_c, sigma8, Omega_b, h, n_s, w0 = params\n",
        "  return model.log_prob(dict(Omega_c=Omega_c, sigma8=sigma8, Omega_b=Omega_b, \n",
        "                          h=h, n_s=n_s, w0=w0, obs_cl=data))"
      ],
      "execution_count": 0,
      "outputs": []
    },
    {
      "cell_type": "code",
      "metadata": {
        "id": "LpAMxHFqFqef",
        "colab_type": "code",
        "colab": {}
      },
      "source": [
        "# Initialize the HMC transition kernel.\n",
        "num_results = int(1000)\n",
        "num_burnin_steps = int(100)\n",
        "adaptive_hmc = tfp.mcmc.SimpleStepSizeAdaptation(\n",
        "    tfp.mcmc.HamiltonianMonteCarlo(\n",
        "        target_log_prob_fn=unnormalized_log_prob,\n",
        "        num_leapfrog_steps=3,\n",
        "        step_size=1., seed=jax.random.PRNGKey(0)),\n",
        "    num_adaptation_steps=int(num_burnin_steps * 0.8))"
      ],
      "execution_count": 0,
      "outputs": []
    },
    {
      "cell_type": "code",
      "metadata": {
        "id": "fR5pmvdmFqiR",
        "colab_type": "code",
        "colab": {}
      },
      "source": [
        "# Run the chain (with burn-in).\n",
        "@jax.jit\n",
        "def run_chain():\n",
        "  # Run the chain (with burn-in).\n",
        "  samples = tfp.mcmc.sample_chain(\n",
        "      num_results=num_results,\n",
        "      num_burnin_steps=num_burnin_steps,\n",
        "      current_state=np.array([y['Omega_c'], y['sigma8'], \n",
        "                              y['Omega_b'], y['h'], y['n_s'], y['w0']]),\n",
        "      kernel=adaptive_hmc)\n",
        "  return samples\n"
      ],
      "execution_count": 0,
      "outputs": []
    },
    {
      "cell_type": "markdown",
      "metadata": {
        "id": "wDICKU3PN_Px",
        "colab_type": "text"
      },
      "source": [
        "Started around 11:14"
      ]
    },
    {
      "cell_type": "code",
      "metadata": {
        "id": "IEcXg-8eFqbi",
        "colab_type": "code",
        "outputId": "bdfc53e0-36a8-4b13-fe28-b862d243824e",
        "colab": {
          "base_uri": "https://localhost:8080/",
          "height": 217
        }
      },
      "source": [
        "samples = run_chain()"
      ],
      "execution_count": 33,
      "outputs": [
        {
          "output_type": "stream",
          "text": [
            "/usr/local/lib/python3.6/dist-packages/jax/lax/lax.py:5104: UserWarning: Explicitly requested dtype float64 requested in asarray is not available, and will be truncated to dtype float32. To enable more dtypes, set the jax_enable_x64 configuration option or the JAX_ENABLE_X64 shell environment variable. See https://github.com/google/jax#current-gotchas for more.\n",
            "  warnings.warn(msg.format(dtype, fun_name , truncated_dtype))\n",
            "/usr/local/lib/python3.6/dist-packages/jax/lax/lax.py:5104: UserWarning: Explicitly requested dtype float64 requested in array is not available, and will be truncated to dtype float32. To enable more dtypes, set the jax_enable_x64 configuration option or the JAX_ENABLE_X64 shell environment variable. See https://github.com/google/jax#current-gotchas for more.\n",
            "  warnings.warn(msg.format(dtype, fun_name , truncated_dtype))\n",
            "/usr/local/lib/python3.6/dist-packages/jax/lax/lax.py:5104: UserWarning: Explicitly requested dtype <class 'jax.numpy.lax_numpy.int64'> requested in astype is not available, and will be truncated to dtype int32. To enable more dtypes, set the jax_enable_x64 configuration option or the JAX_ENABLE_X64 shell environment variable. See https://github.com/google/jax#current-gotchas for more.\n",
            "  warnings.warn(msg.format(dtype, fun_name , truncated_dtype))\n",
            "/usr/local/lib/python3.6/dist-packages/jax/lax/lax.py:5104: UserWarning: Explicitly requested dtype <class 'jax.numpy.lax_numpy.int64'> requested in arange is not available, and will be truncated to dtype int32. To enable more dtypes, set the jax_enable_x64 configuration option or the JAX_ENABLE_X64 shell environment variable. See https://github.com/google/jax#current-gotchas for more.\n",
            "  warnings.warn(msg.format(dtype, fun_name , truncated_dtype))\n",
            "/usr/local/lib/python3.6/dist-packages/tensorflow_probability/python/mcmc/_jax/sample.py:333: UserWarning: Tracing all kernel results by default is deprecated. Set the `trace_fn` argument to None (the future default value) or an explicit callback that traces the values you are interested in.\n",
            "  warnings.warn(\"Tracing all kernel results by default is deprecated. Set \"\n"
          ],
          "name": "stderr"
        }
      ]
    },
    {
      "cell_type": "code",
      "metadata": {
        "id": "Dw1KsRP3FqYa",
        "colab_type": "code",
        "colab": {
          "base_uri": "https://localhost:8080/",
          "height": 35
        },
        "outputId": "68bd9d57-da0f-4da5-a2aa-83a0112b3f01"
      },
      "source": [
        "import time\n",
        "time.strftime('%H:%M%p %Z on %b %d, %Y')"
      ],
      "execution_count": 34,
      "outputs": [
        {
          "output_type": "execute_result",
          "data": {
            "text/plain": [
              "'09:45AM UTC on May 19, 2020'"
            ]
          },
          "metadata": {
            "tags": []
          },
          "execution_count": 34
        }
      ]
    },
    {
      "cell_type": "code",
      "metadata": {
        "id": "_eFaditMXZ-b",
        "colab_type": "code",
        "colab": {
          "base_uri": "https://localhost:8080/",
          "height": 35
        },
        "outputId": "b6b29121-d264-475c-f0b8-0bb8548b769a"
      },
      "source": [
        "import time\n",
        "time.strftime('%H:%M%p %Z on %b %d, %Y')"
      ],
      "execution_count": 36,
      "outputs": [
        {
          "output_type": "execute_result",
          "data": {
            "text/plain": [
              "'09:57AM UTC on May 19, 2020'"
            ]
          },
          "metadata": {
            "tags": []
          },
          "execution_count": 36
        }
      ]
    },
    {
      "cell_type": "code",
      "metadata": {
        "id": "wgLxeOn0XW3O",
        "colab_type": "code",
        "colab": {}
      },
      "source": [
        "samples = run_chain()"
      ],
      "execution_count": 0,
      "outputs": []
    },
    {
      "cell_type": "code",
      "metadata": {
        "id": "OqxlSQcCXb_1",
        "colab_type": "code",
        "colab": {
          "base_uri": "https://localhost:8080/",
          "height": 35
        },
        "outputId": "a181d33c-42b0-4db0-e25e-0c6cdaeabead"
      },
      "source": [
        "import time\n",
        "time.strftime('%H:%M%p %Z on %b %d, %Y')"
      ],
      "execution_count": 38,
      "outputs": [
        {
          "output_type": "execute_result",
          "data": {
            "text/plain": [
              "'09:57AM UTC on May 19, 2020'"
            ]
          },
          "metadata": {
            "tags": []
          },
          "execution_count": 38
        }
      ]
    },
    {
      "cell_type": "code",
      "metadata": {
        "id": "a8O6ffrUJavK",
        "colab_type": "code",
        "colab": {
          "base_uri": "https://localhost:8080/",
          "height": 1000
        },
        "outputId": "5c33d3eb-c49a-4a27-8aa4-31d057a80246"
      },
      "source": [
        "samples"
      ],
      "execution_count": 41,
      "outputs": [
        {
          "output_type": "execute_result",
          "data": {
            "text/plain": [
              "StatesAndTrace(all_states=DeviceArray([[ 0.12268019,  0.42049357,  0.06040732,  0.5695834 ,\n",
              "               1.7768118 , -1.362798  ],\n",
              "             [ 0.12268019,  0.42049357,  0.06040732,  0.5695834 ,\n",
              "               1.7768118 , -1.362798  ],\n",
              "             [ 0.12268019,  0.42049357,  0.06040732,  0.5695834 ,\n",
              "               1.7768118 , -1.362798  ],\n",
              "             ...,\n",
              "             [ 0.12268019,  0.42049357,  0.06040732,  0.5695834 ,\n",
              "               1.7768118 , -1.362798  ],\n",
              "             [ 0.12268019,  0.42049357,  0.06040732,  0.5695834 ,\n",
              "               1.7768118 , -1.362798  ],\n",
              "             [ 0.12268019,  0.42049357,  0.06040732,  0.5695834 ,\n",
              "               1.7768118 , -1.362798  ]], dtype=float32), trace=SimpleStepSizeAdaptationResults(inner_results=MetropolisHastingsKernelResults(accepted_results=UncalibratedHamiltonianMonteCarloKernelResults(log_acceptance_correction=DeviceArray([0., 0., 0., 0., 0., 0., 0., 0., 0., 0., 0., 0., 0., 0., 0.,\n",
              "             0., 0., 0., 0., 0., 0., 0., 0., 0., 0., 0., 0., 0., 0., 0.,\n",
              "             0., 0., 0., 0., 0., 0., 0., 0., 0., 0., 0., 0., 0., 0., 0.,\n",
              "             0., 0., 0., 0., 0., 0., 0., 0., 0., 0., 0., 0., 0., 0., 0.,\n",
              "             0., 0., 0., 0., 0., 0., 0., 0., 0., 0., 0., 0., 0., 0., 0.,\n",
              "             0., 0., 0., 0., 0., 0., 0., 0., 0., 0., 0., 0., 0., 0., 0.,\n",
              "             0., 0., 0., 0., 0., 0., 0., 0., 0., 0., 0., 0., 0., 0., 0.,\n",
              "             0., 0., 0., 0., 0., 0., 0., 0., 0., 0., 0., 0., 0., 0., 0.,\n",
              "             0., 0., 0., 0., 0., 0., 0., 0., 0., 0., 0., 0., 0., 0., 0.,\n",
              "             0., 0., 0., 0., 0., 0., 0., 0., 0., 0., 0., 0., 0., 0., 0.,\n",
              "             0., 0., 0., 0., 0., 0., 0., 0., 0., 0., 0., 0., 0., 0., 0.,\n",
              "             0., 0., 0., 0., 0., 0., 0., 0., 0., 0., 0., 0., 0., 0., 0.,\n",
              "             0., 0., 0., 0., 0., 0., 0., 0., 0., 0., 0., 0., 0., 0., 0.,\n",
              "             0., 0., 0., 0., 0., 0., 0., 0., 0., 0., 0., 0., 0., 0., 0.,\n",
              "             0., 0., 0., 0., 0., 0., 0., 0., 0., 0., 0., 0., 0., 0., 0.,\n",
              "             0., 0., 0., 0., 0., 0., 0., 0., 0., 0., 0., 0., 0., 0., 0.,\n",
              "             0., 0., 0., 0., 0., 0., 0., 0., 0., 0., 0., 0., 0., 0., 0.,\n",
              "             0., 0., 0., 0., 0., 0., 0., 0., 0., 0., 0., 0., 0., 0., 0.,\n",
              "             0., 0., 0., 0., 0., 0., 0., 0., 0., 0., 0., 0., 0., 0., 0.,\n",
              "             0., 0., 0., 0., 0., 0., 0., 0., 0., 0., 0., 0., 0., 0., 0.,\n",
              "             0., 0., 0., 0., 0., 0., 0., 0., 0., 0., 0., 0., 0., 0., 0.,\n",
              "             0., 0., 0., 0., 0., 0., 0., 0., 0., 0., 0., 0., 0., 0., 0.,\n",
              "             0., 0., 0., 0., 0., 0., 0., 0., 0., 0., 0., 0., 0., 0., 0.,\n",
              "             0., 0., 0., 0., 0., 0., 0., 0., 0., 0., 0., 0., 0., 0., 0.,\n",
              "             0., 0., 0., 0., 0., 0., 0., 0., 0., 0., 0., 0., 0., 0., 0.,\n",
              "             0., 0., 0., 0., 0., 0., 0., 0., 0., 0., 0., 0., 0., 0., 0.,\n",
              "             0., 0., 0., 0., 0., 0., 0., 0., 0., 0., 0., 0., 0., 0., 0.,\n",
              "             0., 0., 0., 0., 0., 0., 0., 0., 0., 0., 0., 0., 0., 0., 0.,\n",
              "             0., 0., 0., 0., 0., 0., 0., 0., 0., 0., 0., 0., 0., 0., 0.,\n",
              "             0., 0., 0., 0., 0., 0., 0., 0., 0., 0., 0., 0., 0., 0., 0.,\n",
              "             0., 0., 0., 0., 0., 0., 0., 0., 0., 0., 0., 0., 0., 0., 0.,\n",
              "             0., 0., 0., 0., 0., 0., 0., 0., 0., 0., 0., 0., 0., 0., 0.,\n",
              "             0., 0., 0., 0., 0., 0., 0., 0., 0., 0., 0., 0., 0., 0., 0.,\n",
              "             0., 0., 0., 0., 0., 0., 0., 0., 0., 0., 0., 0., 0., 0., 0.,\n",
              "             0., 0., 0., 0., 0., 0., 0., 0., 0., 0., 0., 0., 0., 0., 0.,\n",
              "             0., 0., 0., 0., 0., 0., 0., 0., 0., 0., 0., 0., 0., 0., 0.,\n",
              "             0., 0., 0., 0., 0., 0., 0., 0., 0., 0., 0., 0., 0., 0., 0.,\n",
              "             0., 0., 0., 0., 0., 0., 0., 0., 0., 0., 0., 0., 0., 0., 0.,\n",
              "             0., 0., 0., 0., 0., 0., 0., 0., 0., 0., 0., 0., 0., 0., 0.,\n",
              "             0., 0., 0., 0., 0., 0., 0., 0., 0., 0., 0., 0., 0., 0., 0.,\n",
              "             0., 0., 0., 0., 0., 0., 0., 0., 0., 0., 0., 0., 0., 0., 0.,\n",
              "             0., 0., 0., 0., 0., 0., 0., 0., 0., 0., 0., 0., 0., 0., 0.,\n",
              "             0., 0., 0., 0., 0., 0., 0., 0., 0., 0., 0., 0., 0., 0., 0.,\n",
              "             0., 0., 0., 0., 0., 0., 0., 0., 0., 0., 0., 0., 0., 0., 0.,\n",
              "             0., 0., 0., 0., 0., 0., 0., 0., 0., 0., 0., 0., 0., 0., 0.,\n",
              "             0., 0., 0., 0., 0., 0., 0., 0., 0., 0., 0., 0., 0., 0., 0.,\n",
              "             0., 0., 0., 0., 0., 0., 0., 0., 0., 0., 0., 0., 0., 0., 0.,\n",
              "             0., 0., 0., 0., 0., 0., 0., 0., 0., 0., 0., 0., 0., 0., 0.,\n",
              "             0., 0., 0., 0., 0., 0., 0., 0., 0., 0., 0., 0., 0., 0., 0.,\n",
              "             0., 0., 0., 0., 0., 0., 0., 0., 0., 0., 0., 0., 0., 0., 0.,\n",
              "             0., 0., 0., 0., 0., 0., 0., 0., 0., 0., 0., 0., 0., 0., 0.,\n",
              "             0., 0., 0., 0., 0., 0., 0., 0., 0., 0., 0., 0., 0., 0., 0.,\n",
              "             0., 0., 0., 0., 0., 0., 0., 0., 0., 0., 0., 0., 0., 0., 0.,\n",
              "             0., 0., 0., 0., 0., 0., 0., 0., 0., 0., 0., 0., 0., 0., 0.,\n",
              "             0., 0., 0., 0., 0., 0., 0., 0., 0., 0., 0., 0., 0., 0., 0.,\n",
              "             0., 0., 0., 0., 0., 0., 0., 0., 0., 0., 0., 0., 0., 0., 0.,\n",
              "             0., 0., 0., 0., 0., 0., 0., 0., 0., 0., 0., 0., 0., 0., 0.,\n",
              "             0., 0., 0., 0., 0., 0., 0., 0., 0., 0., 0., 0., 0., 0., 0.,\n",
              "             0., 0., 0., 0., 0., 0., 0., 0., 0., 0., 0., 0., 0., 0., 0.,\n",
              "             0., 0., 0., 0., 0., 0., 0., 0., 0., 0., 0., 0., 0., 0., 0.,\n",
              "             0., 0., 0., 0., 0., 0., 0., 0., 0., 0., 0., 0., 0., 0., 0.,\n",
              "             0., 0., 0., 0., 0., 0., 0., 0., 0., 0., 0., 0., 0., 0., 0.,\n",
              "             0., 0., 0., 0., 0., 0., 0., 0., 0., 0., 0., 0., 0., 0., 0.,\n",
              "             0., 0., 0., 0., 0., 0., 0., 0., 0., 0., 0., 0., 0., 0., 0.,\n",
              "             0., 0., 0., 0., 0., 0., 0., 0., 0., 0., 0., 0., 0., 0., 0.,\n",
              "             0., 0., 0., 0., 0., 0., 0., 0., 0., 0., 0., 0., 0., 0., 0.,\n",
              "             0., 0., 0., 0., 0., 0., 0., 0., 0., 0.], dtype=float32), target_log_prob=DeviceArray([9269.067, 9269.067, 9269.067, 9269.067, 9269.067, 9269.067,\n",
              "             9269.067, 9269.067, 9269.067, 9269.067, 9269.067, 9269.067,\n",
              "             9269.067, 9269.067, 9269.067, 9269.067, 9269.067, 9269.067,\n",
              "             9269.067, 9269.067, 9269.067, 9269.067, 9269.067, 9269.067,\n",
              "             9269.067, 9269.067, 9269.067, 9269.067, 9269.067, 9269.067,\n",
              "             9269.067, 9269.067, 9269.067, 9269.067, 9269.067, 9269.067,\n",
              "             9269.067, 9269.067, 9269.067, 9269.067, 9269.067, 9269.067,\n",
              "             9269.067, 9269.067, 9269.067, 9269.067, 9269.067, 9269.067,\n",
              "             9269.067, 9269.067, 9269.067, 9269.067, 9269.067, 9269.067,\n",
              "             9269.067, 9269.067, 9269.067, 9269.067, 9269.067, 9269.067,\n",
              "             9269.067, 9269.067, 9269.067, 9269.067, 9269.067, 9269.067,\n",
              "             9269.067, 9269.067, 9269.067, 9269.067, 9269.067, 9269.067,\n",
              "             9269.067, 9269.067, 9269.067, 9269.067, 9269.067, 9269.067,\n",
              "             9269.067, 9269.067, 9269.067, 9269.067, 9269.067, 9269.067,\n",
              "             9269.067, 9269.067, 9269.067, 9269.067, 9269.067, 9269.067,\n",
              "             9269.067, 9269.067, 9269.067, 9269.067, 9269.067, 9269.067,\n",
              "             9269.067, 9269.067, 9269.067, 9269.067, 9269.067, 9269.067,\n",
              "             9269.067, 9269.067, 9269.067, 9269.067, 9269.067, 9269.067,\n",
              "             9269.067, 9269.067, 9269.067, 9269.067, 9269.067, 9269.067,\n",
              "             9269.067, 9269.067, 9269.067, 9269.067, 9269.067, 9269.067,\n",
              "             9269.067, 9269.067, 9269.067, 9269.067, 9269.067, 9269.067,\n",
              "             9269.067, 9269.067, 9269.067, 9269.067, 9269.067, 9269.067,\n",
              "             9269.067, 9269.067, 9269.067, 9269.067, 9269.067, 9269.067,\n",
              "             9269.067, 9269.067, 9269.067, 9269.067, 9269.067, 9269.067,\n",
              "             9269.067, 9269.067, 9269.067, 9269.067, 9269.067, 9269.067,\n",
              "             9269.067, 9269.067, 9269.067, 9269.067, 9269.067, 9269.067,\n",
              "             9269.067, 9269.067, 9269.067, 9269.067, 9269.067, 9269.067,\n",
              "             9269.067, 9269.067, 9269.067, 9269.067, 9269.067, 9269.067,\n",
              "             9269.067, 9269.067, 9269.067, 9269.067, 9269.067, 9269.067,\n",
              "             9269.067, 9269.067, 9269.067, 9269.067, 9269.067, 9269.067,\n",
              "             9269.067, 9269.067, 9269.067, 9269.067, 9269.067, 9269.067,\n",
              "             9269.067, 9269.067, 9269.067, 9269.067, 9269.067, 9269.067,\n",
              "             9269.067, 9269.067, 9269.067, 9269.067, 9269.067, 9269.067,\n",
              "             9269.067, 9269.067, 9269.067, 9269.067, 9269.067, 9269.067,\n",
              "             9269.067, 9269.067, 9269.067, 9269.067, 9269.067, 9269.067,\n",
              "             9269.067, 9269.067, 9269.067, 9269.067, 9269.067, 9269.067,\n",
              "             9269.067, 9269.067, 9269.067, 9269.067, 9269.067, 9269.067,\n",
              "             9269.067, 9269.067, 9269.067, 9269.067, 9269.067, 9269.067,\n",
              "             9269.067, 9269.067, 9269.067, 9269.067, 9269.067, 9269.067,\n",
              "             9269.067, 9269.067, 9269.067, 9269.067, 9269.067, 9269.067,\n",
              "             9269.067, 9269.067, 9269.067, 9269.067, 9269.067, 9269.067,\n",
              "             9269.067, 9269.067, 9269.067, 9269.067, 9269.067, 9269.067,\n",
              "             9269.067, 9269.067, 9269.067, 9269.067, 9269.067, 9269.067,\n",
              "             9269.067, 9269.067, 9269.067, 9269.067, 9269.067, 9269.067,\n",
              "             9269.067, 9269.067, 9269.067, 9269.067, 9269.067, 9269.067,\n",
              "             9269.067, 9269.067, 9269.067, 9269.067, 9269.067, 9269.067,\n",
              "             9269.067, 9269.067, 9269.067, 9269.067, 9269.067, 9269.067,\n",
              "             9269.067, 9269.067, 9269.067, 9269.067, 9269.067, 9269.067,\n",
              "             9269.067, 9269.067, 9269.067, 9269.067, 9269.067, 9269.067,\n",
              "             9269.067, 9269.067, 9269.067, 9269.067, 9269.067, 9269.067,\n",
              "             9269.067, 9269.067, 9269.067, 9269.067, 9269.067, 9269.067,\n",
              "             9269.067, 9269.067, 9269.067, 9269.067, 9269.067, 9269.067,\n",
              "             9269.067, 9269.067, 9269.067, 9269.067, 9269.067, 9269.067,\n",
              "             9269.067, 9269.067, 9269.067, 9269.067, 9269.067, 9269.067,\n",
              "             9269.067, 9269.067, 9269.067, 9269.067, 9269.067, 9269.067,\n",
              "             9269.067, 9269.067, 9269.067, 9269.067, 9269.067, 9269.067,\n",
              "             9269.067, 9269.067, 9269.067, 9269.067, 9269.067, 9269.067,\n",
              "             9269.067, 9269.067, 9269.067, 9269.067, 9269.067, 9269.067,\n",
              "             9269.067, 9269.067, 9269.067, 9269.067, 9269.067, 9269.067,\n",
              "             9269.067, 9269.067, 9269.067, 9269.067, 9269.067, 9269.067,\n",
              "             9269.067, 9269.067, 9269.067, 9269.067, 9269.067, 9269.067,\n",
              "             9269.067, 9269.067, 9269.067, 9269.067, 9269.067, 9269.067,\n",
              "             9269.067, 9269.067, 9269.067, 9269.067, 9269.067, 9269.067,\n",
              "             9269.067, 9269.067, 9269.067, 9269.067, 9269.067, 9269.067,\n",
              "             9269.067, 9269.067, 9269.067, 9269.067, 9269.067, 9269.067,\n",
              "             9269.067, 9269.067, 9269.067, 9269.067, 9269.067, 9269.067,\n",
              "             9269.067, 9269.067, 9269.067, 9269.067, 9269.067, 9269.067,\n",
              "             9269.067, 9269.067, 9269.067, 9269.067, 9269.067, 9269.067,\n",
              "             9269.067, 9269.067, 9269.067, 9269.067, 9269.067, 9269.067,\n",
              "             9269.067, 9269.067, 9269.067, 9269.067, 9269.067, 9269.067,\n",
              "             9269.067, 9269.067, 9269.067, 9269.067, 9269.067, 9269.067,\n",
              "             9269.067, 9269.067, 9269.067, 9269.067, 9269.067, 9269.067,\n",
              "             9269.067, 9269.067, 9269.067, 9269.067, 9269.067, 9269.067,\n",
              "             9269.067, 9269.067, 9269.067, 9269.067, 9269.067, 9269.067,\n",
              "             9269.067, 9269.067, 9269.067, 9269.067, 9269.067, 9269.067,\n",
              "             9269.067, 9269.067, 9269.067, 9269.067, 9269.067, 9269.067,\n",
              "             9269.067, 9269.067, 9269.067, 9269.067, 9269.067, 9269.067,\n",
              "             9269.067, 9269.067, 9269.067, 9269.067, 9269.067, 9269.067,\n",
              "             9269.067, 9269.067, 9269.067, 9269.067, 9269.067, 9269.067,\n",
              "             9269.067, 9269.067, 9269.067, 9269.067, 9269.067, 9269.067,\n",
              "             9269.067, 9269.067, 9269.067, 9269.067, 9269.067, 9269.067,\n",
              "             9269.067, 9269.067, 9269.067, 9269.067, 9269.067, 9269.067,\n",
              "             9269.067, 9269.067, 9269.067, 9269.067, 9269.067, 9269.067,\n",
              "             9269.067, 9269.067, 9269.067, 9269.067, 9269.067, 9269.067,\n",
              "             9269.067, 9269.067, 9269.067, 9269.067, 9269.067, 9269.067,\n",
              "             9269.067, 9269.067, 9269.067, 9269.067, 9269.067, 9269.067,\n",
              "             9269.067, 9269.067, 9269.067, 9269.067, 9269.067, 9269.067,\n",
              "             9269.067, 9269.067, 9269.067, 9269.067, 9269.067, 9269.067,\n",
              "             9269.067, 9269.067, 9269.067, 9269.067, 9269.067, 9269.067,\n",
              "             9269.067, 9269.067, 9269.067, 9269.067, 9269.067, 9269.067,\n",
              "             9269.067, 9269.067, 9269.067, 9269.067, 9269.067, 9269.067,\n",
              "             9269.067, 9269.067, 9269.067, 9269.067, 9269.067, 9269.067,\n",
              "             9269.067, 9269.067, 9269.067, 9269.067, 9269.067, 9269.067,\n",
              "             9269.067, 9269.067, 9269.067, 9269.067, 9269.067, 9269.067,\n",
              "             9269.067, 9269.067, 9269.067, 9269.067, 9269.067, 9269.067,\n",
              "             9269.067, 9269.067, 9269.067, 9269.067, 9269.067, 9269.067,\n",
              "             9269.067, 9269.067, 9269.067, 9269.067, 9269.067, 9269.067,\n",
              "             9269.067, 9269.067, 9269.067, 9269.067, 9269.067, 9269.067,\n",
              "             9269.067, 9269.067, 9269.067, 9269.067, 9269.067, 9269.067,\n",
              "             9269.067, 9269.067, 9269.067, 9269.067, 9269.067, 9269.067,\n",
              "             9269.067, 9269.067, 9269.067, 9269.067, 9269.067, 9269.067,\n",
              "             9269.067, 9269.067, 9269.067, 9269.067, 9269.067, 9269.067,\n",
              "             9269.067, 9269.067, 9269.067, 9269.067, 9269.067, 9269.067,\n",
              "             9269.067, 9269.067, 9269.067, 9269.067, 9269.067, 9269.067,\n",
              "             9269.067, 9269.067, 9269.067, 9269.067, 9269.067, 9269.067,\n",
              "             9269.067, 9269.067, 9269.067, 9269.067, 9269.067, 9269.067,\n",
              "             9269.067, 9269.067, 9269.067, 9269.067, 9269.067, 9269.067,\n",
              "             9269.067, 9269.067, 9269.067, 9269.067, 9269.067, 9269.067,\n",
              "             9269.067, 9269.067, 9269.067, 9269.067, 9269.067, 9269.067,\n",
              "             9269.067, 9269.067, 9269.067, 9269.067, 9269.067, 9269.067,\n",
              "             9269.067, 9269.067, 9269.067, 9269.067, 9269.067, 9269.067,\n",
              "             9269.067, 9269.067, 9269.067, 9269.067, 9269.067, 9269.067,\n",
              "             9269.067, 9269.067, 9269.067, 9269.067, 9269.067, 9269.067,\n",
              "             9269.067, 9269.067, 9269.067, 9269.067, 9269.067, 9269.067,\n",
              "             9269.067, 9269.067, 9269.067, 9269.067, 9269.067, 9269.067,\n",
              "             9269.067, 9269.067, 9269.067, 9269.067, 9269.067, 9269.067,\n",
              "             9269.067, 9269.067, 9269.067, 9269.067, 9269.067, 9269.067,\n",
              "             9269.067, 9269.067, 9269.067, 9269.067, 9269.067, 9269.067,\n",
              "             9269.067, 9269.067, 9269.067, 9269.067, 9269.067, 9269.067,\n",
              "             9269.067, 9269.067, 9269.067, 9269.067, 9269.067, 9269.067,\n",
              "             9269.067, 9269.067, 9269.067, 9269.067, 9269.067, 9269.067,\n",
              "             9269.067, 9269.067, 9269.067, 9269.067, 9269.067, 9269.067,\n",
              "             9269.067, 9269.067, 9269.067, 9269.067, 9269.067, 9269.067,\n",
              "             9269.067, 9269.067, 9269.067, 9269.067, 9269.067, 9269.067,\n",
              "             9269.067, 9269.067, 9269.067, 9269.067, 9269.067, 9269.067,\n",
              "             9269.067, 9269.067, 9269.067, 9269.067, 9269.067, 9269.067,\n",
              "             9269.067, 9269.067, 9269.067, 9269.067, 9269.067, 9269.067,\n",
              "             9269.067, 9269.067, 9269.067, 9269.067, 9269.067, 9269.067,\n",
              "             9269.067, 9269.067, 9269.067, 9269.067, 9269.067, 9269.067,\n",
              "             9269.067, 9269.067, 9269.067, 9269.067, 9269.067, 9269.067,\n",
              "             9269.067, 9269.067, 9269.067, 9269.067, 9269.067, 9269.067,\n",
              "             9269.067, 9269.067, 9269.067, 9269.067, 9269.067, 9269.067,\n",
              "             9269.067, 9269.067, 9269.067, 9269.067, 9269.067, 9269.067,\n",
              "             9269.067, 9269.067, 9269.067, 9269.067, 9269.067, 9269.067,\n",
              "             9269.067, 9269.067, 9269.067, 9269.067, 9269.067, 9269.067,\n",
              "             9269.067, 9269.067, 9269.067, 9269.067, 9269.067, 9269.067,\n",
              "             9269.067, 9269.067, 9269.067, 9269.067, 9269.067, 9269.067,\n",
              "             9269.067, 9269.067, 9269.067, 9269.067, 9269.067, 9269.067,\n",
              "             9269.067, 9269.067, 9269.067, 9269.067, 9269.067, 9269.067,\n",
              "             9269.067, 9269.067, 9269.067, 9269.067, 9269.067, 9269.067,\n",
              "             9269.067, 9269.067, 9269.067, 9269.067, 9269.067, 9269.067,\n",
              "             9269.067, 9269.067, 9269.067, 9269.067, 9269.067, 9269.067,\n",
              "             9269.067, 9269.067, 9269.067, 9269.067, 9269.067, 9269.067,\n",
              "             9269.067, 9269.067, 9269.067, 9269.067, 9269.067, 9269.067,\n",
              "             9269.067, 9269.067, 9269.067, 9269.067, 9269.067, 9269.067,\n",
              "             9269.067, 9269.067, 9269.067, 9269.067, 9269.067, 9269.067,\n",
              "             9269.067, 9269.067, 9269.067, 9269.067, 9269.067, 9269.067,\n",
              "             9269.067, 9269.067, 9269.067, 9269.067, 9269.067, 9269.067,\n",
              "             9269.067, 9269.067, 9269.067, 9269.067, 9269.067, 9269.067,\n",
              "             9269.067, 9269.067, 9269.067, 9269.067, 9269.067, 9269.067,\n",
              "             9269.067, 9269.067, 9269.067, 9269.067, 9269.067, 9269.067,\n",
              "             9269.067, 9269.067, 9269.067, 9269.067, 9269.067, 9269.067,\n",
              "             9269.067, 9269.067, 9269.067, 9269.067, 9269.067, 9269.067,\n",
              "             9269.067, 9269.067, 9269.067, 9269.067, 9269.067, 9269.067,\n",
              "             9269.067, 9269.067, 9269.067, 9269.067, 9269.067, 9269.067,\n",
              "             9269.067, 9269.067, 9269.067, 9269.067, 9269.067, 9269.067,\n",
              "             9269.067, 9269.067, 9269.067, 9269.067, 9269.067, 9269.067,\n",
              "             9269.067, 9269.067, 9269.067, 9269.067, 9269.067, 9269.067,\n",
              "             9269.067, 9269.067, 9269.067, 9269.067, 9269.067, 9269.067,\n",
              "             9269.067, 9269.067, 9269.067, 9269.067, 9269.067, 9269.067,\n",
              "             9269.067, 9269.067, 9269.067, 9269.067, 9269.067, 9269.067,\n",
              "             9269.067, 9269.067, 9269.067, 9269.067, 9269.067, 9269.067,\n",
              "             9269.067, 9269.067, 9269.067, 9269.067, 9269.067, 9269.067,\n",
              "             9269.067, 9269.067, 9269.067, 9269.067, 9269.067, 9269.067,\n",
              "             9269.067, 9269.067, 9269.067, 9269.067, 9269.067, 9269.067,\n",
              "             9269.067, 9269.067, 9269.067, 9269.067, 9269.067, 9269.067,\n",
              "             9269.067, 9269.067, 9269.067, 9269.067], dtype=float32), grads_target_log_prob=[DeviceArray([[679.2681  , 412.39798 , 595.5644  ,  14.242859,  26.268532,\n",
              "              -27.011232],\n",
              "             [679.2681  , 412.39798 , 595.5644  ,  14.242859,  26.268532,\n",
              "              -27.011232],\n",
              "             [679.2681  , 412.39798 , 595.5644  ,  14.242859,  26.268532,\n",
              "              -27.011232],\n",
              "             ...,\n",
              "             [679.2681  , 412.39798 , 595.5644  ,  14.242859,  26.268532,\n",
              "              -27.011232],\n",
              "             [679.2681  , 412.39798 , 595.5644  ,  14.242859,  26.268532,\n",
              "              -27.011232],\n",
              "             [679.2681  , 412.39798 , 595.5644  ,  14.242859,  26.268532,\n",
              "              -27.011232]], dtype=float32)], step_size=DeviceArray([0.451118, 0.451118, 0.451118, 0.451118, 0.451118, 0.451118,\n",
              "             0.451118, 0.451118, 0.451118, 0.451118, 0.451118, 0.451118,\n",
              "             0.451118, 0.451118, 0.451118, 0.451118, 0.451118, 0.451118,\n",
              "             0.451118, 0.451118, 0.451118, 0.451118, 0.451118, 0.451118,\n",
              "             0.451118, 0.451118, 0.451118, 0.451118, 0.451118, 0.451118,\n",
              "             0.451118, 0.451118, 0.451118, 0.451118, 0.451118, 0.451118,\n",
              "             0.451118, 0.451118, 0.451118, 0.451118, 0.451118, 0.451118,\n",
              "             0.451118, 0.451118, 0.451118, 0.451118, 0.451118, 0.451118,\n",
              "             0.451118, 0.451118, 0.451118, 0.451118, 0.451118, 0.451118,\n",
              "             0.451118, 0.451118, 0.451118, 0.451118, 0.451118, 0.451118,\n",
              "             0.451118, 0.451118, 0.451118, 0.451118, 0.451118, 0.451118,\n",
              "             0.451118, 0.451118, 0.451118, 0.451118, 0.451118, 0.451118,\n",
              "             0.451118, 0.451118, 0.451118, 0.451118, 0.451118, 0.451118,\n",
              "             0.451118, 0.451118, 0.451118, 0.451118, 0.451118, 0.451118,\n",
              "             0.451118, 0.451118, 0.451118, 0.451118, 0.451118, 0.451118,\n",
              "             0.451118, 0.451118, 0.451118, 0.451118, 0.451118, 0.451118,\n",
              "             0.451118, 0.451118, 0.451118, 0.451118, 0.451118, 0.451118,\n",
              "             0.451118, 0.451118, 0.451118, 0.451118, 0.451118, 0.451118,\n",
              "             0.451118, 0.451118, 0.451118, 0.451118, 0.451118, 0.451118,\n",
              "             0.451118, 0.451118, 0.451118, 0.451118, 0.451118, 0.451118,\n",
              "             0.451118, 0.451118, 0.451118, 0.451118, 0.451118, 0.451118,\n",
              "             0.451118, 0.451118, 0.451118, 0.451118, 0.451118, 0.451118,\n",
              "             0.451118, 0.451118, 0.451118, 0.451118, 0.451118, 0.451118,\n",
              "             0.451118, 0.451118, 0.451118, 0.451118, 0.451118, 0.451118,\n",
              "             0.451118, 0.451118, 0.451118, 0.451118, 0.451118, 0.451118,\n",
              "             0.451118, 0.451118, 0.451118, 0.451118, 0.451118, 0.451118,\n",
              "             0.451118, 0.451118, 0.451118, 0.451118, 0.451118, 0.451118,\n",
              "             0.451118, 0.451118, 0.451118, 0.451118, 0.451118, 0.451118,\n",
              "             0.451118, 0.451118, 0.451118, 0.451118, 0.451118, 0.451118,\n",
              "             0.451118, 0.451118, 0.451118, 0.451118, 0.451118, 0.451118,\n",
              "             0.451118, 0.451118, 0.451118, 0.451118, 0.451118, 0.451118,\n",
              "             0.451118, 0.451118, 0.451118, 0.451118, 0.451118, 0.451118,\n",
              "             0.451118, 0.451118, 0.451118, 0.451118, 0.451118, 0.451118,\n",
              "             0.451118, 0.451118, 0.451118, 0.451118, 0.451118, 0.451118,\n",
              "             0.451118, 0.451118, 0.451118, 0.451118, 0.451118, 0.451118,\n",
              "             0.451118, 0.451118, 0.451118, 0.451118, 0.451118, 0.451118,\n",
              "             0.451118, 0.451118, 0.451118, 0.451118, 0.451118, 0.451118,\n",
              "             0.451118, 0.451118, 0.451118, 0.451118, 0.451118, 0.451118,\n",
              "             0.451118, 0.451118, 0.451118, 0.451118, 0.451118, 0.451118,\n",
              "             0.451118, 0.451118, 0.451118, 0.451118, 0.451118, 0.451118,\n",
              "             0.451118, 0.451118, 0.451118, 0.451118, 0.451118, 0.451118,\n",
              "             0.451118, 0.451118, 0.451118, 0.451118, 0.451118, 0.451118,\n",
              "             0.451118, 0.451118, 0.451118, 0.451118, 0.451118, 0.451118,\n",
              "             0.451118, 0.451118, 0.451118, 0.451118, 0.451118, 0.451118,\n",
              "             0.451118, 0.451118, 0.451118, 0.451118, 0.451118, 0.451118,\n",
              "             0.451118, 0.451118, 0.451118, 0.451118, 0.451118, 0.451118,\n",
              "             0.451118, 0.451118, 0.451118, 0.451118, 0.451118, 0.451118,\n",
              "             0.451118, 0.451118, 0.451118, 0.451118, 0.451118, 0.451118,\n",
              "             0.451118, 0.451118, 0.451118, 0.451118, 0.451118, 0.451118,\n",
              "             0.451118, 0.451118, 0.451118, 0.451118, 0.451118, 0.451118,\n",
              "             0.451118, 0.451118, 0.451118, 0.451118, 0.451118, 0.451118,\n",
              "             0.451118, 0.451118, 0.451118, 0.451118, 0.451118, 0.451118,\n",
              "             0.451118, 0.451118, 0.451118, 0.451118, 0.451118, 0.451118,\n",
              "             0.451118, 0.451118, 0.451118, 0.451118, 0.451118, 0.451118,\n",
              "             0.451118, 0.451118, 0.451118, 0.451118, 0.451118, 0.451118,\n",
              "             0.451118, 0.451118, 0.451118, 0.451118, 0.451118, 0.451118,\n",
              "             0.451118, 0.451118, 0.451118, 0.451118, 0.451118, 0.451118,\n",
              "             0.451118, 0.451118, 0.451118, 0.451118, 0.451118, 0.451118,\n",
              "             0.451118, 0.451118, 0.451118, 0.451118, 0.451118, 0.451118,\n",
              "             0.451118, 0.451118, 0.451118, 0.451118, 0.451118, 0.451118,\n",
              "             0.451118, 0.451118, 0.451118, 0.451118, 0.451118, 0.451118,\n",
              "             0.451118, 0.451118, 0.451118, 0.451118, 0.451118, 0.451118,\n",
              "             0.451118, 0.451118, 0.451118, 0.451118, 0.451118, 0.451118,\n",
              "             0.451118, 0.451118, 0.451118, 0.451118, 0.451118, 0.451118,\n",
              "             0.451118, 0.451118, 0.451118, 0.451118, 0.451118, 0.451118,\n",
              "             0.451118, 0.451118, 0.451118, 0.451118, 0.451118, 0.451118,\n",
              "             0.451118, 0.451118, 0.451118, 0.451118, 0.451118, 0.451118,\n",
              "             0.451118, 0.451118, 0.451118, 0.451118, 0.451118, 0.451118,\n",
              "             0.451118, 0.451118, 0.451118, 0.451118, 0.451118, 0.451118,\n",
              "             0.451118, 0.451118, 0.451118, 0.451118, 0.451118, 0.451118,\n",
              "             0.451118, 0.451118, 0.451118, 0.451118, 0.451118, 0.451118,\n",
              "             0.451118, 0.451118, 0.451118, 0.451118, 0.451118, 0.451118,\n",
              "             0.451118, 0.451118, 0.451118, 0.451118, 0.451118, 0.451118,\n",
              "             0.451118, 0.451118, 0.451118, 0.451118, 0.451118, 0.451118,\n",
              "             0.451118, 0.451118, 0.451118, 0.451118, 0.451118, 0.451118,\n",
              "             0.451118, 0.451118, 0.451118, 0.451118, 0.451118, 0.451118,\n",
              "             0.451118, 0.451118, 0.451118, 0.451118, 0.451118, 0.451118,\n",
              "             0.451118, 0.451118, 0.451118, 0.451118, 0.451118, 0.451118,\n",
              "             0.451118, 0.451118, 0.451118, 0.451118, 0.451118, 0.451118,\n",
              "             0.451118, 0.451118, 0.451118, 0.451118, 0.451118, 0.451118,\n",
              "             0.451118, 0.451118, 0.451118, 0.451118, 0.451118, 0.451118,\n",
              "             0.451118, 0.451118, 0.451118, 0.451118, 0.451118, 0.451118,\n",
              "             0.451118, 0.451118, 0.451118, 0.451118, 0.451118, 0.451118,\n",
              "             0.451118, 0.451118, 0.451118, 0.451118, 0.451118, 0.451118,\n",
              "             0.451118, 0.451118, 0.451118, 0.451118, 0.451118, 0.451118,\n",
              "             0.451118, 0.451118, 0.451118, 0.451118, 0.451118, 0.451118,\n",
              "             0.451118, 0.451118, 0.451118, 0.451118, 0.451118, 0.451118,\n",
              "             0.451118, 0.451118, 0.451118, 0.451118, 0.451118, 0.451118,\n",
              "             0.451118, 0.451118, 0.451118, 0.451118, 0.451118, 0.451118,\n",
              "             0.451118, 0.451118, 0.451118, 0.451118, 0.451118, 0.451118,\n",
              "             0.451118, 0.451118, 0.451118, 0.451118, 0.451118, 0.451118,\n",
              "             0.451118, 0.451118, 0.451118, 0.451118, 0.451118, 0.451118,\n",
              "             0.451118, 0.451118, 0.451118, 0.451118, 0.451118, 0.451118,\n",
              "             0.451118, 0.451118, 0.451118, 0.451118, 0.451118, 0.451118,\n",
              "             0.451118, 0.451118, 0.451118, 0.451118, 0.451118, 0.451118,\n",
              "             0.451118, 0.451118, 0.451118, 0.451118, 0.451118, 0.451118,\n",
              "             0.451118, 0.451118, 0.451118, 0.451118, 0.451118, 0.451118,\n",
              "             0.451118, 0.451118, 0.451118, 0.451118, 0.451118, 0.451118,\n",
              "             0.451118, 0.451118, 0.451118, 0.451118, 0.451118, 0.451118,\n",
              "             0.451118, 0.451118, 0.451118, 0.451118, 0.451118, 0.451118,\n",
              "             0.451118, 0.451118, 0.451118, 0.451118, 0.451118, 0.451118,\n",
              "             0.451118, 0.451118, 0.451118, 0.451118, 0.451118, 0.451118,\n",
              "             0.451118, 0.451118, 0.451118, 0.451118, 0.451118, 0.451118,\n",
              "             0.451118, 0.451118, 0.451118, 0.451118, 0.451118, 0.451118,\n",
              "             0.451118, 0.451118, 0.451118, 0.451118, 0.451118, 0.451118,\n",
              "             0.451118, 0.451118, 0.451118, 0.451118, 0.451118, 0.451118,\n",
              "             0.451118, 0.451118, 0.451118, 0.451118, 0.451118, 0.451118,\n",
              "             0.451118, 0.451118, 0.451118, 0.451118, 0.451118, 0.451118,\n",
              "             0.451118, 0.451118, 0.451118, 0.451118, 0.451118, 0.451118,\n",
              "             0.451118, 0.451118, 0.451118, 0.451118, 0.451118, 0.451118,\n",
              "             0.451118, 0.451118, 0.451118, 0.451118, 0.451118, 0.451118,\n",
              "             0.451118, 0.451118, 0.451118, 0.451118, 0.451118, 0.451118,\n",
              "             0.451118, 0.451118, 0.451118, 0.451118, 0.451118, 0.451118,\n",
              "             0.451118, 0.451118, 0.451118, 0.451118, 0.451118, 0.451118,\n",
              "             0.451118, 0.451118, 0.451118, 0.451118, 0.451118, 0.451118,\n",
              "             0.451118, 0.451118, 0.451118, 0.451118, 0.451118, 0.451118,\n",
              "             0.451118, 0.451118, 0.451118, 0.451118, 0.451118, 0.451118,\n",
              "             0.451118, 0.451118, 0.451118, 0.451118, 0.451118, 0.451118,\n",
              "             0.451118, 0.451118, 0.451118, 0.451118, 0.451118, 0.451118,\n",
              "             0.451118, 0.451118, 0.451118, 0.451118, 0.451118, 0.451118,\n",
              "             0.451118, 0.451118, 0.451118, 0.451118, 0.451118, 0.451118,\n",
              "             0.451118, 0.451118, 0.451118, 0.451118, 0.451118, 0.451118,\n",
              "             0.451118, 0.451118, 0.451118, 0.451118, 0.451118, 0.451118,\n",
              "             0.451118, 0.451118, 0.451118, 0.451118, 0.451118, 0.451118,\n",
              "             0.451118, 0.451118, 0.451118, 0.451118, 0.451118, 0.451118,\n",
              "             0.451118, 0.451118, 0.451118, 0.451118, 0.451118, 0.451118,\n",
              "             0.451118, 0.451118, 0.451118, 0.451118, 0.451118, 0.451118,\n",
              "             0.451118, 0.451118, 0.451118, 0.451118, 0.451118, 0.451118,\n",
              "             0.451118, 0.451118, 0.451118, 0.451118, 0.451118, 0.451118,\n",
              "             0.451118, 0.451118, 0.451118, 0.451118, 0.451118, 0.451118,\n",
              "             0.451118, 0.451118, 0.451118, 0.451118, 0.451118, 0.451118,\n",
              "             0.451118, 0.451118, 0.451118, 0.451118, 0.451118, 0.451118,\n",
              "             0.451118, 0.451118, 0.451118, 0.451118, 0.451118, 0.451118,\n",
              "             0.451118, 0.451118, 0.451118, 0.451118, 0.451118, 0.451118,\n",
              "             0.451118, 0.451118, 0.451118, 0.451118, 0.451118, 0.451118,\n",
              "             0.451118, 0.451118, 0.451118, 0.451118, 0.451118, 0.451118,\n",
              "             0.451118, 0.451118, 0.451118, 0.451118, 0.451118, 0.451118,\n",
              "             0.451118, 0.451118, 0.451118, 0.451118, 0.451118, 0.451118,\n",
              "             0.451118, 0.451118, 0.451118, 0.451118, 0.451118, 0.451118,\n",
              "             0.451118, 0.451118, 0.451118, 0.451118, 0.451118, 0.451118,\n",
              "             0.451118, 0.451118, 0.451118, 0.451118, 0.451118, 0.451118,\n",
              "             0.451118, 0.451118, 0.451118, 0.451118, 0.451118, 0.451118,\n",
              "             0.451118, 0.451118, 0.451118, 0.451118, 0.451118, 0.451118,\n",
              "             0.451118, 0.451118, 0.451118, 0.451118, 0.451118, 0.451118,\n",
              "             0.451118, 0.451118, 0.451118, 0.451118, 0.451118, 0.451118,\n",
              "             0.451118, 0.451118, 0.451118, 0.451118, 0.451118, 0.451118,\n",
              "             0.451118, 0.451118, 0.451118, 0.451118, 0.451118, 0.451118,\n",
              "             0.451118, 0.451118, 0.451118, 0.451118, 0.451118, 0.451118,\n",
              "             0.451118, 0.451118, 0.451118, 0.451118, 0.451118, 0.451118,\n",
              "             0.451118, 0.451118, 0.451118, 0.451118, 0.451118, 0.451118,\n",
              "             0.451118, 0.451118, 0.451118, 0.451118, 0.451118, 0.451118,\n",
              "             0.451118, 0.451118, 0.451118, 0.451118, 0.451118, 0.451118,\n",
              "             0.451118, 0.451118, 0.451118, 0.451118, 0.451118, 0.451118,\n",
              "             0.451118, 0.451118, 0.451118, 0.451118, 0.451118, 0.451118,\n",
              "             0.451118, 0.451118, 0.451118, 0.451118, 0.451118, 0.451118,\n",
              "             0.451118, 0.451118, 0.451118, 0.451118, 0.451118, 0.451118,\n",
              "             0.451118, 0.451118, 0.451118, 0.451118, 0.451118, 0.451118,\n",
              "             0.451118, 0.451118, 0.451118, 0.451118, 0.451118, 0.451118,\n",
              "             0.451118, 0.451118, 0.451118, 0.451118, 0.451118, 0.451118,\n",
              "             0.451118, 0.451118, 0.451118, 0.451118, 0.451118, 0.451118,\n",
              "             0.451118, 0.451118, 0.451118, 0.451118, 0.451118, 0.451118,\n",
              "             0.451118, 0.451118, 0.451118, 0.451118, 0.451118, 0.451118,\n",
              "             0.451118, 0.451118, 0.451118, 0.451118, 0.451118, 0.451118,\n",
              "             0.451118, 0.451118, 0.451118, 0.451118, 0.451118, 0.451118,\n",
              "             0.451118, 0.451118, 0.451118, 0.451118, 0.451118, 0.451118,\n",
              "             0.451118, 0.451118, 0.451118, 0.451118, 0.451118, 0.451118,\n",
              "             0.451118, 0.451118, 0.451118, 0.451118], dtype=float32), num_leapfrog_steps=DeviceArray([3, 3, 3, 3, 3, 3, 3, 3, 3, 3, 3, 3, 3, 3, 3, 3, 3, 3, 3, 3,\n",
              "             3, 3, 3, 3, 3, 3, 3, 3, 3, 3, 3, 3, 3, 3, 3, 3, 3, 3, 3, 3,\n",
              "             3, 3, 3, 3, 3, 3, 3, 3, 3, 3, 3, 3, 3, 3, 3, 3, 3, 3, 3, 3,\n",
              "             3, 3, 3, 3, 3, 3, 3, 3, 3, 3, 3, 3, 3, 3, 3, 3, 3, 3, 3, 3,\n",
              "             3, 3, 3, 3, 3, 3, 3, 3, 3, 3, 3, 3, 3, 3, 3, 3, 3, 3, 3, 3,\n",
              "             3, 3, 3, 3, 3, 3, 3, 3, 3, 3, 3, 3, 3, 3, 3, 3, 3, 3, 3, 3,\n",
              "             3, 3, 3, 3, 3, 3, 3, 3, 3, 3, 3, 3, 3, 3, 3, 3, 3, 3, 3, 3,\n",
              "             3, 3, 3, 3, 3, 3, 3, 3, 3, 3, 3, 3, 3, 3, 3, 3, 3, 3, 3, 3,\n",
              "             3, 3, 3, 3, 3, 3, 3, 3, 3, 3, 3, 3, 3, 3, 3, 3, 3, 3, 3, 3,\n",
              "             3, 3, 3, 3, 3, 3, 3, 3, 3, 3, 3, 3, 3, 3, 3, 3, 3, 3, 3, 3,\n",
              "             3, 3, 3, 3, 3, 3, 3, 3, 3, 3, 3, 3, 3, 3, 3, 3, 3, 3, 3, 3,\n",
              "             3, 3, 3, 3, 3, 3, 3, 3, 3, 3, 3, 3, 3, 3, 3, 3, 3, 3, 3, 3,\n",
              "             3, 3, 3, 3, 3, 3, 3, 3, 3, 3, 3, 3, 3, 3, 3, 3, 3, 3, 3, 3,\n",
              "             3, 3, 3, 3, 3, 3, 3, 3, 3, 3, 3, 3, 3, 3, 3, 3, 3, 3, 3, 3,\n",
              "             3, 3, 3, 3, 3, 3, 3, 3, 3, 3, 3, 3, 3, 3, 3, 3, 3, 3, 3, 3,\n",
              "             3, 3, 3, 3, 3, 3, 3, 3, 3, 3, 3, 3, 3, 3, 3, 3, 3, 3, 3, 3,\n",
              "             3, 3, 3, 3, 3, 3, 3, 3, 3, 3, 3, 3, 3, 3, 3, 3, 3, 3, 3, 3,\n",
              "             3, 3, 3, 3, 3, 3, 3, 3, 3, 3, 3, 3, 3, 3, 3, 3, 3, 3, 3, 3,\n",
              "             3, 3, 3, 3, 3, 3, 3, 3, 3, 3, 3, 3, 3, 3, 3, 3, 3, 3, 3, 3,\n",
              "             3, 3, 3, 3, 3, 3, 3, 3, 3, 3, 3, 3, 3, 3, 3, 3, 3, 3, 3, 3,\n",
              "             3, 3, 3, 3, 3, 3, 3, 3, 3, 3, 3, 3, 3, 3, 3, 3, 3, 3, 3, 3,\n",
              "             3, 3, 3, 3, 3, 3, 3, 3, 3, 3, 3, 3, 3, 3, 3, 3, 3, 3, 3, 3,\n",
              "             3, 3, 3, 3, 3, 3, 3, 3, 3, 3, 3, 3, 3, 3, 3, 3, 3, 3, 3, 3,\n",
              "             3, 3, 3, 3, 3, 3, 3, 3, 3, 3, 3, 3, 3, 3, 3, 3, 3, 3, 3, 3,\n",
              "             3, 3, 3, 3, 3, 3, 3, 3, 3, 3, 3, 3, 3, 3, 3, 3, 3, 3, 3, 3,\n",
              "             3, 3, 3, 3, 3, 3, 3, 3, 3, 3, 3, 3, 3, 3, 3, 3, 3, 3, 3, 3,\n",
              "             3, 3, 3, 3, 3, 3, 3, 3, 3, 3, 3, 3, 3, 3, 3, 3, 3, 3, 3, 3,\n",
              "             3, 3, 3, 3, 3, 3, 3, 3, 3, 3, 3, 3, 3, 3, 3, 3, 3, 3, 3, 3,\n",
              "             3, 3, 3, 3, 3, 3, 3, 3, 3, 3, 3, 3, 3, 3, 3, 3, 3, 3, 3, 3,\n",
              "             3, 3, 3, 3, 3, 3, 3, 3, 3, 3, 3, 3, 3, 3, 3, 3, 3, 3, 3, 3,\n",
              "             3, 3, 3, 3, 3, 3, 3, 3, 3, 3, 3, 3, 3, 3, 3, 3, 3, 3, 3, 3,\n",
              "             3, 3, 3, 3, 3, 3, 3, 3, 3, 3, 3, 3, 3, 3, 3, 3, 3, 3, 3, 3,\n",
              "             3, 3, 3, 3, 3, 3, 3, 3, 3, 3, 3, 3, 3, 3, 3, 3, 3, 3, 3, 3,\n",
              "             3, 3, 3, 3, 3, 3, 3, 3, 3, 3, 3, 3, 3, 3, 3, 3, 3, 3, 3, 3,\n",
              "             3, 3, 3, 3, 3, 3, 3, 3, 3, 3, 3, 3, 3, 3, 3, 3, 3, 3, 3, 3,\n",
              "             3, 3, 3, 3, 3, 3, 3, 3, 3, 3, 3, 3, 3, 3, 3, 3, 3, 3, 3, 3,\n",
              "             3, 3, 3, 3, 3, 3, 3, 3, 3, 3, 3, 3, 3, 3, 3, 3, 3, 3, 3, 3,\n",
              "             3, 3, 3, 3, 3, 3, 3, 3, 3, 3, 3, 3, 3, 3, 3, 3, 3, 3, 3, 3,\n",
              "             3, 3, 3, 3, 3, 3, 3, 3, 3, 3, 3, 3, 3, 3, 3, 3, 3, 3, 3, 3,\n",
              "             3, 3, 3, 3, 3, 3, 3, 3, 3, 3, 3, 3, 3, 3, 3, 3, 3, 3, 3, 3,\n",
              "             3, 3, 3, 3, 3, 3, 3, 3, 3, 3, 3, 3, 3, 3, 3, 3, 3, 3, 3, 3,\n",
              "             3, 3, 3, 3, 3, 3, 3, 3, 3, 3, 3, 3, 3, 3, 3, 3, 3, 3, 3, 3,\n",
              "             3, 3, 3, 3, 3, 3, 3, 3, 3, 3, 3, 3, 3, 3, 3, 3, 3, 3, 3, 3,\n",
              "             3, 3, 3, 3, 3, 3, 3, 3, 3, 3, 3, 3, 3, 3, 3, 3, 3, 3, 3, 3,\n",
              "             3, 3, 3, 3, 3, 3, 3, 3, 3, 3, 3, 3, 3, 3, 3, 3, 3, 3, 3, 3,\n",
              "             3, 3, 3, 3, 3, 3, 3, 3, 3, 3, 3, 3, 3, 3, 3, 3, 3, 3, 3, 3,\n",
              "             3, 3, 3, 3, 3, 3, 3, 3, 3, 3, 3, 3, 3, 3, 3, 3, 3, 3, 3, 3,\n",
              "             3, 3, 3, 3, 3, 3, 3, 3, 3, 3, 3, 3, 3, 3, 3, 3, 3, 3, 3, 3,\n",
              "             3, 3, 3, 3, 3, 3, 3, 3, 3, 3, 3, 3, 3, 3, 3, 3, 3, 3, 3, 3,\n",
              "             3, 3, 3, 3, 3, 3, 3, 3, 3, 3, 3, 3, 3, 3, 3, 3, 3, 3, 3, 3],            dtype=int32)), is_accepted=DeviceArray([False, False, False, False, False, False, False, False,\n",
              "             False, False, False, False, False, False, False, False,\n",
              "             False, False, False, False, False, False, False, False,\n",
              "             False, False, False, False, False, False, False, False,\n",
              "             False, False, False, False, False, False, False, False,\n",
              "             False, False, False, False, False, False, False, False,\n",
              "             False, False, False, False, False, False, False, False,\n",
              "             False, False, False, False, False, False, False, False,\n",
              "             False, False, False, False, False, False, False, False,\n",
              "             False, False, False, False, False, False, False, False,\n",
              "             False, False, False, False, False, False, False, False,\n",
              "             False, False, False, False, False, False, False, False,\n",
              "             False, False, False, False, False, False, False, False,\n",
              "             False, False, False, False, False, False, False, False,\n",
              "             False, False, False, False, False, False, False, False,\n",
              "             False, False, False, False, False, False, False, False,\n",
              "             False, False, False, False, False, False, False, False,\n",
              "             False, False, False, False, False, False, False, False,\n",
              "             False, False, False, False, False, False, False, False,\n",
              "             False, False, False, False, False, False, False, False,\n",
              "             False, False, False, False, False, False, False, False,\n",
              "             False, False, False, False, False, False, False, False,\n",
              "             False, False, False, False, False, False, False, False,\n",
              "             False, False, False, False, False, False, False, False,\n",
              "             False, False, False, False, False, False, False, False,\n",
              "             False, False, False, False, False, False, False, False,\n",
              "             False, False, False, False, False, False, False, False,\n",
              "             False, False, False, False, False, False, False, False,\n",
              "             False, False, False, False, False, False, False, False,\n",
              "             False, False, False, False, False, False, False, False,\n",
              "             False, False, False, False, False, False, False, False,\n",
              "             False, False, False, False, False, False, False, False,\n",
              "             False, False, False, False, False, False, False, False,\n",
              "             False, False, False, False, False, False, False, False,\n",
              "             False, False, False, False, False, False, False, False,\n",
              "             False, False, False, False, False, False, False, False,\n",
              "             False, False, False, False, False, False, False, False,\n",
              "             False, False, False, False, False, False, False, False,\n",
              "             False, False, False, False, False, False, False, False,\n",
              "             False, False, False, False, False, False, False, False,\n",
              "             False, False, False, False, False, False, False, False,\n",
              "             False, False, False, False, False, False, False, False,\n",
              "             False, False, False, False, False, False, False, False,\n",
              "             False, False, False, False, False, False, False, False,\n",
              "             False, False, False, False, False, False, False, False,\n",
              "             False, False, False, False, False, False, False, False,\n",
              "             False, False, False, False, False, False, False, False,\n",
              "             False, False, False, False, False, False, False, False,\n",
              "             False, False, False, False, False, False, False, False,\n",
              "             False, False, False, False, False, False, False, False,\n",
              "             False, False, False, False, False, False, False, False,\n",
              "             False, False, False, False, False, False, False, False,\n",
              "             False, False, False, False, False, False, False, False,\n",
              "             False, False, False, False, False, False, False, False,\n",
              "             False, False, False, False, False, False, False, False,\n",
              "             False, False, False, False, False, False, False, False,\n",
              "             False, False, False, False, False, False, False, False,\n",
              "             False, False, False, False, False, False, False, False,\n",
              "             False, False, False, False, False, False, False, False,\n",
              "             False, False, False, False, False, False, False, False,\n",
              "             False, False, False, False, False, False, False, False,\n",
              "             False, False, False, False, False, False, False, False,\n",
              "             False, False, False, False, False, False, False, False,\n",
              "             False, False, False, False, False, False, False, False,\n",
              "             False, False, False, False, False, False, False, False,\n",
              "             False, False, False, False, False, False, False, False,\n",
              "             False, False, False, False, False, False, False, False,\n",
              "             False, False, False, False, False, False, False, False,\n",
              "             False, False, False, False, False, False, False, False,\n",
              "             False, False, False, False, False, False, False, False,\n",
              "             False, False, False, False, False, False, False, False,\n",
              "             False, False, False, False, False, False, False, False,\n",
              "             False, False, False, False, False, False, False, False,\n",
              "             False, False, False, False, False, False, False, False,\n",
              "             False, False, False, False, False, False, False, False,\n",
              "             False, False, False, False, False, False, False, False,\n",
              "             False, False, False, False, False, False, False, False,\n",
              "             False, False, False, False, False, False, False, False,\n",
              "             False, False, False, False, False, False, False, False,\n",
              "             False, False, False, False, False, False, False, False,\n",
              "             False, False, False, False, False, False, False, False,\n",
              "             False, False, False, False, False, False, False, False,\n",
              "             False, False, False, False, False, False, False, False,\n",
              "             False, False, False, False, False, False, False, False,\n",
              "             False, False, False, False, False, False, False, False,\n",
              "             False, False, False, False, False, False, False, False,\n",
              "             False, False, False, False, False, False, False, False,\n",
              "             False, False, False, False, False, False, False, False,\n",
              "             False, False, False, False, False, False, False, False,\n",
              "             False, False, False, False, False, False, False, False,\n",
              "             False, False, False, False, False, False, False, False,\n",
              "             False, False, False, False, False, False, False, False,\n",
              "             False, False, False, False, False, False, False, False,\n",
              "             False, False, False, False, False, False, False, False,\n",
              "             False, False, False, False, False, False, False, False,\n",
              "             False, False, False, False, False, False, False, False,\n",
              "             False, False, False, False, False, False, False, False,\n",
              "             False, False, False, False, False, False, False, False,\n",
              "             False, False, False, False, False, False, False, False,\n",
              "             False, False, False, False, False, False, False, False,\n",
              "             False, False, False, False, False, False, False, False,\n",
              "             False, False, False, False, False, False, False, False,\n",
              "             False, False, False, False, False, False, False, False,\n",
              "             False, False, False, False, False, False, False, False,\n",
              "             False, False, False, False, False, False, False, False,\n",
              "             False, False, False, False, False, False, False, False,\n",
              "             False, False, False, False, False, False, False, False,\n",
              "             False, False, False, False, False, False, False, False,\n",
              "             False, False, False, False, False, False, False, False,\n",
              "             False, False, False, False, False, False, False, False,\n",
              "             False, False, False, False, False, False, False, False,\n",
              "             False, False, False, False, False, False, False, False,\n",
              "             False, False, False, False, False, False, False, False,\n",
              "             False, False, False, False, False, False, False, False,\n",
              "             False, False, False, False, False, False, False, False,\n",
              "             False, False, False, False, False, False, False, False,\n",
              "             False, False, False, False, False, False, False, False,\n",
              "             False, False, False, False, False, False, False, False,\n",
              "             False, False, False, False, False, False, False, False,\n",
              "             False, False, False, False, False, False, False, False,\n",
              "             False, False, False, False, False, False, False, False,\n",
              "             False, False, False, False, False, False, False, False,\n",
              "             False, False, False, False, False, False, False, False,\n",
              "             False, False, False, False, False, False, False, False,\n",
              "             False, False, False, False, False, False, False, False],            dtype=bool), log_accept_ratio=DeviceArray([-inf, -inf, -inf, -inf, -inf, -inf, -inf, -inf, -inf, -inf,\n",
              "             -inf, -inf, -inf, -inf, -inf, -inf, -inf, -inf, -inf, -inf,\n",
              "             -inf, -inf, -inf, -inf, -inf, -inf, -inf, -inf, -inf, -inf,\n",
              "             -inf, -inf, -inf, -inf, -inf, -inf, -inf, -inf, -inf, -inf,\n",
              "             -inf, -inf, -inf, -inf, -inf, -inf, -inf, -inf, -inf, -inf,\n",
              "             -inf, -inf, -inf, -inf, -inf, -inf, -inf, -inf, -inf, -inf,\n",
              "             -inf, -inf, -inf, -inf, -inf, -inf, -inf, -inf, -inf, -inf,\n",
              "             -inf, -inf, -inf, -inf, -inf, -inf, -inf, -inf, -inf, -inf,\n",
              "             -inf, -inf, -inf, -inf, -inf, -inf, -inf, -inf, -inf, -inf,\n",
              "             -inf, -inf, -inf, -inf, -inf, -inf, -inf, -inf, -inf, -inf,\n",
              "             -inf, -inf, -inf, -inf, -inf, -inf, -inf, -inf, -inf, -inf,\n",
              "             -inf, -inf, -inf, -inf, -inf, -inf, -inf, -inf, -inf, -inf,\n",
              "             -inf, -inf, -inf, -inf, -inf, -inf, -inf, -inf, -inf, -inf,\n",
              "             -inf, -inf, -inf, -inf, -inf, -inf, -inf, -inf, -inf, -inf,\n",
              "             -inf, -inf, -inf, -inf, -inf, -inf, -inf, -inf, -inf, -inf,\n",
              "             -inf, -inf, -inf, -inf, -inf, -inf, -inf, -inf, -inf, -inf,\n",
              "             -inf, -inf, -inf, -inf, -inf, -inf, -inf, -inf, -inf, -inf,\n",
              "             -inf, -inf, -inf, -inf, -inf, -inf, -inf, -inf, -inf, -inf,\n",
              "             -inf, -inf, -inf, -inf, -inf, -inf, -inf, -inf, -inf, -inf,\n",
              "             -inf, -inf, -inf, -inf, -inf, -inf, -inf, -inf, -inf, -inf,\n",
              "             -inf, -inf, -inf, -inf, -inf, -inf, -inf, -inf, -inf, -inf,\n",
              "             -inf, -inf, -inf, -inf, -inf, -inf, -inf, -inf, -inf, -inf,\n",
              "             -inf, -inf, -inf, -inf, -inf, -inf, -inf, -inf, -inf, -inf,\n",
              "             -inf, -inf, -inf, -inf, -inf, -inf, -inf, -inf, -inf, -inf,\n",
              "             -inf, -inf, -inf, -inf, -inf, -inf, -inf, -inf, -inf, -inf,\n",
              "             -inf, -inf, -inf, -inf, -inf, -inf, -inf, -inf, -inf, -inf,\n",
              "             -inf, -inf, -inf, -inf, -inf, -inf, -inf, -inf, -inf, -inf,\n",
              "             -inf, -inf, -inf, -inf, -inf, -inf, -inf, -inf, -inf, -inf,\n",
              "             -inf, -inf, -inf, -inf, -inf, -inf, -inf, -inf, -inf, -inf,\n",
              "             -inf, -inf, -inf, -inf, -inf, -inf, -inf, -inf, -inf, -inf,\n",
              "             -inf, -inf, -inf, -inf, -inf, -inf, -inf, -inf, -inf, -inf,\n",
              "             -inf, -inf, -inf, -inf, -inf, -inf, -inf, -inf, -inf, -inf,\n",
              "             -inf, -inf, -inf, -inf, -inf, -inf, -inf, -inf, -inf, -inf,\n",
              "             -inf, -inf, -inf, -inf, -inf, -inf, -inf, -inf, -inf, -inf,\n",
              "             -inf, -inf, -inf, -inf, -inf, -inf, -inf, -inf, -inf, -inf,\n",
              "             -inf, -inf, -inf, -inf, -inf, -inf, -inf, -inf, -inf, -inf,\n",
              "             -inf, -inf, -inf, -inf, -inf, -inf, -inf, -inf, -inf, -inf,\n",
              "             -inf, -inf, -inf, -inf, -inf, -inf, -inf, -inf, -inf, -inf,\n",
              "             -inf, -inf, -inf, -inf, -inf, -inf, -inf, -inf, -inf, -inf,\n",
              "             -inf, -inf, -inf, -inf, -inf, -inf, -inf, -inf, -inf, -inf,\n",
              "             -inf, -inf, -inf, -inf, -inf, -inf, -inf, -inf, -inf, -inf,\n",
              "             -inf, -inf, -inf, -inf, -inf, -inf, -inf, -inf, -inf, -inf,\n",
              "             -inf, -inf, -inf, -inf, -inf, -inf, -inf, -inf, -inf, -inf,\n",
              "             -inf, -inf, -inf, -inf, -inf, -inf, -inf, -inf, -inf, -inf,\n",
              "             -inf, -inf, -inf, -inf, -inf, -inf, -inf, -inf, -inf, -inf,\n",
              "             -inf, -inf, -inf, -inf, -inf, -inf, -inf, -inf, -inf, -inf,\n",
              "             -inf, -inf, -inf, -inf, -inf, -inf, -inf, -inf, -inf, -inf,\n",
              "             -inf, -inf, -inf, -inf, -inf, -inf, -inf, -inf, -inf, -inf,\n",
              "             -inf, -inf, -inf, -inf, -inf, -inf, -inf, -inf, -inf, -inf,\n",
              "             -inf, -inf, -inf, -inf, -inf, -inf, -inf, -inf, -inf, -inf,\n",
              "             -inf, -inf, -inf, -inf, -inf, -inf, -inf, -inf, -inf, -inf,\n",
              "             -inf, -inf, -inf, -inf, -inf, -inf, -inf, -inf, -inf, -inf,\n",
              "             -inf, -inf, -inf, -inf, -inf, -inf, -inf, -inf, -inf, -inf,\n",
              "             -inf, -inf, -inf, -inf, -inf, -inf, -inf, -inf, -inf, -inf,\n",
              "             -inf, -inf, -inf, -inf, -inf, -inf, -inf, -inf, -inf, -inf,\n",
              "             -inf, -inf, -inf, -inf, -inf, -inf, -inf, -inf, -inf, -inf,\n",
              "             -inf, -inf, -inf, -inf, -inf, -inf, -inf, -inf, -inf, -inf,\n",
              "             -inf, -inf, -inf, -inf, -inf, -inf, -inf, -inf, -inf, -inf,\n",
              "             -inf, -inf, -inf, -inf, -inf, -inf, -inf, -inf, -inf, -inf,\n",
              "             -inf, -inf, -inf, -inf, -inf, -inf, -inf, -inf, -inf, -inf,\n",
              "             -inf, -inf, -inf, -inf, -inf, -inf, -inf, -inf, -inf, -inf,\n",
              "             -inf, -inf, -inf, -inf, -inf, -inf, -inf, -inf, -inf, -inf,\n",
              "             -inf, -inf, -inf, -inf, -inf, -inf, -inf, -inf, -inf, -inf,\n",
              "             -inf, -inf, -inf, -inf, -inf, -inf, -inf, -inf, -inf, -inf,\n",
              "             -inf, -inf, -inf, -inf, -inf, -inf, -inf, -inf, -inf, -inf,\n",
              "             -inf, -inf, -inf, -inf, -inf, -inf, -inf, -inf, -inf, -inf,\n",
              "             -inf, -inf, -inf, -inf, -inf, -inf, -inf, -inf, -inf, -inf,\n",
              "             -inf, -inf, -inf, -inf, -inf, -inf, -inf, -inf, -inf, -inf,\n",
              "             -inf, -inf, -inf, -inf, -inf, -inf, -inf, -inf, -inf, -inf,\n",
              "             -inf, -inf, -inf, -inf, -inf, -inf, -inf, -inf, -inf, -inf,\n",
              "             -inf, -inf, -inf, -inf, -inf, -inf, -inf, -inf, -inf, -inf,\n",
              "             -inf, -inf, -inf, -inf, -inf, -inf, -inf, -inf, -inf, -inf,\n",
              "             -inf, -inf, -inf, -inf, -inf, -inf, -inf, -inf, -inf, -inf,\n",
              "             -inf, -inf, -inf, -inf, -inf, -inf, -inf, -inf, -inf, -inf,\n",
              "             -inf, -inf, -inf, -inf, -inf, -inf, -inf, -inf, -inf, -inf,\n",
              "             -inf, -inf, -inf, -inf, -inf, -inf, -inf, -inf, -inf, -inf,\n",
              "             -inf, -inf, -inf, -inf, -inf, -inf, -inf, -inf, -inf, -inf,\n",
              "             -inf, -inf, -inf, -inf, -inf, -inf, -inf, -inf, -inf, -inf,\n",
              "             -inf, -inf, -inf, -inf, -inf, -inf, -inf, -inf, -inf, -inf,\n",
              "             -inf, -inf, -inf, -inf, -inf, -inf, -inf, -inf, -inf, -inf,\n",
              "             -inf, -inf, -inf, -inf, -inf, -inf, -inf, -inf, -inf, -inf,\n",
              "             -inf, -inf, -inf, -inf, -inf, -inf, -inf, -inf, -inf, -inf,\n",
              "             -inf, -inf, -inf, -inf, -inf, -inf, -inf, -inf, -inf, -inf,\n",
              "             -inf, -inf, -inf, -inf, -inf, -inf, -inf, -inf, -inf, -inf,\n",
              "             -inf, -inf, -inf, -inf, -inf, -inf, -inf, -inf, -inf, -inf,\n",
              "             -inf, -inf, -inf, -inf, -inf, -inf, -inf, -inf, -inf, -inf,\n",
              "             -inf, -inf, -inf, -inf, -inf, -inf, -inf, -inf, -inf, -inf,\n",
              "             -inf, -inf, -inf, -inf, -inf, -inf, -inf, -inf, -inf, -inf,\n",
              "             -inf, -inf, -inf, -inf, -inf, -inf, -inf, -inf, -inf, -inf,\n",
              "             -inf, -inf, -inf, -inf, -inf, -inf, -inf, -inf, -inf, -inf,\n",
              "             -inf, -inf, -inf, -inf, -inf, -inf, -inf, -inf, -inf, -inf,\n",
              "             -inf, -inf, -inf, -inf, -inf, -inf, -inf, -inf, -inf, -inf,\n",
              "             -inf, -inf, -inf, -inf, -inf, -inf, -inf, -inf, -inf, -inf,\n",
              "             -inf, -inf, -inf, -inf, -inf, -inf, -inf, -inf, -inf, -inf,\n",
              "             -inf, -inf, -inf, -inf, -inf, -inf, -inf, -inf, -inf, -inf,\n",
              "             -inf, -inf, -inf, -inf, -inf, -inf, -inf, -inf, -inf, -inf,\n",
              "             -inf, -inf, -inf, -inf, -inf, -inf, -inf, -inf, -inf, -inf,\n",
              "             -inf, -inf, -inf, -inf, -inf, -inf, -inf, -inf, -inf, -inf,\n",
              "             -inf, -inf, -inf, -inf, -inf, -inf, -inf, -inf, -inf, -inf,\n",
              "             -inf, -inf, -inf, -inf, -inf, -inf, -inf, -inf, -inf, -inf],            dtype=float32), proposed_state=DeviceArray([[nan, nan, nan, nan, nan, nan],\n",
              "             [nan, nan, nan, nan, nan, nan],\n",
              "             [nan, nan, nan, nan, nan, nan],\n",
              "             ...,\n",
              "             [nan, nan, nan, nan, nan, nan],\n",
              "             [nan, nan, nan, nan, nan, nan],\n",
              "             [nan, nan, nan, nan, nan, nan]], dtype=float32), proposed_results=UncalibratedHamiltonianMonteCarloKernelResults(log_acceptance_correction=DeviceArray([-inf, -inf, -inf, -inf, -inf, -inf, -inf, -inf, -inf, -inf,\n",
              "             -inf, -inf, -inf, -inf, -inf, -inf, -inf, -inf, -inf, -inf,\n",
              "             -inf, -inf, -inf, -inf, -inf, -inf, -inf, -inf, -inf, -inf,\n",
              "             -inf, -inf, -inf, -inf, -inf, -inf, -inf, -inf, -inf, -inf,\n",
              "             -inf, -inf, -inf, -inf, -inf, -inf, -inf, -inf, -inf, -inf,\n",
              "             -inf, -inf, -inf, -inf, -inf, -inf, -inf, -inf, -inf, -inf,\n",
              "             -inf, -inf, -inf, -inf, -inf, -inf, -inf, -inf, -inf, -inf,\n",
              "             -inf, -inf, -inf, -inf, -inf, -inf, -inf, -inf, -inf, -inf,\n",
              "             -inf, -inf, -inf, -inf, -inf, -inf, -inf, -inf, -inf, -inf,\n",
              "             -inf, -inf, -inf, -inf, -inf, -inf, -inf, -inf, -inf, -inf,\n",
              "             -inf, -inf, -inf, -inf, -inf, -inf, -inf, -inf, -inf, -inf,\n",
              "             -inf, -inf, -inf, -inf, -inf, -inf, -inf, -inf, -inf, -inf,\n",
              "             -inf, -inf, -inf, -inf, -inf, -inf, -inf, -inf, -inf, -inf,\n",
              "             -inf, -inf, -inf, -inf, -inf, -inf, -inf, -inf, -inf, -inf,\n",
              "             -inf, -inf, -inf, -inf, -inf, -inf, -inf, -inf, -inf, -inf,\n",
              "             -inf, -inf, -inf, -inf, -inf, -inf, -inf, -inf, -inf, -inf,\n",
              "             -inf, -inf, -inf, -inf, -inf, -inf, -inf, -inf, -inf, -inf,\n",
              "             -inf, -inf, -inf, -inf, -inf, -inf, -inf, -inf, -inf, -inf,\n",
              "             -inf, -inf, -inf, -inf, -inf, -inf, -inf, -inf, -inf, -inf,\n",
              "             -inf, -inf, -inf, -inf, -inf, -inf, -inf, -inf, -inf, -inf,\n",
              "             -inf, -inf, -inf, -inf, -inf, -inf, -inf, -inf, -inf, -inf,\n",
              "             -inf, -inf, -inf, -inf, -inf, -inf, -inf, -inf, -inf, -inf,\n",
              "             -inf, -inf, -inf, -inf, -inf, -inf, -inf, -inf, -inf, -inf,\n",
              "             -inf, -inf, -inf, -inf, -inf, -inf, -inf, -inf, -inf, -inf,\n",
              "             -inf, -inf, -inf, -inf, -inf, -inf, -inf, -inf, -inf, -inf,\n",
              "             -inf, -inf, -inf, -inf, -inf, -inf, -inf, -inf, -inf, -inf,\n",
              "             -inf, -inf, -inf, -inf, -inf, -inf, -inf, -inf, -inf, -inf,\n",
              "             -inf, -inf, -inf, -inf, -inf, -inf, -inf, -inf, -inf, -inf,\n",
              "             -inf, -inf, -inf, -inf, -inf, -inf, -inf, -inf, -inf, -inf,\n",
              "             -inf, -inf, -inf, -inf, -inf, -inf, -inf, -inf, -inf, -inf,\n",
              "             -inf, -inf, -inf, -inf, -inf, -inf, -inf, -inf, -inf, -inf,\n",
              "             -inf, -inf, -inf, -inf, -inf, -inf, -inf, -inf, -inf, -inf,\n",
              "             -inf, -inf, -inf, -inf, -inf, -inf, -inf, -inf, -inf, -inf,\n",
              "             -inf, -inf, -inf, -inf, -inf, -inf, -inf, -inf, -inf, -inf,\n",
              "             -inf, -inf, -inf, -inf, -inf, -inf, -inf, -inf, -inf, -inf,\n",
              "             -inf, -inf, -inf, -inf, -inf, -inf, -inf, -inf, -inf, -inf,\n",
              "             -inf, -inf, -inf, -inf, -inf, -inf, -inf, -inf, -inf, -inf,\n",
              "             -inf, -inf, -inf, -inf, -inf, -inf, -inf, -inf, -inf, -inf,\n",
              "             -inf, -inf, -inf, -inf, -inf, -inf, -inf, -inf, -inf, -inf,\n",
              "             -inf, -inf, -inf, -inf, -inf, -inf, -inf, -inf, -inf, -inf,\n",
              "             -inf, -inf, -inf, -inf, -inf, -inf, -inf, -inf, -inf, -inf,\n",
              "             -inf, -inf, -inf, -inf, -inf, -inf, -inf, -inf, -inf, -inf,\n",
              "             -inf, -inf, -inf, -inf, -inf, -inf, -inf, -inf, -inf, -inf,\n",
              "             -inf, -inf, -inf, -inf, -inf, -inf, -inf, -inf, -inf, -inf,\n",
              "             -inf, -inf, -inf, -inf, -inf, -inf, -inf, -inf, -inf, -inf,\n",
              "             -inf, -inf, -inf, -inf, -inf, -inf, -inf, -inf, -inf, -inf,\n",
              "             -inf, -inf, -inf, -inf, -inf, -inf, -inf, -inf, -inf, -inf,\n",
              "             -inf, -inf, -inf, -inf, -inf, -inf, -inf, -inf, -inf, -inf,\n",
              "             -inf, -inf, -inf, -inf, -inf, -inf, -inf, -inf, -inf, -inf,\n",
              "             -inf, -inf, -inf, -inf, -inf, -inf, -inf, -inf, -inf, -inf,\n",
              "             -inf, -inf, -inf, -inf, -inf, -inf, -inf, -inf, -inf, -inf,\n",
              "             -inf, -inf, -inf, -inf, -inf, -inf, -inf, -inf, -inf, -inf,\n",
              "             -inf, -inf, -inf, -inf, -inf, -inf, -inf, -inf, -inf, -inf,\n",
              "             -inf, -inf, -inf, -inf, -inf, -inf, -inf, -inf, -inf, -inf,\n",
              "             -inf, -inf, -inf, -inf, -inf, -inf, -inf, -inf, -inf, -inf,\n",
              "             -inf, -inf, -inf, -inf, -inf, -inf, -inf, -inf, -inf, -inf,\n",
              "             -inf, -inf, -inf, -inf, -inf, -inf, -inf, -inf, -inf, -inf,\n",
              "             -inf, -inf, -inf, -inf, -inf, -inf, -inf, -inf, -inf, -inf,\n",
              "             -inf, -inf, -inf, -inf, -inf, -inf, -inf, -inf, -inf, -inf,\n",
              "             -inf, -inf, -inf, -inf, -inf, -inf, -inf, -inf, -inf, -inf,\n",
              "             -inf, -inf, -inf, -inf, -inf, -inf, -inf, -inf, -inf, -inf,\n",
              "             -inf, -inf, -inf, -inf, -inf, -inf, -inf, -inf, -inf, -inf,\n",
              "             -inf, -inf, -inf, -inf, -inf, -inf, -inf, -inf, -inf, -inf,\n",
              "             -inf, -inf, -inf, -inf, -inf, -inf, -inf, -inf, -inf, -inf,\n",
              "             -inf, -inf, -inf, -inf, -inf, -inf, -inf, -inf, -inf, -inf,\n",
              "             -inf, -inf, -inf, -inf, -inf, -inf, -inf, -inf, -inf, -inf,\n",
              "             -inf, -inf, -inf, -inf, -inf, -inf, -inf, -inf, -inf, -inf,\n",
              "             -inf, -inf, -inf, -inf, -inf, -inf, -inf, -inf, -inf, -inf,\n",
              "             -inf, -inf, -inf, -inf, -inf, -inf, -inf, -inf, -inf, -inf,\n",
              "             -inf, -inf, -inf, -inf, -inf, -inf, -inf, -inf, -inf, -inf,\n",
              "             -inf, -inf, -inf, -inf, -inf, -inf, -inf, -inf, -inf, -inf,\n",
              "             -inf, -inf, -inf, -inf, -inf, -inf, -inf, -inf, -inf, -inf,\n",
              "             -inf, -inf, -inf, -inf, -inf, -inf, -inf, -inf, -inf, -inf,\n",
              "             -inf, -inf, -inf, -inf, -inf, -inf, -inf, -inf, -inf, -inf,\n",
              "             -inf, -inf, -inf, -inf, -inf, -inf, -inf, -inf, -inf, -inf,\n",
              "             -inf, -inf, -inf, -inf, -inf, -inf, -inf, -inf, -inf, -inf,\n",
              "             -inf, -inf, -inf, -inf, -inf, -inf, -inf, -inf, -inf, -inf,\n",
              "             -inf, -inf, -inf, -inf, -inf, -inf, -inf, -inf, -inf, -inf,\n",
              "             -inf, -inf, -inf, -inf, -inf, -inf, -inf, -inf, -inf, -inf,\n",
              "             -inf, -inf, -inf, -inf, -inf, -inf, -inf, -inf, -inf, -inf,\n",
              "             -inf, -inf, -inf, -inf, -inf, -inf, -inf, -inf, -inf, -inf,\n",
              "             -inf, -inf, -inf, -inf, -inf, -inf, -inf, -inf, -inf, -inf,\n",
              "             -inf, -inf, -inf, -inf, -inf, -inf, -inf, -inf, -inf, -inf,\n",
              "             -inf, -inf, -inf, -inf, -inf, -inf, -inf, -inf, -inf, -inf,\n",
              "             -inf, -inf, -inf, -inf, -inf, -inf, -inf, -inf, -inf, -inf,\n",
              "             -inf, -inf, -inf, -inf, -inf, -inf, -inf, -inf, -inf, -inf,\n",
              "             -inf, -inf, -inf, -inf, -inf, -inf, -inf, -inf, -inf, -inf,\n",
              "             -inf, -inf, -inf, -inf, -inf, -inf, -inf, -inf, -inf, -inf,\n",
              "             -inf, -inf, -inf, -inf, -inf, -inf, -inf, -inf, -inf, -inf,\n",
              "             -inf, -inf, -inf, -inf, -inf, -inf, -inf, -inf, -inf, -inf,\n",
              "             -inf, -inf, -inf, -inf, -inf, -inf, -inf, -inf, -inf, -inf,\n",
              "             -inf, -inf, -inf, -inf, -inf, -inf, -inf, -inf, -inf, -inf,\n",
              "             -inf, -inf, -inf, -inf, -inf, -inf, -inf, -inf, -inf, -inf,\n",
              "             -inf, -inf, -inf, -inf, -inf, -inf, -inf, -inf, -inf, -inf,\n",
              "             -inf, -inf, -inf, -inf, -inf, -inf, -inf, -inf, -inf, -inf,\n",
              "             -inf, -inf, -inf, -inf, -inf, -inf, -inf, -inf, -inf, -inf,\n",
              "             -inf, -inf, -inf, -inf, -inf, -inf, -inf, -inf, -inf, -inf,\n",
              "             -inf, -inf, -inf, -inf, -inf, -inf, -inf, -inf, -inf, -inf,\n",
              "             -inf, -inf, -inf, -inf, -inf, -inf, -inf, -inf, -inf, -inf,\n",
              "             -inf, -inf, -inf, -inf, -inf, -inf, -inf, -inf, -inf, -inf],            dtype=float32), target_log_prob=DeviceArray([nan, nan, nan, nan, nan, nan, nan, nan, nan, nan, nan, nan,\n",
              "             nan, nan, nan, nan, nan, nan, nan, nan, nan, nan, nan, nan,\n",
              "             nan, nan, nan, nan, nan, nan, nan, nan, nan, nan, nan, nan,\n",
              "             nan, nan, nan, nan, nan, nan, nan, nan, nan, nan, nan, nan,\n",
              "             nan, nan, nan, nan, nan, nan, nan, nan, nan, nan, nan, nan,\n",
              "             nan, nan, nan, nan, nan, nan, nan, nan, nan, nan, nan, nan,\n",
              "             nan, nan, nan, nan, nan, nan, nan, nan, nan, nan, nan, nan,\n",
              "             nan, nan, nan, nan, nan, nan, nan, nan, nan, nan, nan, nan,\n",
              "             nan, nan, nan, nan, nan, nan, nan, nan, nan, nan, nan, nan,\n",
              "             nan, nan, nan, nan, nan, nan, nan, nan, nan, nan, nan, nan,\n",
              "             nan, nan, nan, nan, nan, nan, nan, nan, nan, nan, nan, nan,\n",
              "             nan, nan, nan, nan, nan, nan, nan, nan, nan, nan, nan, nan,\n",
              "             nan, nan, nan, nan, nan, nan, nan, nan, nan, nan, nan, nan,\n",
              "             nan, nan, nan, nan, nan, nan, nan, nan, nan, nan, nan, nan,\n",
              "             nan, nan, nan, nan, nan, nan, nan, nan, nan, nan, nan, nan,\n",
              "             nan, nan, nan, nan, nan, nan, nan, nan, nan, nan, nan, nan,\n",
              "             nan, nan, nan, nan, nan, nan, nan, nan, nan, nan, nan, nan,\n",
              "             nan, nan, nan, nan, nan, nan, nan, nan, nan, nan, nan, nan,\n",
              "             nan, nan, nan, nan, nan, nan, nan, nan, nan, nan, nan, nan,\n",
              "             nan, nan, nan, nan, nan, nan, nan, nan, nan, nan, nan, nan,\n",
              "             nan, nan, nan, nan, nan, nan, nan, nan, nan, nan, nan, nan,\n",
              "             nan, nan, nan, nan, nan, nan, nan, nan, nan, nan, nan, nan,\n",
              "             nan, nan, nan, nan, nan, nan, nan, nan, nan, nan, nan, nan,\n",
              "             nan, nan, nan, nan, nan, nan, nan, nan, nan, nan, nan, nan,\n",
              "             nan, nan, nan, nan, nan, nan, nan, nan, nan, nan, nan, nan,\n",
              "             nan, nan, nan, nan, nan, nan, nan, nan, nan, nan, nan, nan,\n",
              "             nan, nan, nan, nan, nan, nan, nan, nan, nan, nan, nan, nan,\n",
              "             nan, nan, nan, nan, nan, nan, nan, nan, nan, nan, nan, nan,\n",
              "             nan, nan, nan, nan, nan, nan, nan, nan, nan, nan, nan, nan,\n",
              "             nan, nan, nan, nan, nan, nan, nan, nan, nan, nan, nan, nan,\n",
              "             nan, nan, nan, nan, nan, nan, nan, nan, nan, nan, nan, nan,\n",
              "             nan, nan, nan, nan, nan, nan, nan, nan, nan, nan, nan, nan,\n",
              "             nan, nan, nan, nan, nan, nan, nan, nan, nan, nan, nan, nan,\n",
              "             nan, nan, nan, nan, nan, nan, nan, nan, nan, nan, nan, nan,\n",
              "             nan, nan, nan, nan, nan, nan, nan, nan, nan, nan, nan, nan,\n",
              "             nan, nan, nan, nan, nan, nan, nan, nan, nan, nan, nan, nan,\n",
              "             nan, nan, nan, nan, nan, nan, nan, nan, nan, nan, nan, nan,\n",
              "             nan, nan, nan, nan, nan, nan, nan, nan, nan, nan, nan, nan,\n",
              "             nan, nan, nan, nan, nan, nan, nan, nan, nan, nan, nan, nan,\n",
              "             nan, nan, nan, nan, nan, nan, nan, nan, nan, nan, nan, nan,\n",
              "             nan, nan, nan, nan, nan, nan, nan, nan, nan, nan, nan, nan,\n",
              "             nan, nan, nan, nan, nan, nan, nan, nan, nan, nan, nan, nan,\n",
              "             nan, nan, nan, nan, nan, nan, nan, nan, nan, nan, nan, nan,\n",
              "             nan, nan, nan, nan, nan, nan, nan, nan, nan, nan, nan, nan,\n",
              "             nan, nan, nan, nan, nan, nan, nan, nan, nan, nan, nan, nan,\n",
              "             nan, nan, nan, nan, nan, nan, nan, nan, nan, nan, nan, nan,\n",
              "             nan, nan, nan, nan, nan, nan, nan, nan, nan, nan, nan, nan,\n",
              "             nan, nan, nan, nan, nan, nan, nan, nan, nan, nan, nan, nan,\n",
              "             nan, nan, nan, nan, nan, nan, nan, nan, nan, nan, nan, nan,\n",
              "             nan, nan, nan, nan, nan, nan, nan, nan, nan, nan, nan, nan,\n",
              "             nan, nan, nan, nan, nan, nan, nan, nan, nan, nan, nan, nan,\n",
              "             nan, nan, nan, nan, nan, nan, nan, nan, nan, nan, nan, nan,\n",
              "             nan, nan, nan, nan, nan, nan, nan, nan, nan, nan, nan, nan,\n",
              "             nan, nan, nan, nan, nan, nan, nan, nan, nan, nan, nan, nan,\n",
              "             nan, nan, nan, nan, nan, nan, nan, nan, nan, nan, nan, nan,\n",
              "             nan, nan, nan, nan, nan, nan, nan, nan, nan, nan, nan, nan,\n",
              "             nan, nan, nan, nan, nan, nan, nan, nan, nan, nan, nan, nan,\n",
              "             nan, nan, nan, nan, nan, nan, nan, nan, nan, nan, nan, nan,\n",
              "             nan, nan, nan, nan, nan, nan, nan, nan, nan, nan, nan, nan,\n",
              "             nan, nan, nan, nan, nan, nan, nan, nan, nan, nan, nan, nan,\n",
              "             nan, nan, nan, nan, nan, nan, nan, nan, nan, nan, nan, nan,\n",
              "             nan, nan, nan, nan, nan, nan, nan, nan, nan, nan, nan, nan,\n",
              "             nan, nan, nan, nan, nan, nan, nan, nan, nan, nan, nan, nan,\n",
              "             nan, nan, nan, nan, nan, nan, nan, nan, nan, nan, nan, nan,\n",
              "             nan, nan, nan, nan, nan, nan, nan, nan, nan, nan, nan, nan,\n",
              "             nan, nan, nan, nan, nan, nan, nan, nan, nan, nan, nan, nan,\n",
              "             nan, nan, nan, nan, nan, nan, nan, nan, nan, nan, nan, nan,\n",
              "             nan, nan, nan, nan, nan, nan, nan, nan, nan, nan, nan, nan,\n",
              "             nan, nan, nan, nan, nan, nan, nan, nan, nan, nan, nan, nan,\n",
              "             nan, nan, nan, nan, nan, nan, nan, nan, nan, nan, nan, nan,\n",
              "             nan, nan, nan, nan, nan, nan, nan, nan, nan, nan, nan, nan,\n",
              "             nan, nan, nan, nan, nan, nan, nan, nan, nan, nan, nan, nan,\n",
              "             nan, nan, nan, nan, nan, nan, nan, nan, nan, nan, nan, nan,\n",
              "             nan, nan, nan, nan, nan, nan, nan, nan, nan, nan, nan, nan,\n",
              "             nan, nan, nan, nan, nan, nan, nan, nan, nan, nan, nan, nan,\n",
              "             nan, nan, nan, nan, nan, nan, nan, nan, nan, nan, nan, nan,\n",
              "             nan, nan, nan, nan, nan, nan, nan, nan, nan, nan, nan, nan,\n",
              "             nan, nan, nan, nan, nan, nan, nan, nan, nan, nan, nan, nan,\n",
              "             nan, nan, nan, nan, nan, nan, nan, nan, nan, nan, nan, nan,\n",
              "             nan, nan, nan, nan, nan, nan, nan, nan, nan, nan, nan, nan,\n",
              "             nan, nan, nan, nan, nan, nan, nan, nan, nan, nan, nan, nan,\n",
              "             nan, nan, nan, nan, nan, nan, nan, nan, nan, nan, nan, nan,\n",
              "             nan, nan, nan, nan, nan, nan, nan, nan, nan, nan, nan, nan,\n",
              "             nan, nan, nan, nan], dtype=float32), grads_target_log_prob=[DeviceArray([[nan, nan, nan, nan, nan, nan],\n",
              "             [nan, nan, nan, nan, nan, nan],\n",
              "             [nan, nan, nan, nan, nan, nan],\n",
              "             ...,\n",
              "             [nan, nan, nan, nan, nan, nan],\n",
              "             [nan, nan, nan, nan, nan, nan],\n",
              "             [nan, nan, nan, nan, nan, nan]], dtype=float32)], step_size=DeviceArray([0.451118, 0.451118, 0.451118, 0.451118, 0.451118, 0.451118,\n",
              "             0.451118, 0.451118, 0.451118, 0.451118, 0.451118, 0.451118,\n",
              "             0.451118, 0.451118, 0.451118, 0.451118, 0.451118, 0.451118,\n",
              "             0.451118, 0.451118, 0.451118, 0.451118, 0.451118, 0.451118,\n",
              "             0.451118, 0.451118, 0.451118, 0.451118, 0.451118, 0.451118,\n",
              "             0.451118, 0.451118, 0.451118, 0.451118, 0.451118, 0.451118,\n",
              "             0.451118, 0.451118, 0.451118, 0.451118, 0.451118, 0.451118,\n",
              "             0.451118, 0.451118, 0.451118, 0.451118, 0.451118, 0.451118,\n",
              "             0.451118, 0.451118, 0.451118, 0.451118, 0.451118, 0.451118,\n",
              "             0.451118, 0.451118, 0.451118, 0.451118, 0.451118, 0.451118,\n",
              "             0.451118, 0.451118, 0.451118, 0.451118, 0.451118, 0.451118,\n",
              "             0.451118, 0.451118, 0.451118, 0.451118, 0.451118, 0.451118,\n",
              "             0.451118, 0.451118, 0.451118, 0.451118, 0.451118, 0.451118,\n",
              "             0.451118, 0.451118, 0.451118, 0.451118, 0.451118, 0.451118,\n",
              "             0.451118, 0.451118, 0.451118, 0.451118, 0.451118, 0.451118,\n",
              "             0.451118, 0.451118, 0.451118, 0.451118, 0.451118, 0.451118,\n",
              "             0.451118, 0.451118, 0.451118, 0.451118, 0.451118, 0.451118,\n",
              "             0.451118, 0.451118, 0.451118, 0.451118, 0.451118, 0.451118,\n",
              "             0.451118, 0.451118, 0.451118, 0.451118, 0.451118, 0.451118,\n",
              "             0.451118, 0.451118, 0.451118, 0.451118, 0.451118, 0.451118,\n",
              "             0.451118, 0.451118, 0.451118, 0.451118, 0.451118, 0.451118,\n",
              "             0.451118, 0.451118, 0.451118, 0.451118, 0.451118, 0.451118,\n",
              "             0.451118, 0.451118, 0.451118, 0.451118, 0.451118, 0.451118,\n",
              "             0.451118, 0.451118, 0.451118, 0.451118, 0.451118, 0.451118,\n",
              "             0.451118, 0.451118, 0.451118, 0.451118, 0.451118, 0.451118,\n",
              "             0.451118, 0.451118, 0.451118, 0.451118, 0.451118, 0.451118,\n",
              "             0.451118, 0.451118, 0.451118, 0.451118, 0.451118, 0.451118,\n",
              "             0.451118, 0.451118, 0.451118, 0.451118, 0.451118, 0.451118,\n",
              "             0.451118, 0.451118, 0.451118, 0.451118, 0.451118, 0.451118,\n",
              "             0.451118, 0.451118, 0.451118, 0.451118, 0.451118, 0.451118,\n",
              "             0.451118, 0.451118, 0.451118, 0.451118, 0.451118, 0.451118,\n",
              "             0.451118, 0.451118, 0.451118, 0.451118, 0.451118, 0.451118,\n",
              "             0.451118, 0.451118, 0.451118, 0.451118, 0.451118, 0.451118,\n",
              "             0.451118, 0.451118, 0.451118, 0.451118, 0.451118, 0.451118,\n",
              "             0.451118, 0.451118, 0.451118, 0.451118, 0.451118, 0.451118,\n",
              "             0.451118, 0.451118, 0.451118, 0.451118, 0.451118, 0.451118,\n",
              "             0.451118, 0.451118, 0.451118, 0.451118, 0.451118, 0.451118,\n",
              "             0.451118, 0.451118, 0.451118, 0.451118, 0.451118, 0.451118,\n",
              "             0.451118, 0.451118, 0.451118, 0.451118, 0.451118, 0.451118,\n",
              "             0.451118, 0.451118, 0.451118, 0.451118, 0.451118, 0.451118,\n",
              "             0.451118, 0.451118, 0.451118, 0.451118, 0.451118, 0.451118,\n",
              "             0.451118, 0.451118, 0.451118, 0.451118, 0.451118, 0.451118,\n",
              "             0.451118, 0.451118, 0.451118, 0.451118, 0.451118, 0.451118,\n",
              "             0.451118, 0.451118, 0.451118, 0.451118, 0.451118, 0.451118,\n",
              "             0.451118, 0.451118, 0.451118, 0.451118, 0.451118, 0.451118,\n",
              "             0.451118, 0.451118, 0.451118, 0.451118, 0.451118, 0.451118,\n",
              "             0.451118, 0.451118, 0.451118, 0.451118, 0.451118, 0.451118,\n",
              "             0.451118, 0.451118, 0.451118, 0.451118, 0.451118, 0.451118,\n",
              "             0.451118, 0.451118, 0.451118, 0.451118, 0.451118, 0.451118,\n",
              "             0.451118, 0.451118, 0.451118, 0.451118, 0.451118, 0.451118,\n",
              "             0.451118, 0.451118, 0.451118, 0.451118, 0.451118, 0.451118,\n",
              "             0.451118, 0.451118, 0.451118, 0.451118, 0.451118, 0.451118,\n",
              "             0.451118, 0.451118, 0.451118, 0.451118, 0.451118, 0.451118,\n",
              "             0.451118, 0.451118, 0.451118, 0.451118, 0.451118, 0.451118,\n",
              "             0.451118, 0.451118, 0.451118, 0.451118, 0.451118, 0.451118,\n",
              "             0.451118, 0.451118, 0.451118, 0.451118, 0.451118, 0.451118,\n",
              "             0.451118, 0.451118, 0.451118, 0.451118, 0.451118, 0.451118,\n",
              "             0.451118, 0.451118, 0.451118, 0.451118, 0.451118, 0.451118,\n",
              "             0.451118, 0.451118, 0.451118, 0.451118, 0.451118, 0.451118,\n",
              "             0.451118, 0.451118, 0.451118, 0.451118, 0.451118, 0.451118,\n",
              "             0.451118, 0.451118, 0.451118, 0.451118, 0.451118, 0.451118,\n",
              "             0.451118, 0.451118, 0.451118, 0.451118, 0.451118, 0.451118,\n",
              "             0.451118, 0.451118, 0.451118, 0.451118, 0.451118, 0.451118,\n",
              "             0.451118, 0.451118, 0.451118, 0.451118, 0.451118, 0.451118,\n",
              "             0.451118, 0.451118, 0.451118, 0.451118, 0.451118, 0.451118,\n",
              "             0.451118, 0.451118, 0.451118, 0.451118, 0.451118, 0.451118,\n",
              "             0.451118, 0.451118, 0.451118, 0.451118, 0.451118, 0.451118,\n",
              "             0.451118, 0.451118, 0.451118, 0.451118, 0.451118, 0.451118,\n",
              "             0.451118, 0.451118, 0.451118, 0.451118, 0.451118, 0.451118,\n",
              "             0.451118, 0.451118, 0.451118, 0.451118, 0.451118, 0.451118,\n",
              "             0.451118, 0.451118, 0.451118, 0.451118, 0.451118, 0.451118,\n",
              "             0.451118, 0.451118, 0.451118, 0.451118, 0.451118, 0.451118,\n",
              "             0.451118, 0.451118, 0.451118, 0.451118, 0.451118, 0.451118,\n",
              "             0.451118, 0.451118, 0.451118, 0.451118, 0.451118, 0.451118,\n",
              "             0.451118, 0.451118, 0.451118, 0.451118, 0.451118, 0.451118,\n",
              "             0.451118, 0.451118, 0.451118, 0.451118, 0.451118, 0.451118,\n",
              "             0.451118, 0.451118, 0.451118, 0.451118, 0.451118, 0.451118,\n",
              "             0.451118, 0.451118, 0.451118, 0.451118, 0.451118, 0.451118,\n",
              "             0.451118, 0.451118, 0.451118, 0.451118, 0.451118, 0.451118,\n",
              "             0.451118, 0.451118, 0.451118, 0.451118, 0.451118, 0.451118,\n",
              "             0.451118, 0.451118, 0.451118, 0.451118, 0.451118, 0.451118,\n",
              "             0.451118, 0.451118, 0.451118, 0.451118, 0.451118, 0.451118,\n",
              "             0.451118, 0.451118, 0.451118, 0.451118, 0.451118, 0.451118,\n",
              "             0.451118, 0.451118, 0.451118, 0.451118, 0.451118, 0.451118,\n",
              "             0.451118, 0.451118, 0.451118, 0.451118, 0.451118, 0.451118,\n",
              "             0.451118, 0.451118, 0.451118, 0.451118, 0.451118, 0.451118,\n",
              "             0.451118, 0.451118, 0.451118, 0.451118, 0.451118, 0.451118,\n",
              "             0.451118, 0.451118, 0.451118, 0.451118, 0.451118, 0.451118,\n",
              "             0.451118, 0.451118, 0.451118, 0.451118, 0.451118, 0.451118,\n",
              "             0.451118, 0.451118, 0.451118, 0.451118, 0.451118, 0.451118,\n",
              "             0.451118, 0.451118, 0.451118, 0.451118, 0.451118, 0.451118,\n",
              "             0.451118, 0.451118, 0.451118, 0.451118, 0.451118, 0.451118,\n",
              "             0.451118, 0.451118, 0.451118, 0.451118, 0.451118, 0.451118,\n",
              "             0.451118, 0.451118, 0.451118, 0.451118, 0.451118, 0.451118,\n",
              "             0.451118, 0.451118, 0.451118, 0.451118, 0.451118, 0.451118,\n",
              "             0.451118, 0.451118, 0.451118, 0.451118, 0.451118, 0.451118,\n",
              "             0.451118, 0.451118, 0.451118, 0.451118, 0.451118, 0.451118,\n",
              "             0.451118, 0.451118, 0.451118, 0.451118, 0.451118, 0.451118,\n",
              "             0.451118, 0.451118, 0.451118, 0.451118, 0.451118, 0.451118,\n",
              "             0.451118, 0.451118, 0.451118, 0.451118, 0.451118, 0.451118,\n",
              "             0.451118, 0.451118, 0.451118, 0.451118, 0.451118, 0.451118,\n",
              "             0.451118, 0.451118, 0.451118, 0.451118, 0.451118, 0.451118,\n",
              "             0.451118, 0.451118, 0.451118, 0.451118, 0.451118, 0.451118,\n",
              "             0.451118, 0.451118, 0.451118, 0.451118, 0.451118, 0.451118,\n",
              "             0.451118, 0.451118, 0.451118, 0.451118, 0.451118, 0.451118,\n",
              "             0.451118, 0.451118, 0.451118, 0.451118, 0.451118, 0.451118,\n",
              "             0.451118, 0.451118, 0.451118, 0.451118, 0.451118, 0.451118,\n",
              "             0.451118, 0.451118, 0.451118, 0.451118, 0.451118, 0.451118,\n",
              "             0.451118, 0.451118, 0.451118, 0.451118, 0.451118, 0.451118,\n",
              "             0.451118, 0.451118, 0.451118, 0.451118, 0.451118, 0.451118,\n",
              "             0.451118, 0.451118, 0.451118, 0.451118, 0.451118, 0.451118,\n",
              "             0.451118, 0.451118, 0.451118, 0.451118, 0.451118, 0.451118,\n",
              "             0.451118, 0.451118, 0.451118, 0.451118, 0.451118, 0.451118,\n",
              "             0.451118, 0.451118, 0.451118, 0.451118, 0.451118, 0.451118,\n",
              "             0.451118, 0.451118, 0.451118, 0.451118, 0.451118, 0.451118,\n",
              "             0.451118, 0.451118, 0.451118, 0.451118, 0.451118, 0.451118,\n",
              "             0.451118, 0.451118, 0.451118, 0.451118, 0.451118, 0.451118,\n",
              "             0.451118, 0.451118, 0.451118, 0.451118, 0.451118, 0.451118,\n",
              "             0.451118, 0.451118, 0.451118, 0.451118, 0.451118, 0.451118,\n",
              "             0.451118, 0.451118, 0.451118, 0.451118, 0.451118, 0.451118,\n",
              "             0.451118, 0.451118, 0.451118, 0.451118, 0.451118, 0.451118,\n",
              "             0.451118, 0.451118, 0.451118, 0.451118, 0.451118, 0.451118,\n",
              "             0.451118, 0.451118, 0.451118, 0.451118, 0.451118, 0.451118,\n",
              "             0.451118, 0.451118, 0.451118, 0.451118, 0.451118, 0.451118,\n",
              "             0.451118, 0.451118, 0.451118, 0.451118, 0.451118, 0.451118,\n",
              "             0.451118, 0.451118, 0.451118, 0.451118, 0.451118, 0.451118,\n",
              "             0.451118, 0.451118, 0.451118, 0.451118, 0.451118, 0.451118,\n",
              "             0.451118, 0.451118, 0.451118, 0.451118, 0.451118, 0.451118,\n",
              "             0.451118, 0.451118, 0.451118, 0.451118, 0.451118, 0.451118,\n",
              "             0.451118, 0.451118, 0.451118, 0.451118, 0.451118, 0.451118,\n",
              "             0.451118, 0.451118, 0.451118, 0.451118, 0.451118, 0.451118,\n",
              "             0.451118, 0.451118, 0.451118, 0.451118, 0.451118, 0.451118,\n",
              "             0.451118, 0.451118, 0.451118, 0.451118, 0.451118, 0.451118,\n",
              "             0.451118, 0.451118, 0.451118, 0.451118, 0.451118, 0.451118,\n",
              "             0.451118, 0.451118, 0.451118, 0.451118, 0.451118, 0.451118,\n",
              "             0.451118, 0.451118, 0.451118, 0.451118, 0.451118, 0.451118,\n",
              "             0.451118, 0.451118, 0.451118, 0.451118, 0.451118, 0.451118,\n",
              "             0.451118, 0.451118, 0.451118, 0.451118, 0.451118, 0.451118,\n",
              "             0.451118, 0.451118, 0.451118, 0.451118, 0.451118, 0.451118,\n",
              "             0.451118, 0.451118, 0.451118, 0.451118, 0.451118, 0.451118,\n",
              "             0.451118, 0.451118, 0.451118, 0.451118, 0.451118, 0.451118,\n",
              "             0.451118, 0.451118, 0.451118, 0.451118, 0.451118, 0.451118,\n",
              "             0.451118, 0.451118, 0.451118, 0.451118, 0.451118, 0.451118,\n",
              "             0.451118, 0.451118, 0.451118, 0.451118, 0.451118, 0.451118,\n",
              "             0.451118, 0.451118, 0.451118, 0.451118, 0.451118, 0.451118,\n",
              "             0.451118, 0.451118, 0.451118, 0.451118, 0.451118, 0.451118,\n",
              "             0.451118, 0.451118, 0.451118, 0.451118, 0.451118, 0.451118,\n",
              "             0.451118, 0.451118, 0.451118, 0.451118, 0.451118, 0.451118,\n",
              "             0.451118, 0.451118, 0.451118, 0.451118, 0.451118, 0.451118,\n",
              "             0.451118, 0.451118, 0.451118, 0.451118, 0.451118, 0.451118,\n",
              "             0.451118, 0.451118, 0.451118, 0.451118, 0.451118, 0.451118,\n",
              "             0.451118, 0.451118, 0.451118, 0.451118, 0.451118, 0.451118,\n",
              "             0.451118, 0.451118, 0.451118, 0.451118, 0.451118, 0.451118,\n",
              "             0.451118, 0.451118, 0.451118, 0.451118, 0.451118, 0.451118,\n",
              "             0.451118, 0.451118, 0.451118, 0.451118, 0.451118, 0.451118,\n",
              "             0.451118, 0.451118, 0.451118, 0.451118, 0.451118, 0.451118,\n",
              "             0.451118, 0.451118, 0.451118, 0.451118, 0.451118, 0.451118,\n",
              "             0.451118, 0.451118, 0.451118, 0.451118, 0.451118, 0.451118,\n",
              "             0.451118, 0.451118, 0.451118, 0.451118, 0.451118, 0.451118,\n",
              "             0.451118, 0.451118, 0.451118, 0.451118, 0.451118, 0.451118,\n",
              "             0.451118, 0.451118, 0.451118, 0.451118, 0.451118, 0.451118,\n",
              "             0.451118, 0.451118, 0.451118, 0.451118, 0.451118, 0.451118,\n",
              "             0.451118, 0.451118, 0.451118, 0.451118, 0.451118, 0.451118,\n",
              "             0.451118, 0.451118, 0.451118, 0.451118, 0.451118, 0.451118,\n",
              "             0.451118, 0.451118, 0.451118, 0.451118, 0.451118, 0.451118,\n",
              "             0.451118, 0.451118, 0.451118, 0.451118, 0.451118, 0.451118,\n",
              "             0.451118, 0.451118, 0.451118, 0.451118], dtype=float32), num_leapfrog_steps=DeviceArray([3, 3, 3, 3, 3, 3, 3, 3, 3, 3, 3, 3, 3, 3, 3, 3, 3, 3, 3, 3,\n",
              "             3, 3, 3, 3, 3, 3, 3, 3, 3, 3, 3, 3, 3, 3, 3, 3, 3, 3, 3, 3,\n",
              "             3, 3, 3, 3, 3, 3, 3, 3, 3, 3, 3, 3, 3, 3, 3, 3, 3, 3, 3, 3,\n",
              "             3, 3, 3, 3, 3, 3, 3, 3, 3, 3, 3, 3, 3, 3, 3, 3, 3, 3, 3, 3,\n",
              "             3, 3, 3, 3, 3, 3, 3, 3, 3, 3, 3, 3, 3, 3, 3, 3, 3, 3, 3, 3,\n",
              "             3, 3, 3, 3, 3, 3, 3, 3, 3, 3, 3, 3, 3, 3, 3, 3, 3, 3, 3, 3,\n",
              "             3, 3, 3, 3, 3, 3, 3, 3, 3, 3, 3, 3, 3, 3, 3, 3, 3, 3, 3, 3,\n",
              "             3, 3, 3, 3, 3, 3, 3, 3, 3, 3, 3, 3, 3, 3, 3, 3, 3, 3, 3, 3,\n",
              "             3, 3, 3, 3, 3, 3, 3, 3, 3, 3, 3, 3, 3, 3, 3, 3, 3, 3, 3, 3,\n",
              "             3, 3, 3, 3, 3, 3, 3, 3, 3, 3, 3, 3, 3, 3, 3, 3, 3, 3, 3, 3,\n",
              "             3, 3, 3, 3, 3, 3, 3, 3, 3, 3, 3, 3, 3, 3, 3, 3, 3, 3, 3, 3,\n",
              "             3, 3, 3, 3, 3, 3, 3, 3, 3, 3, 3, 3, 3, 3, 3, 3, 3, 3, 3, 3,\n",
              "             3, 3, 3, 3, 3, 3, 3, 3, 3, 3, 3, 3, 3, 3, 3, 3, 3, 3, 3, 3,\n",
              "             3, 3, 3, 3, 3, 3, 3, 3, 3, 3, 3, 3, 3, 3, 3, 3, 3, 3, 3, 3,\n",
              "             3, 3, 3, 3, 3, 3, 3, 3, 3, 3, 3, 3, 3, 3, 3, 3, 3, 3, 3, 3,\n",
              "             3, 3, 3, 3, 3, 3, 3, 3, 3, 3, 3, 3, 3, 3, 3, 3, 3, 3, 3, 3,\n",
              "             3, 3, 3, 3, 3, 3, 3, 3, 3, 3, 3, 3, 3, 3, 3, 3, 3, 3, 3, 3,\n",
              "             3, 3, 3, 3, 3, 3, 3, 3, 3, 3, 3, 3, 3, 3, 3, 3, 3, 3, 3, 3,\n",
              "             3, 3, 3, 3, 3, 3, 3, 3, 3, 3, 3, 3, 3, 3, 3, 3, 3, 3, 3, 3,\n",
              "             3, 3, 3, 3, 3, 3, 3, 3, 3, 3, 3, 3, 3, 3, 3, 3, 3, 3, 3, 3,\n",
              "             3, 3, 3, 3, 3, 3, 3, 3, 3, 3, 3, 3, 3, 3, 3, 3, 3, 3, 3, 3,\n",
              "             3, 3, 3, 3, 3, 3, 3, 3, 3, 3, 3, 3, 3, 3, 3, 3, 3, 3, 3, 3,\n",
              "             3, 3, 3, 3, 3, 3, 3, 3, 3, 3, 3, 3, 3, 3, 3, 3, 3, 3, 3, 3,\n",
              "             3, 3, 3, 3, 3, 3, 3, 3, 3, 3, 3, 3, 3, 3, 3, 3, 3, 3, 3, 3,\n",
              "             3, 3, 3, 3, 3, 3, 3, 3, 3, 3, 3, 3, 3, 3, 3, 3, 3, 3, 3, 3,\n",
              "             3, 3, 3, 3, 3, 3, 3, 3, 3, 3, 3, 3, 3, 3, 3, 3, 3, 3, 3, 3,\n",
              "             3, 3, 3, 3, 3, 3, 3, 3, 3, 3, 3, 3, 3, 3, 3, 3, 3, 3, 3, 3,\n",
              "             3, 3, 3, 3, 3, 3, 3, 3, 3, 3, 3, 3, 3, 3, 3, 3, 3, 3, 3, 3,\n",
              "             3, 3, 3, 3, 3, 3, 3, 3, 3, 3, 3, 3, 3, 3, 3, 3, 3, 3, 3, 3,\n",
              "             3, 3, 3, 3, 3, 3, 3, 3, 3, 3, 3, 3, 3, 3, 3, 3, 3, 3, 3, 3,\n",
              "             3, 3, 3, 3, 3, 3, 3, 3, 3, 3, 3, 3, 3, 3, 3, 3, 3, 3, 3, 3,\n",
              "             3, 3, 3, 3, 3, 3, 3, 3, 3, 3, 3, 3, 3, 3, 3, 3, 3, 3, 3, 3,\n",
              "             3, 3, 3, 3, 3, 3, 3, 3, 3, 3, 3, 3, 3, 3, 3, 3, 3, 3, 3, 3,\n",
              "             3, 3, 3, 3, 3, 3, 3, 3, 3, 3, 3, 3, 3, 3, 3, 3, 3, 3, 3, 3,\n",
              "             3, 3, 3, 3, 3, 3, 3, 3, 3, 3, 3, 3, 3, 3, 3, 3, 3, 3, 3, 3,\n",
              "             3, 3, 3, 3, 3, 3, 3, 3, 3, 3, 3, 3, 3, 3, 3, 3, 3, 3, 3, 3,\n",
              "             3, 3, 3, 3, 3, 3, 3, 3, 3, 3, 3, 3, 3, 3, 3, 3, 3, 3, 3, 3,\n",
              "             3, 3, 3, 3, 3, 3, 3, 3, 3, 3, 3, 3, 3, 3, 3, 3, 3, 3, 3, 3,\n",
              "             3, 3, 3, 3, 3, 3, 3, 3, 3, 3, 3, 3, 3, 3, 3, 3, 3, 3, 3, 3,\n",
              "             3, 3, 3, 3, 3, 3, 3, 3, 3, 3, 3, 3, 3, 3, 3, 3, 3, 3, 3, 3,\n",
              "             3, 3, 3, 3, 3, 3, 3, 3, 3, 3, 3, 3, 3, 3, 3, 3, 3, 3, 3, 3,\n",
              "             3, 3, 3, 3, 3, 3, 3, 3, 3, 3, 3, 3, 3, 3, 3, 3, 3, 3, 3, 3,\n",
              "             3, 3, 3, 3, 3, 3, 3, 3, 3, 3, 3, 3, 3, 3, 3, 3, 3, 3, 3, 3,\n",
              "             3, 3, 3, 3, 3, 3, 3, 3, 3, 3, 3, 3, 3, 3, 3, 3, 3, 3, 3, 3,\n",
              "             3, 3, 3, 3, 3, 3, 3, 3, 3, 3, 3, 3, 3, 3, 3, 3, 3, 3, 3, 3,\n",
              "             3, 3, 3, 3, 3, 3, 3, 3, 3, 3, 3, 3, 3, 3, 3, 3, 3, 3, 3, 3,\n",
              "             3, 3, 3, 3, 3, 3, 3, 3, 3, 3, 3, 3, 3, 3, 3, 3, 3, 3, 3, 3,\n",
              "             3, 3, 3, 3, 3, 3, 3, 3, 3, 3, 3, 3, 3, 3, 3, 3, 3, 3, 3, 3,\n",
              "             3, 3, 3, 3, 3, 3, 3, 3, 3, 3, 3, 3, 3, 3, 3, 3, 3, 3, 3, 3,\n",
              "             3, 3, 3, 3, 3, 3, 3, 3, 3, 3, 3, 3, 3, 3, 3, 3, 3, 3, 3, 3],            dtype=int32)), extra=[]), target_accept_prob=DeviceArray([0.75, 0.75, 0.75, 0.75, 0.75, 0.75, 0.75, 0.75, 0.75, 0.75,\n",
              "             0.75, 0.75, 0.75, 0.75, 0.75, 0.75, 0.75, 0.75, 0.75, 0.75,\n",
              "             0.75, 0.75, 0.75, 0.75, 0.75, 0.75, 0.75, 0.75, 0.75, 0.75,\n",
              "             0.75, 0.75, 0.75, 0.75, 0.75, 0.75, 0.75, 0.75, 0.75, 0.75,\n",
              "             0.75, 0.75, 0.75, 0.75, 0.75, 0.75, 0.75, 0.75, 0.75, 0.75,\n",
              "             0.75, 0.75, 0.75, 0.75, 0.75, 0.75, 0.75, 0.75, 0.75, 0.75,\n",
              "             0.75, 0.75, 0.75, 0.75, 0.75, 0.75, 0.75, 0.75, 0.75, 0.75,\n",
              "             0.75, 0.75, 0.75, 0.75, 0.75, 0.75, 0.75, 0.75, 0.75, 0.75,\n",
              "             0.75, 0.75, 0.75, 0.75, 0.75, 0.75, 0.75, 0.75, 0.75, 0.75,\n",
              "             0.75, 0.75, 0.75, 0.75, 0.75, 0.75, 0.75, 0.75, 0.75, 0.75,\n",
              "             0.75, 0.75, 0.75, 0.75, 0.75, 0.75, 0.75, 0.75, 0.75, 0.75,\n",
              "             0.75, 0.75, 0.75, 0.75, 0.75, 0.75, 0.75, 0.75, 0.75, 0.75,\n",
              "             0.75, 0.75, 0.75, 0.75, 0.75, 0.75, 0.75, 0.75, 0.75, 0.75,\n",
              "             0.75, 0.75, 0.75, 0.75, 0.75, 0.75, 0.75, 0.75, 0.75, 0.75,\n",
              "             0.75, 0.75, 0.75, 0.75, 0.75, 0.75, 0.75, 0.75, 0.75, 0.75,\n",
              "             0.75, 0.75, 0.75, 0.75, 0.75, 0.75, 0.75, 0.75, 0.75, 0.75,\n",
              "             0.75, 0.75, 0.75, 0.75, 0.75, 0.75, 0.75, 0.75, 0.75, 0.75,\n",
              "             0.75, 0.75, 0.75, 0.75, 0.75, 0.75, 0.75, 0.75, 0.75, 0.75,\n",
              "             0.75, 0.75, 0.75, 0.75, 0.75, 0.75, 0.75, 0.75, 0.75, 0.75,\n",
              "             0.75, 0.75, 0.75, 0.75, 0.75, 0.75, 0.75, 0.75, 0.75, 0.75,\n",
              "             0.75, 0.75, 0.75, 0.75, 0.75, 0.75, 0.75, 0.75, 0.75, 0.75,\n",
              "             0.75, 0.75, 0.75, 0.75, 0.75, 0.75, 0.75, 0.75, 0.75, 0.75,\n",
              "             0.75, 0.75, 0.75, 0.75, 0.75, 0.75, 0.75, 0.75, 0.75, 0.75,\n",
              "             0.75, 0.75, 0.75, 0.75, 0.75, 0.75, 0.75, 0.75, 0.75, 0.75,\n",
              "             0.75, 0.75, 0.75, 0.75, 0.75, 0.75, 0.75, 0.75, 0.75, 0.75,\n",
              "             0.75, 0.75, 0.75, 0.75, 0.75, 0.75, 0.75, 0.75, 0.75, 0.75,\n",
              "             0.75, 0.75, 0.75, 0.75, 0.75, 0.75, 0.75, 0.75, 0.75, 0.75,\n",
              "             0.75, 0.75, 0.75, 0.75, 0.75, 0.75, 0.75, 0.75, 0.75, 0.75,\n",
              "             0.75, 0.75, 0.75, 0.75, 0.75, 0.75, 0.75, 0.75, 0.75, 0.75,\n",
              "             0.75, 0.75, 0.75, 0.75, 0.75, 0.75, 0.75, 0.75, 0.75, 0.75,\n",
              "             0.75, 0.75, 0.75, 0.75, 0.75, 0.75, 0.75, 0.75, 0.75, 0.75,\n",
              "             0.75, 0.75, 0.75, 0.75, 0.75, 0.75, 0.75, 0.75, 0.75, 0.75,\n",
              "             0.75, 0.75, 0.75, 0.75, 0.75, 0.75, 0.75, 0.75, 0.75, 0.75,\n",
              "             0.75, 0.75, 0.75, 0.75, 0.75, 0.75, 0.75, 0.75, 0.75, 0.75,\n",
              "             0.75, 0.75, 0.75, 0.75, 0.75, 0.75, 0.75, 0.75, 0.75, 0.75,\n",
              "             0.75, 0.75, 0.75, 0.75, 0.75, 0.75, 0.75, 0.75, 0.75, 0.75,\n",
              "             0.75, 0.75, 0.75, 0.75, 0.75, 0.75, 0.75, 0.75, 0.75, 0.75,\n",
              "             0.75, 0.75, 0.75, 0.75, 0.75, 0.75, 0.75, 0.75, 0.75, 0.75,\n",
              "             0.75, 0.75, 0.75, 0.75, 0.75, 0.75, 0.75, 0.75, 0.75, 0.75,\n",
              "             0.75, 0.75, 0.75, 0.75, 0.75, 0.75, 0.75, 0.75, 0.75, 0.75,\n",
              "             0.75, 0.75, 0.75, 0.75, 0.75, 0.75, 0.75, 0.75, 0.75, 0.75,\n",
              "             0.75, 0.75, 0.75, 0.75, 0.75, 0.75, 0.75, 0.75, 0.75, 0.75,\n",
              "             0.75, 0.75, 0.75, 0.75, 0.75, 0.75, 0.75, 0.75, 0.75, 0.75,\n",
              "             0.75, 0.75, 0.75, 0.75, 0.75, 0.75, 0.75, 0.75, 0.75, 0.75,\n",
              "             0.75, 0.75, 0.75, 0.75, 0.75, 0.75, 0.75, 0.75, 0.75, 0.75,\n",
              "             0.75, 0.75, 0.75, 0.75, 0.75, 0.75, 0.75, 0.75, 0.75, 0.75,\n",
              "             0.75, 0.75, 0.75, 0.75, 0.75, 0.75, 0.75, 0.75, 0.75, 0.75,\n",
              "             0.75, 0.75, 0.75, 0.75, 0.75, 0.75, 0.75, 0.75, 0.75, 0.75,\n",
              "             0.75, 0.75, 0.75, 0.75, 0.75, 0.75, 0.75, 0.75, 0.75, 0.75,\n",
              "             0.75, 0.75, 0.75, 0.75, 0.75, 0.75, 0.75, 0.75, 0.75, 0.75,\n",
              "             0.75, 0.75, 0.75, 0.75, 0.75, 0.75, 0.75, 0.75, 0.75, 0.75,\n",
              "             0.75, 0.75, 0.75, 0.75, 0.75, 0.75, 0.75, 0.75, 0.75, 0.75,\n",
              "             0.75, 0.75, 0.75, 0.75, 0.75, 0.75, 0.75, 0.75, 0.75, 0.75,\n",
              "             0.75, 0.75, 0.75, 0.75, 0.75, 0.75, 0.75, 0.75, 0.75, 0.75,\n",
              "             0.75, 0.75, 0.75, 0.75, 0.75, 0.75, 0.75, 0.75, 0.75, 0.75,\n",
              "             0.75, 0.75, 0.75, 0.75, 0.75, 0.75, 0.75, 0.75, 0.75, 0.75,\n",
              "             0.75, 0.75, 0.75, 0.75, 0.75, 0.75, 0.75, 0.75, 0.75, 0.75,\n",
              "             0.75, 0.75, 0.75, 0.75, 0.75, 0.75, 0.75, 0.75, 0.75, 0.75,\n",
              "             0.75, 0.75, 0.75, 0.75, 0.75, 0.75, 0.75, 0.75, 0.75, 0.75,\n",
              "             0.75, 0.75, 0.75, 0.75, 0.75, 0.75, 0.75, 0.75, 0.75, 0.75,\n",
              "             0.75, 0.75, 0.75, 0.75, 0.75, 0.75, 0.75, 0.75, 0.75, 0.75,\n",
              "             0.75, 0.75, 0.75, 0.75, 0.75, 0.75, 0.75, 0.75, 0.75, 0.75,\n",
              "             0.75, 0.75, 0.75, 0.75, 0.75, 0.75, 0.75, 0.75, 0.75, 0.75,\n",
              "             0.75, 0.75, 0.75, 0.75, 0.75, 0.75, 0.75, 0.75, 0.75, 0.75,\n",
              "             0.75, 0.75, 0.75, 0.75, 0.75, 0.75, 0.75, 0.75, 0.75, 0.75,\n",
              "             0.75, 0.75, 0.75, 0.75, 0.75, 0.75, 0.75, 0.75, 0.75, 0.75,\n",
              "             0.75, 0.75, 0.75, 0.75, 0.75, 0.75, 0.75, 0.75, 0.75, 0.75,\n",
              "             0.75, 0.75, 0.75, 0.75, 0.75, 0.75, 0.75, 0.75, 0.75, 0.75,\n",
              "             0.75, 0.75, 0.75, 0.75, 0.75, 0.75, 0.75, 0.75, 0.75, 0.75,\n",
              "             0.75, 0.75, 0.75, 0.75, 0.75, 0.75, 0.75, 0.75, 0.75, 0.75,\n",
              "             0.75, 0.75, 0.75, 0.75, 0.75, 0.75, 0.75, 0.75, 0.75, 0.75,\n",
              "             0.75, 0.75, 0.75, 0.75, 0.75, 0.75, 0.75, 0.75, 0.75, 0.75,\n",
              "             0.75, 0.75, 0.75, 0.75, 0.75, 0.75, 0.75, 0.75, 0.75, 0.75,\n",
              "             0.75, 0.75, 0.75, 0.75, 0.75, 0.75, 0.75, 0.75, 0.75, 0.75,\n",
              "             0.75, 0.75, 0.75, 0.75, 0.75, 0.75, 0.75, 0.75, 0.75, 0.75,\n",
              "             0.75, 0.75, 0.75, 0.75, 0.75, 0.75, 0.75, 0.75, 0.75, 0.75,\n",
              "             0.75, 0.75, 0.75, 0.75, 0.75, 0.75, 0.75, 0.75, 0.75, 0.75,\n",
              "             0.75, 0.75, 0.75, 0.75, 0.75, 0.75, 0.75, 0.75, 0.75, 0.75,\n",
              "             0.75, 0.75, 0.75, 0.75, 0.75, 0.75, 0.75, 0.75, 0.75, 0.75,\n",
              "             0.75, 0.75, 0.75, 0.75, 0.75, 0.75, 0.75, 0.75, 0.75, 0.75,\n",
              "             0.75, 0.75, 0.75, 0.75, 0.75, 0.75, 0.75, 0.75, 0.75, 0.75,\n",
              "             0.75, 0.75, 0.75, 0.75, 0.75, 0.75, 0.75, 0.75, 0.75, 0.75,\n",
              "             0.75, 0.75, 0.75, 0.75, 0.75, 0.75, 0.75, 0.75, 0.75, 0.75,\n",
              "             0.75, 0.75, 0.75, 0.75, 0.75, 0.75, 0.75, 0.75, 0.75, 0.75,\n",
              "             0.75, 0.75, 0.75, 0.75, 0.75, 0.75, 0.75, 0.75, 0.75, 0.75,\n",
              "             0.75, 0.75, 0.75, 0.75, 0.75, 0.75, 0.75, 0.75, 0.75, 0.75,\n",
              "             0.75, 0.75, 0.75, 0.75, 0.75, 0.75, 0.75, 0.75, 0.75, 0.75,\n",
              "             0.75, 0.75, 0.75, 0.75, 0.75, 0.75, 0.75, 0.75, 0.75, 0.75,\n",
              "             0.75, 0.75, 0.75, 0.75, 0.75, 0.75, 0.75, 0.75, 0.75, 0.75,\n",
              "             0.75, 0.75, 0.75, 0.75, 0.75, 0.75, 0.75, 0.75, 0.75, 0.75,\n",
              "             0.75, 0.75, 0.75, 0.75, 0.75, 0.75, 0.75, 0.75, 0.75, 0.75,\n",
              "             0.75, 0.75, 0.75, 0.75, 0.75, 0.75, 0.75, 0.75, 0.75, 0.75,\n",
              "             0.75, 0.75, 0.75, 0.75, 0.75, 0.75, 0.75, 0.75, 0.75, 0.75,\n",
              "             0.75, 0.75, 0.75, 0.75, 0.75, 0.75, 0.75, 0.75, 0.75, 0.75,\n",
              "             0.75, 0.75, 0.75, 0.75, 0.75, 0.75, 0.75, 0.75, 0.75, 0.75,\n",
              "             0.75, 0.75, 0.75, 0.75, 0.75, 0.75, 0.75, 0.75, 0.75, 0.75,\n",
              "             0.75, 0.75, 0.75, 0.75, 0.75, 0.75, 0.75, 0.75, 0.75, 0.75,\n",
              "             0.75, 0.75, 0.75, 0.75, 0.75, 0.75, 0.75, 0.75, 0.75, 0.75,\n",
              "             0.75, 0.75, 0.75, 0.75, 0.75, 0.75, 0.75, 0.75, 0.75, 0.75,\n",
              "             0.75, 0.75, 0.75, 0.75, 0.75, 0.75, 0.75, 0.75, 0.75, 0.75],            dtype=float32), adaptation_rate=DeviceArray([0.01, 0.01, 0.01, 0.01, 0.01, 0.01, 0.01, 0.01, 0.01, 0.01,\n",
              "             0.01, 0.01, 0.01, 0.01, 0.01, 0.01, 0.01, 0.01, 0.01, 0.01,\n",
              "             0.01, 0.01, 0.01, 0.01, 0.01, 0.01, 0.01, 0.01, 0.01, 0.01,\n",
              "             0.01, 0.01, 0.01, 0.01, 0.01, 0.01, 0.01, 0.01, 0.01, 0.01,\n",
              "             0.01, 0.01, 0.01, 0.01, 0.01, 0.01, 0.01, 0.01, 0.01, 0.01,\n",
              "             0.01, 0.01, 0.01, 0.01, 0.01, 0.01, 0.01, 0.01, 0.01, 0.01,\n",
              "             0.01, 0.01, 0.01, 0.01, 0.01, 0.01, 0.01, 0.01, 0.01, 0.01,\n",
              "             0.01, 0.01, 0.01, 0.01, 0.01, 0.01, 0.01, 0.01, 0.01, 0.01,\n",
              "             0.01, 0.01, 0.01, 0.01, 0.01, 0.01, 0.01, 0.01, 0.01, 0.01,\n",
              "             0.01, 0.01, 0.01, 0.01, 0.01, 0.01, 0.01, 0.01, 0.01, 0.01,\n",
              "             0.01, 0.01, 0.01, 0.01, 0.01, 0.01, 0.01, 0.01, 0.01, 0.01,\n",
              "             0.01, 0.01, 0.01, 0.01, 0.01, 0.01, 0.01, 0.01, 0.01, 0.01,\n",
              "             0.01, 0.01, 0.01, 0.01, 0.01, 0.01, 0.01, 0.01, 0.01, 0.01,\n",
              "             0.01, 0.01, 0.01, 0.01, 0.01, 0.01, 0.01, 0.01, 0.01, 0.01,\n",
              "             0.01, 0.01, 0.01, 0.01, 0.01, 0.01, 0.01, 0.01, 0.01, 0.01,\n",
              "             0.01, 0.01, 0.01, 0.01, 0.01, 0.01, 0.01, 0.01, 0.01, 0.01,\n",
              "             0.01, 0.01, 0.01, 0.01, 0.01, 0.01, 0.01, 0.01, 0.01, 0.01,\n",
              "             0.01, 0.01, 0.01, 0.01, 0.01, 0.01, 0.01, 0.01, 0.01, 0.01,\n",
              "             0.01, 0.01, 0.01, 0.01, 0.01, 0.01, 0.01, 0.01, 0.01, 0.01,\n",
              "             0.01, 0.01, 0.01, 0.01, 0.01, 0.01, 0.01, 0.01, 0.01, 0.01,\n",
              "             0.01, 0.01, 0.01, 0.01, 0.01, 0.01, 0.01, 0.01, 0.01, 0.01,\n",
              "             0.01, 0.01, 0.01, 0.01, 0.01, 0.01, 0.01, 0.01, 0.01, 0.01,\n",
              "             0.01, 0.01, 0.01, 0.01, 0.01, 0.01, 0.01, 0.01, 0.01, 0.01,\n",
              "             0.01, 0.01, 0.01, 0.01, 0.01, 0.01, 0.01, 0.01, 0.01, 0.01,\n",
              "             0.01, 0.01, 0.01, 0.01, 0.01, 0.01, 0.01, 0.01, 0.01, 0.01,\n",
              "             0.01, 0.01, 0.01, 0.01, 0.01, 0.01, 0.01, 0.01, 0.01, 0.01,\n",
              "             0.01, 0.01, 0.01, 0.01, 0.01, 0.01, 0.01, 0.01, 0.01, 0.01,\n",
              "             0.01, 0.01, 0.01, 0.01, 0.01, 0.01, 0.01, 0.01, 0.01, 0.01,\n",
              "             0.01, 0.01, 0.01, 0.01, 0.01, 0.01, 0.01, 0.01, 0.01, 0.01,\n",
              "             0.01, 0.01, 0.01, 0.01, 0.01, 0.01, 0.01, 0.01, 0.01, 0.01,\n",
              "             0.01, 0.01, 0.01, 0.01, 0.01, 0.01, 0.01, 0.01, 0.01, 0.01,\n",
              "             0.01, 0.01, 0.01, 0.01, 0.01, 0.01, 0.01, 0.01, 0.01, 0.01,\n",
              "             0.01, 0.01, 0.01, 0.01, 0.01, 0.01, 0.01, 0.01, 0.01, 0.01,\n",
              "             0.01, 0.01, 0.01, 0.01, 0.01, 0.01, 0.01, 0.01, 0.01, 0.01,\n",
              "             0.01, 0.01, 0.01, 0.01, 0.01, 0.01, 0.01, 0.01, 0.01, 0.01,\n",
              "             0.01, 0.01, 0.01, 0.01, 0.01, 0.01, 0.01, 0.01, 0.01, 0.01,\n",
              "             0.01, 0.01, 0.01, 0.01, 0.01, 0.01, 0.01, 0.01, 0.01, 0.01,\n",
              "             0.01, 0.01, 0.01, 0.01, 0.01, 0.01, 0.01, 0.01, 0.01, 0.01,\n",
              "             0.01, 0.01, 0.01, 0.01, 0.01, 0.01, 0.01, 0.01, 0.01, 0.01,\n",
              "             0.01, 0.01, 0.01, 0.01, 0.01, 0.01, 0.01, 0.01, 0.01, 0.01,\n",
              "             0.01, 0.01, 0.01, 0.01, 0.01, 0.01, 0.01, 0.01, 0.01, 0.01,\n",
              "             0.01, 0.01, 0.01, 0.01, 0.01, 0.01, 0.01, 0.01, 0.01, 0.01,\n",
              "             0.01, 0.01, 0.01, 0.01, 0.01, 0.01, 0.01, 0.01, 0.01, 0.01,\n",
              "             0.01, 0.01, 0.01, 0.01, 0.01, 0.01, 0.01, 0.01, 0.01, 0.01,\n",
              "             0.01, 0.01, 0.01, 0.01, 0.01, 0.01, 0.01, 0.01, 0.01, 0.01,\n",
              "             0.01, 0.01, 0.01, 0.01, 0.01, 0.01, 0.01, 0.01, 0.01, 0.01,\n",
              "             0.01, 0.01, 0.01, 0.01, 0.01, 0.01, 0.01, 0.01, 0.01, 0.01,\n",
              "             0.01, 0.01, 0.01, 0.01, 0.01, 0.01, 0.01, 0.01, 0.01, 0.01,\n",
              "             0.01, 0.01, 0.01, 0.01, 0.01, 0.01, 0.01, 0.01, 0.01, 0.01,\n",
              "             0.01, 0.01, 0.01, 0.01, 0.01, 0.01, 0.01, 0.01, 0.01, 0.01,\n",
              "             0.01, 0.01, 0.01, 0.01, 0.01, 0.01, 0.01, 0.01, 0.01, 0.01,\n",
              "             0.01, 0.01, 0.01, 0.01, 0.01, 0.01, 0.01, 0.01, 0.01, 0.01,\n",
              "             0.01, 0.01, 0.01, 0.01, 0.01, 0.01, 0.01, 0.01, 0.01, 0.01,\n",
              "             0.01, 0.01, 0.01, 0.01, 0.01, 0.01, 0.01, 0.01, 0.01, 0.01,\n",
              "             0.01, 0.01, 0.01, 0.01, 0.01, 0.01, 0.01, 0.01, 0.01, 0.01,\n",
              "             0.01, 0.01, 0.01, 0.01, 0.01, 0.01, 0.01, 0.01, 0.01, 0.01,\n",
              "             0.01, 0.01, 0.01, 0.01, 0.01, 0.01, 0.01, 0.01, 0.01, 0.01,\n",
              "             0.01, 0.01, 0.01, 0.01, 0.01, 0.01, 0.01, 0.01, 0.01, 0.01,\n",
              "             0.01, 0.01, 0.01, 0.01, 0.01, 0.01, 0.01, 0.01, 0.01, 0.01,\n",
              "             0.01, 0.01, 0.01, 0.01, 0.01, 0.01, 0.01, 0.01, 0.01, 0.01,\n",
              "             0.01, 0.01, 0.01, 0.01, 0.01, 0.01, 0.01, 0.01, 0.01, 0.01,\n",
              "             0.01, 0.01, 0.01, 0.01, 0.01, 0.01, 0.01, 0.01, 0.01, 0.01,\n",
              "             0.01, 0.01, 0.01, 0.01, 0.01, 0.01, 0.01, 0.01, 0.01, 0.01,\n",
              "             0.01, 0.01, 0.01, 0.01, 0.01, 0.01, 0.01, 0.01, 0.01, 0.01,\n",
              "             0.01, 0.01, 0.01, 0.01, 0.01, 0.01, 0.01, 0.01, 0.01, 0.01,\n",
              "             0.01, 0.01, 0.01, 0.01, 0.01, 0.01, 0.01, 0.01, 0.01, 0.01,\n",
              "             0.01, 0.01, 0.01, 0.01, 0.01, 0.01, 0.01, 0.01, 0.01, 0.01,\n",
              "             0.01, 0.01, 0.01, 0.01, 0.01, 0.01, 0.01, 0.01, 0.01, 0.01,\n",
              "             0.01, 0.01, 0.01, 0.01, 0.01, 0.01, 0.01, 0.01, 0.01, 0.01,\n",
              "             0.01, 0.01, 0.01, 0.01, 0.01, 0.01, 0.01, 0.01, 0.01, 0.01,\n",
              "             0.01, 0.01, 0.01, 0.01, 0.01, 0.01, 0.01, 0.01, 0.01, 0.01,\n",
              "             0.01, 0.01, 0.01, 0.01, 0.01, 0.01, 0.01, 0.01, 0.01, 0.01,\n",
              "             0.01, 0.01, 0.01, 0.01, 0.01, 0.01, 0.01, 0.01, 0.01, 0.01,\n",
              "             0.01, 0.01, 0.01, 0.01, 0.01, 0.01, 0.01, 0.01, 0.01, 0.01,\n",
              "             0.01, 0.01, 0.01, 0.01, 0.01, 0.01, 0.01, 0.01, 0.01, 0.01,\n",
              "             0.01, 0.01, 0.01, 0.01, 0.01, 0.01, 0.01, 0.01, 0.01, 0.01,\n",
              "             0.01, 0.01, 0.01, 0.01, 0.01, 0.01, 0.01, 0.01, 0.01, 0.01,\n",
              "             0.01, 0.01, 0.01, 0.01, 0.01, 0.01, 0.01, 0.01, 0.01, 0.01,\n",
              "             0.01, 0.01, 0.01, 0.01, 0.01, 0.01, 0.01, 0.01, 0.01, 0.01,\n",
              "             0.01, 0.01, 0.01, 0.01, 0.01, 0.01, 0.01, 0.01, 0.01, 0.01,\n",
              "             0.01, 0.01, 0.01, 0.01, 0.01, 0.01, 0.01, 0.01, 0.01, 0.01,\n",
              "             0.01, 0.01, 0.01, 0.01, 0.01, 0.01, 0.01, 0.01, 0.01, 0.01,\n",
              "             0.01, 0.01, 0.01, 0.01, 0.01, 0.01, 0.01, 0.01, 0.01, 0.01,\n",
              "             0.01, 0.01, 0.01, 0.01, 0.01, 0.01, 0.01, 0.01, 0.01, 0.01,\n",
              "             0.01, 0.01, 0.01, 0.01, 0.01, 0.01, 0.01, 0.01, 0.01, 0.01,\n",
              "             0.01, 0.01, 0.01, 0.01, 0.01, 0.01, 0.01, 0.01, 0.01, 0.01,\n",
              "             0.01, 0.01, 0.01, 0.01, 0.01, 0.01, 0.01, 0.01, 0.01, 0.01,\n",
              "             0.01, 0.01, 0.01, 0.01, 0.01, 0.01, 0.01, 0.01, 0.01, 0.01,\n",
              "             0.01, 0.01, 0.01, 0.01, 0.01, 0.01, 0.01, 0.01, 0.01, 0.01,\n",
              "             0.01, 0.01, 0.01, 0.01, 0.01, 0.01, 0.01, 0.01, 0.01, 0.01,\n",
              "             0.01, 0.01, 0.01, 0.01, 0.01, 0.01, 0.01, 0.01, 0.01, 0.01,\n",
              "             0.01, 0.01, 0.01, 0.01, 0.01, 0.01, 0.01, 0.01, 0.01, 0.01,\n",
              "             0.01, 0.01, 0.01, 0.01, 0.01, 0.01, 0.01, 0.01, 0.01, 0.01,\n",
              "             0.01, 0.01, 0.01, 0.01, 0.01, 0.01, 0.01, 0.01, 0.01, 0.01,\n",
              "             0.01, 0.01, 0.01, 0.01, 0.01, 0.01, 0.01, 0.01, 0.01, 0.01,\n",
              "             0.01, 0.01, 0.01, 0.01, 0.01, 0.01, 0.01, 0.01, 0.01, 0.01,\n",
              "             0.01, 0.01, 0.01, 0.01, 0.01, 0.01, 0.01, 0.01, 0.01, 0.01,\n",
              "             0.01, 0.01, 0.01, 0.01, 0.01, 0.01, 0.01, 0.01, 0.01, 0.01,\n",
              "             0.01, 0.01, 0.01, 0.01, 0.01, 0.01, 0.01, 0.01, 0.01, 0.01,\n",
              "             0.01, 0.01, 0.01, 0.01, 0.01, 0.01, 0.01, 0.01, 0.01, 0.01],            dtype=float32), step=DeviceArray([ 101,  102,  103,  104,  105,  106,  107,  108,  109,  110,\n",
              "              111,  112,  113,  114,  115,  116,  117,  118,  119,  120,\n",
              "              121,  122,  123,  124,  125,  126,  127,  128,  129,  130,\n",
              "              131,  132,  133,  134,  135,  136,  137,  138,  139,  140,\n",
              "              141,  142,  143,  144,  145,  146,  147,  148,  149,  150,\n",
              "              151,  152,  153,  154,  155,  156,  157,  158,  159,  160,\n",
              "              161,  162,  163,  164,  165,  166,  167,  168,  169,  170,\n",
              "              171,  172,  173,  174,  175,  176,  177,  178,  179,  180,\n",
              "              181,  182,  183,  184,  185,  186,  187,  188,  189,  190,\n",
              "              191,  192,  193,  194,  195,  196,  197,  198,  199,  200,\n",
              "              201,  202,  203,  204,  205,  206,  207,  208,  209,  210,\n",
              "              211,  212,  213,  214,  215,  216,  217,  218,  219,  220,\n",
              "              221,  222,  223,  224,  225,  226,  227,  228,  229,  230,\n",
              "              231,  232,  233,  234,  235,  236,  237,  238,  239,  240,\n",
              "              241,  242,  243,  244,  245,  246,  247,  248,  249,  250,\n",
              "              251,  252,  253,  254,  255,  256,  257,  258,  259,  260,\n",
              "              261,  262,  263,  264,  265,  266,  267,  268,  269,  270,\n",
              "              271,  272,  273,  274,  275,  276,  277,  278,  279,  280,\n",
              "              281,  282,  283,  284,  285,  286,  287,  288,  289,  290,\n",
              "              291,  292,  293,  294,  295,  296,  297,  298,  299,  300,\n",
              "              301,  302,  303,  304,  305,  306,  307,  308,  309,  310,\n",
              "              311,  312,  313,  314,  315,  316,  317,  318,  319,  320,\n",
              "              321,  322,  323,  324,  325,  326,  327,  328,  329,  330,\n",
              "              331,  332,  333,  334,  335,  336,  337,  338,  339,  340,\n",
              "              341,  342,  343,  344,  345,  346,  347,  348,  349,  350,\n",
              "              351,  352,  353,  354,  355,  356,  357,  358,  359,  360,\n",
              "              361,  362,  363,  364,  365,  366,  367,  368,  369,  370,\n",
              "              371,  372,  373,  374,  375,  376,  377,  378,  379,  380,\n",
              "              381,  382,  383,  384,  385,  386,  387,  388,  389,  390,\n",
              "              391,  392,  393,  394,  395,  396,  397,  398,  399,  400,\n",
              "              401,  402,  403,  404,  405,  406,  407,  408,  409,  410,\n",
              "              411,  412,  413,  414,  415,  416,  417,  418,  419,  420,\n",
              "              421,  422,  423,  424,  425,  426,  427,  428,  429,  430,\n",
              "              431,  432,  433,  434,  435,  436,  437,  438,  439,  440,\n",
              "              441,  442,  443,  444,  445,  446,  447,  448,  449,  450,\n",
              "              451,  452,  453,  454,  455,  456,  457,  458,  459,  460,\n",
              "              461,  462,  463,  464,  465,  466,  467,  468,  469,  470,\n",
              "              471,  472,  473,  474,  475,  476,  477,  478,  479,  480,\n",
              "              481,  482,  483,  484,  485,  486,  487,  488,  489,  490,\n",
              "              491,  492,  493,  494,  495,  496,  497,  498,  499,  500,\n",
              "              501,  502,  503,  504,  505,  506,  507,  508,  509,  510,\n",
              "              511,  512,  513,  514,  515,  516,  517,  518,  519,  520,\n",
              "              521,  522,  523,  524,  525,  526,  527,  528,  529,  530,\n",
              "              531,  532,  533,  534,  535,  536,  537,  538,  539,  540,\n",
              "              541,  542,  543,  544,  545,  546,  547,  548,  549,  550,\n",
              "              551,  552,  553,  554,  555,  556,  557,  558,  559,  560,\n",
              "              561,  562,  563,  564,  565,  566,  567,  568,  569,  570,\n",
              "              571,  572,  573,  574,  575,  576,  577,  578,  579,  580,\n",
              "              581,  582,  583,  584,  585,  586,  587,  588,  589,  590,\n",
              "              591,  592,  593,  594,  595,  596,  597,  598,  599,  600,\n",
              "              601,  602,  603,  604,  605,  606,  607,  608,  609,  610,\n",
              "              611,  612,  613,  614,  615,  616,  617,  618,  619,  620,\n",
              "              621,  622,  623,  624,  625,  626,  627,  628,  629,  630,\n",
              "              631,  632,  633,  634,  635,  636,  637,  638,  639,  640,\n",
              "              641,  642,  643,  644,  645,  646,  647,  648,  649,  650,\n",
              "              651,  652,  653,  654,  655,  656,  657,  658,  659,  660,\n",
              "              661,  662,  663,  664,  665,  666,  667,  668,  669,  670,\n",
              "              671,  672,  673,  674,  675,  676,  677,  678,  679,  680,\n",
              "              681,  682,  683,  684,  685,  686,  687,  688,  689,  690,\n",
              "              691,  692,  693,  694,  695,  696,  697,  698,  699,  700,\n",
              "              701,  702,  703,  704,  705,  706,  707,  708,  709,  710,\n",
              "              711,  712,  713,  714,  715,  716,  717,  718,  719,  720,\n",
              "              721,  722,  723,  724,  725,  726,  727,  728,  729,  730,\n",
              "              731,  732,  733,  734,  735,  736,  737,  738,  739,  740,\n",
              "              741,  742,  743,  744,  745,  746,  747,  748,  749,  750,\n",
              "              751,  752,  753,  754,  755,  756,  757,  758,  759,  760,\n",
              "              761,  762,  763,  764,  765,  766,  767,  768,  769,  770,\n",
              "              771,  772,  773,  774,  775,  776,  777,  778,  779,  780,\n",
              "              781,  782,  783,  784,  785,  786,  787,  788,  789,  790,\n",
              "              791,  792,  793,  794,  795,  796,  797,  798,  799,  800,\n",
              "              801,  802,  803,  804,  805,  806,  807,  808,  809,  810,\n",
              "              811,  812,  813,  814,  815,  816,  817,  818,  819,  820,\n",
              "              821,  822,  823,  824,  825,  826,  827,  828,  829,  830,\n",
              "              831,  832,  833,  834,  835,  836,  837,  838,  839,  840,\n",
              "              841,  842,  843,  844,  845,  846,  847,  848,  849,  850,\n",
              "              851,  852,  853,  854,  855,  856,  857,  858,  859,  860,\n",
              "              861,  862,  863,  864,  865,  866,  867,  868,  869,  870,\n",
              "              871,  872,  873,  874,  875,  876,  877,  878,  879,  880,\n",
              "              881,  882,  883,  884,  885,  886,  887,  888,  889,  890,\n",
              "              891,  892,  893,  894,  895,  896,  897,  898,  899,  900,\n",
              "              901,  902,  903,  904,  905,  906,  907,  908,  909,  910,\n",
              "              911,  912,  913,  914,  915,  916,  917,  918,  919,  920,\n",
              "              921,  922,  923,  924,  925,  926,  927,  928,  929,  930,\n",
              "              931,  932,  933,  934,  935,  936,  937,  938,  939,  940,\n",
              "              941,  942,  943,  944,  945,  946,  947,  948,  949,  950,\n",
              "              951,  952,  953,  954,  955,  956,  957,  958,  959,  960,\n",
              "              961,  962,  963,  964,  965,  966,  967,  968,  969,  970,\n",
              "              971,  972,  973,  974,  975,  976,  977,  978,  979,  980,\n",
              "              981,  982,  983,  984,  985,  986,  987,  988,  989,  990,\n",
              "              991,  992,  993,  994,  995,  996,  997,  998,  999, 1000,\n",
              "             1001, 1002, 1003, 1004, 1005, 1006, 1007, 1008, 1009, 1010,\n",
              "             1011, 1012, 1013, 1014, 1015, 1016, 1017, 1018, 1019, 1020,\n",
              "             1021, 1022, 1023, 1024, 1025, 1026, 1027, 1028, 1029, 1030,\n",
              "             1031, 1032, 1033, 1034, 1035, 1036, 1037, 1038, 1039, 1040,\n",
              "             1041, 1042, 1043, 1044, 1045, 1046, 1047, 1048, 1049, 1050,\n",
              "             1051, 1052, 1053, 1054, 1055, 1056, 1057, 1058, 1059, 1060,\n",
              "             1061, 1062, 1063, 1064, 1065, 1066, 1067, 1068, 1069, 1070,\n",
              "             1071, 1072, 1073, 1074, 1075, 1076, 1077, 1078, 1079, 1080,\n",
              "             1081, 1082, 1083, 1084, 1085, 1086, 1087, 1088, 1089, 1090,\n",
              "             1091, 1092, 1093, 1094, 1095, 1096, 1097, 1098, 1099, 1100],            dtype=int32), new_step_size=DeviceArray([0.451118, 0.451118, 0.451118, 0.451118, 0.451118, 0.451118,\n",
              "             0.451118, 0.451118, 0.451118, 0.451118, 0.451118, 0.451118,\n",
              "             0.451118, 0.451118, 0.451118, 0.451118, 0.451118, 0.451118,\n",
              "             0.451118, 0.451118, 0.451118, 0.451118, 0.451118, 0.451118,\n",
              "             0.451118, 0.451118, 0.451118, 0.451118, 0.451118, 0.451118,\n",
              "             0.451118, 0.451118, 0.451118, 0.451118, 0.451118, 0.451118,\n",
              "             0.451118, 0.451118, 0.451118, 0.451118, 0.451118, 0.451118,\n",
              "             0.451118, 0.451118, 0.451118, 0.451118, 0.451118, 0.451118,\n",
              "             0.451118, 0.451118, 0.451118, 0.451118, 0.451118, 0.451118,\n",
              "             0.451118, 0.451118, 0.451118, 0.451118, 0.451118, 0.451118,\n",
              "             0.451118, 0.451118, 0.451118, 0.451118, 0.451118, 0.451118,\n",
              "             0.451118, 0.451118, 0.451118, 0.451118, 0.451118, 0.451118,\n",
              "             0.451118, 0.451118, 0.451118, 0.451118, 0.451118, 0.451118,\n",
              "             0.451118, 0.451118, 0.451118, 0.451118, 0.451118, 0.451118,\n",
              "             0.451118, 0.451118, 0.451118, 0.451118, 0.451118, 0.451118,\n",
              "             0.451118, 0.451118, 0.451118, 0.451118, 0.451118, 0.451118,\n",
              "             0.451118, 0.451118, 0.451118, 0.451118, 0.451118, 0.451118,\n",
              "             0.451118, 0.451118, 0.451118, 0.451118, 0.451118, 0.451118,\n",
              "             0.451118, 0.451118, 0.451118, 0.451118, 0.451118, 0.451118,\n",
              "             0.451118, 0.451118, 0.451118, 0.451118, 0.451118, 0.451118,\n",
              "             0.451118, 0.451118, 0.451118, 0.451118, 0.451118, 0.451118,\n",
              "             0.451118, 0.451118, 0.451118, 0.451118, 0.451118, 0.451118,\n",
              "             0.451118, 0.451118, 0.451118, 0.451118, 0.451118, 0.451118,\n",
              "             0.451118, 0.451118, 0.451118, 0.451118, 0.451118, 0.451118,\n",
              "             0.451118, 0.451118, 0.451118, 0.451118, 0.451118, 0.451118,\n",
              "             0.451118, 0.451118, 0.451118, 0.451118, 0.451118, 0.451118,\n",
              "             0.451118, 0.451118, 0.451118, 0.451118, 0.451118, 0.451118,\n",
              "             0.451118, 0.451118, 0.451118, 0.451118, 0.451118, 0.451118,\n",
              "             0.451118, 0.451118, 0.451118, 0.451118, 0.451118, 0.451118,\n",
              "             0.451118, 0.451118, 0.451118, 0.451118, 0.451118, 0.451118,\n",
              "             0.451118, 0.451118, 0.451118, 0.451118, 0.451118, 0.451118,\n",
              "             0.451118, 0.451118, 0.451118, 0.451118, 0.451118, 0.451118,\n",
              "             0.451118, 0.451118, 0.451118, 0.451118, 0.451118, 0.451118,\n",
              "             0.451118, 0.451118, 0.451118, 0.451118, 0.451118, 0.451118,\n",
              "             0.451118, 0.451118, 0.451118, 0.451118, 0.451118, 0.451118,\n",
              "             0.451118, 0.451118, 0.451118, 0.451118, 0.451118, 0.451118,\n",
              "             0.451118, 0.451118, 0.451118, 0.451118, 0.451118, 0.451118,\n",
              "             0.451118, 0.451118, 0.451118, 0.451118, 0.451118, 0.451118,\n",
              "             0.451118, 0.451118, 0.451118, 0.451118, 0.451118, 0.451118,\n",
              "             0.451118, 0.451118, 0.451118, 0.451118, 0.451118, 0.451118,\n",
              "             0.451118, 0.451118, 0.451118, 0.451118, 0.451118, 0.451118,\n",
              "             0.451118, 0.451118, 0.451118, 0.451118, 0.451118, 0.451118,\n",
              "             0.451118, 0.451118, 0.451118, 0.451118, 0.451118, 0.451118,\n",
              "             0.451118, 0.451118, 0.451118, 0.451118, 0.451118, 0.451118,\n",
              "             0.451118, 0.451118, 0.451118, 0.451118, 0.451118, 0.451118,\n",
              "             0.451118, 0.451118, 0.451118, 0.451118, 0.451118, 0.451118,\n",
              "             0.451118, 0.451118, 0.451118, 0.451118, 0.451118, 0.451118,\n",
              "             0.451118, 0.451118, 0.451118, 0.451118, 0.451118, 0.451118,\n",
              "             0.451118, 0.451118, 0.451118, 0.451118, 0.451118, 0.451118,\n",
              "             0.451118, 0.451118, 0.451118, 0.451118, 0.451118, 0.451118,\n",
              "             0.451118, 0.451118, 0.451118, 0.451118, 0.451118, 0.451118,\n",
              "             0.451118, 0.451118, 0.451118, 0.451118, 0.451118, 0.451118,\n",
              "             0.451118, 0.451118, 0.451118, 0.451118, 0.451118, 0.451118,\n",
              "             0.451118, 0.451118, 0.451118, 0.451118, 0.451118, 0.451118,\n",
              "             0.451118, 0.451118, 0.451118, 0.451118, 0.451118, 0.451118,\n",
              "             0.451118, 0.451118, 0.451118, 0.451118, 0.451118, 0.451118,\n",
              "             0.451118, 0.451118, 0.451118, 0.451118, 0.451118, 0.451118,\n",
              "             0.451118, 0.451118, 0.451118, 0.451118, 0.451118, 0.451118,\n",
              "             0.451118, 0.451118, 0.451118, 0.451118, 0.451118, 0.451118,\n",
              "             0.451118, 0.451118, 0.451118, 0.451118, 0.451118, 0.451118,\n",
              "             0.451118, 0.451118, 0.451118, 0.451118, 0.451118, 0.451118,\n",
              "             0.451118, 0.451118, 0.451118, 0.451118, 0.451118, 0.451118,\n",
              "             0.451118, 0.451118, 0.451118, 0.451118, 0.451118, 0.451118,\n",
              "             0.451118, 0.451118, 0.451118, 0.451118, 0.451118, 0.451118,\n",
              "             0.451118, 0.451118, 0.451118, 0.451118, 0.451118, 0.451118,\n",
              "             0.451118, 0.451118, 0.451118, 0.451118, 0.451118, 0.451118,\n",
              "             0.451118, 0.451118, 0.451118, 0.451118, 0.451118, 0.451118,\n",
              "             0.451118, 0.451118, 0.451118, 0.451118, 0.451118, 0.451118,\n",
              "             0.451118, 0.451118, 0.451118, 0.451118, 0.451118, 0.451118,\n",
              "             0.451118, 0.451118, 0.451118, 0.451118, 0.451118, 0.451118,\n",
              "             0.451118, 0.451118, 0.451118, 0.451118, 0.451118, 0.451118,\n",
              "             0.451118, 0.451118, 0.451118, 0.451118, 0.451118, 0.451118,\n",
              "             0.451118, 0.451118, 0.451118, 0.451118, 0.451118, 0.451118,\n",
              "             0.451118, 0.451118, 0.451118, 0.451118, 0.451118, 0.451118,\n",
              "             0.451118, 0.451118, 0.451118, 0.451118, 0.451118, 0.451118,\n",
              "             0.451118, 0.451118, 0.451118, 0.451118, 0.451118, 0.451118,\n",
              "             0.451118, 0.451118, 0.451118, 0.451118, 0.451118, 0.451118,\n",
              "             0.451118, 0.451118, 0.451118, 0.451118, 0.451118, 0.451118,\n",
              "             0.451118, 0.451118, 0.451118, 0.451118, 0.451118, 0.451118,\n",
              "             0.451118, 0.451118, 0.451118, 0.451118, 0.451118, 0.451118,\n",
              "             0.451118, 0.451118, 0.451118, 0.451118, 0.451118, 0.451118,\n",
              "             0.451118, 0.451118, 0.451118, 0.451118, 0.451118, 0.451118,\n",
              "             0.451118, 0.451118, 0.451118, 0.451118, 0.451118, 0.451118,\n",
              "             0.451118, 0.451118, 0.451118, 0.451118, 0.451118, 0.451118,\n",
              "             0.451118, 0.451118, 0.451118, 0.451118, 0.451118, 0.451118,\n",
              "             0.451118, 0.451118, 0.451118, 0.451118, 0.451118, 0.451118,\n",
              "             0.451118, 0.451118, 0.451118, 0.451118, 0.451118, 0.451118,\n",
              "             0.451118, 0.451118, 0.451118, 0.451118, 0.451118, 0.451118,\n",
              "             0.451118, 0.451118, 0.451118, 0.451118, 0.451118, 0.451118,\n",
              "             0.451118, 0.451118, 0.451118, 0.451118, 0.451118, 0.451118,\n",
              "             0.451118, 0.451118, 0.451118, 0.451118, 0.451118, 0.451118,\n",
              "             0.451118, 0.451118, 0.451118, 0.451118, 0.451118, 0.451118,\n",
              "             0.451118, 0.451118, 0.451118, 0.451118, 0.451118, 0.451118,\n",
              "             0.451118, 0.451118, 0.451118, 0.451118, 0.451118, 0.451118,\n",
              "             0.451118, 0.451118, 0.451118, 0.451118, 0.451118, 0.451118,\n",
              "             0.451118, 0.451118, 0.451118, 0.451118, 0.451118, 0.451118,\n",
              "             0.451118, 0.451118, 0.451118, 0.451118, 0.451118, 0.451118,\n",
              "             0.451118, 0.451118, 0.451118, 0.451118, 0.451118, 0.451118,\n",
              "             0.451118, 0.451118, 0.451118, 0.451118, 0.451118, 0.451118,\n",
              "             0.451118, 0.451118, 0.451118, 0.451118, 0.451118, 0.451118,\n",
              "             0.451118, 0.451118, 0.451118, 0.451118, 0.451118, 0.451118,\n",
              "             0.451118, 0.451118, 0.451118, 0.451118, 0.451118, 0.451118,\n",
              "             0.451118, 0.451118, 0.451118, 0.451118, 0.451118, 0.451118,\n",
              "             0.451118, 0.451118, 0.451118, 0.451118, 0.451118, 0.451118,\n",
              "             0.451118, 0.451118, 0.451118, 0.451118, 0.451118, 0.451118,\n",
              "             0.451118, 0.451118, 0.451118, 0.451118, 0.451118, 0.451118,\n",
              "             0.451118, 0.451118, 0.451118, 0.451118, 0.451118, 0.451118,\n",
              "             0.451118, 0.451118, 0.451118, 0.451118, 0.451118, 0.451118,\n",
              "             0.451118, 0.451118, 0.451118, 0.451118, 0.451118, 0.451118,\n",
              "             0.451118, 0.451118, 0.451118, 0.451118, 0.451118, 0.451118,\n",
              "             0.451118, 0.451118, 0.451118, 0.451118, 0.451118, 0.451118,\n",
              "             0.451118, 0.451118, 0.451118, 0.451118, 0.451118, 0.451118,\n",
              "             0.451118, 0.451118, 0.451118, 0.451118, 0.451118, 0.451118,\n",
              "             0.451118, 0.451118, 0.451118, 0.451118, 0.451118, 0.451118,\n",
              "             0.451118, 0.451118, 0.451118, 0.451118, 0.451118, 0.451118,\n",
              "             0.451118, 0.451118, 0.451118, 0.451118, 0.451118, 0.451118,\n",
              "             0.451118, 0.451118, 0.451118, 0.451118, 0.451118, 0.451118,\n",
              "             0.451118, 0.451118, 0.451118, 0.451118, 0.451118, 0.451118,\n",
              "             0.451118, 0.451118, 0.451118, 0.451118, 0.451118, 0.451118,\n",
              "             0.451118, 0.451118, 0.451118, 0.451118, 0.451118, 0.451118,\n",
              "             0.451118, 0.451118, 0.451118, 0.451118, 0.451118, 0.451118,\n",
              "             0.451118, 0.451118, 0.451118, 0.451118, 0.451118, 0.451118,\n",
              "             0.451118, 0.451118, 0.451118, 0.451118, 0.451118, 0.451118,\n",
              "             0.451118, 0.451118, 0.451118, 0.451118, 0.451118, 0.451118,\n",
              "             0.451118, 0.451118, 0.451118, 0.451118, 0.451118, 0.451118,\n",
              "             0.451118, 0.451118, 0.451118, 0.451118, 0.451118, 0.451118,\n",
              "             0.451118, 0.451118, 0.451118, 0.451118, 0.451118, 0.451118,\n",
              "             0.451118, 0.451118, 0.451118, 0.451118, 0.451118, 0.451118,\n",
              "             0.451118, 0.451118, 0.451118, 0.451118, 0.451118, 0.451118,\n",
              "             0.451118, 0.451118, 0.451118, 0.451118, 0.451118, 0.451118,\n",
              "             0.451118, 0.451118, 0.451118, 0.451118, 0.451118, 0.451118,\n",
              "             0.451118, 0.451118, 0.451118, 0.451118, 0.451118, 0.451118,\n",
              "             0.451118, 0.451118, 0.451118, 0.451118, 0.451118, 0.451118,\n",
              "             0.451118, 0.451118, 0.451118, 0.451118, 0.451118, 0.451118,\n",
              "             0.451118, 0.451118, 0.451118, 0.451118, 0.451118, 0.451118,\n",
              "             0.451118, 0.451118, 0.451118, 0.451118, 0.451118, 0.451118,\n",
              "             0.451118, 0.451118, 0.451118, 0.451118, 0.451118, 0.451118,\n",
              "             0.451118, 0.451118, 0.451118, 0.451118, 0.451118, 0.451118,\n",
              "             0.451118, 0.451118, 0.451118, 0.451118, 0.451118, 0.451118,\n",
              "             0.451118, 0.451118, 0.451118, 0.451118, 0.451118, 0.451118,\n",
              "             0.451118, 0.451118, 0.451118, 0.451118, 0.451118, 0.451118,\n",
              "             0.451118, 0.451118, 0.451118, 0.451118, 0.451118, 0.451118,\n",
              "             0.451118, 0.451118, 0.451118, 0.451118, 0.451118, 0.451118,\n",
              "             0.451118, 0.451118, 0.451118, 0.451118, 0.451118, 0.451118,\n",
              "             0.451118, 0.451118, 0.451118, 0.451118, 0.451118, 0.451118,\n",
              "             0.451118, 0.451118, 0.451118, 0.451118, 0.451118, 0.451118,\n",
              "             0.451118, 0.451118, 0.451118, 0.451118, 0.451118, 0.451118,\n",
              "             0.451118, 0.451118, 0.451118, 0.451118, 0.451118, 0.451118,\n",
              "             0.451118, 0.451118, 0.451118, 0.451118, 0.451118, 0.451118,\n",
              "             0.451118, 0.451118, 0.451118, 0.451118, 0.451118, 0.451118,\n",
              "             0.451118, 0.451118, 0.451118, 0.451118, 0.451118, 0.451118,\n",
              "             0.451118, 0.451118, 0.451118, 0.451118, 0.451118, 0.451118,\n",
              "             0.451118, 0.451118, 0.451118, 0.451118, 0.451118, 0.451118,\n",
              "             0.451118, 0.451118, 0.451118, 0.451118, 0.451118, 0.451118,\n",
              "             0.451118, 0.451118, 0.451118, 0.451118, 0.451118, 0.451118,\n",
              "             0.451118, 0.451118, 0.451118, 0.451118, 0.451118, 0.451118,\n",
              "             0.451118, 0.451118, 0.451118, 0.451118, 0.451118, 0.451118,\n",
              "             0.451118, 0.451118, 0.451118, 0.451118, 0.451118, 0.451118,\n",
              "             0.451118, 0.451118, 0.451118, 0.451118, 0.451118, 0.451118,\n",
              "             0.451118, 0.451118, 0.451118, 0.451118, 0.451118, 0.451118,\n",
              "             0.451118, 0.451118, 0.451118, 0.451118, 0.451118, 0.451118,\n",
              "             0.451118, 0.451118, 0.451118, 0.451118, 0.451118, 0.451118,\n",
              "             0.451118, 0.451118, 0.451118, 0.451118, 0.451118, 0.451118,\n",
              "             0.451118, 0.451118, 0.451118, 0.451118, 0.451118, 0.451118,\n",
              "             0.451118, 0.451118, 0.451118, 0.451118, 0.451118, 0.451118,\n",
              "             0.451118, 0.451118, 0.451118, 0.451118, 0.451118, 0.451118,\n",
              "             0.451118, 0.451118, 0.451118, 0.451118], dtype=float32)))"
            ]
          },
          "metadata": {
            "tags": []
          },
          "execution_count": 41
        }
      ]
    },
    {
      "cell_type": "code",
      "metadata": {
        "id": "qZQteZ8XJapr",
        "colab_type": "code",
        "colab": {}
      },
      "source": [
        ""
      ],
      "execution_count": 0,
      "outputs": []
    },
    {
      "cell_type": "code",
      "metadata": {
        "id": "fF1fMnwPJakj",
        "colab_type": "code",
        "colab": {}
      },
      "source": [
        ""
      ],
      "execution_count": 0,
      "outputs": []
    },
    {
      "cell_type": "code",
      "metadata": {
        "id": "R9m5ReuUAJyH",
        "colab_type": "code",
        "colab": {}
      },
      "source": [
        "# Let's define our model using numpyro\n",
        "def model():\n",
        "    #  Cosmological params\n",
        "    Omega_c = numpyro.sample('Omega_c', dist.Uniform(0.1, 0.9))\n",
        "    sigma8 = numpyro.sample('sigma8', dist.Uniform(0.4, 1.0))\n",
        "    Omega_b = numpyro.sample('Omega_b', dist.Uniform(0.03, 0.07))\n",
        "    h = numpyro.sample('h', dist.Uniform(0.55, 0.9))\n",
        "    n_s = numpyro.sample('n_s', dist.Uniform(0.87, 1.97))\n",
        "    w0 = numpyro.sample('w0', dist.Uniform(-2.0, -0.33))\n",
        "    \n",
        "    # parameters for systematics\n",
        "    m = [numpyro.sample('m%d'%i, dist.Normal(0.012, 0.023)) \n",
        "         for i in range(1,5)]\n",
        "    dz1 = numpyro.sample('dz1', dist.Normal(0.001, 0.016)) \n",
        "    dz2 = numpyro.sample('dz2', dist.Normal(-0.019, 0.013)) \n",
        "    dz3 = numpyro.sample('dz3', dist.Normal(0.009, 0.011)) \n",
        "    dz4 = numpyro.sample('dz4', dist.Normal(-0.018, 0.022)) \n",
        "    \n",
        "    # Astrophysical params\n",
        "    A = numpyro.sample('A', dist.Uniform(-5., 5.))\n",
        "    eta = numpyro.sample('eta', dist.Uniform(-5., 5.))\n",
        "    \n",
        "    # Now that params are defined, here is the forward model\n",
        "    cosmo = FiducialCosmo(Omega_c=Omega_c, sigma8=sigma8, Omega_b=Omega_b,\n",
        "                          h=h, n_s=n_s, w0=w0)\n",
        "    \n",
        "    signal = model_fn(get_params_vec(cosmo, m, [dz1, dz2, dz3, dz4], [A, eta]))\n",
        "    \n",
        "    # And here we define the likelihood\n",
        "    numpyro.sample('cl_wl', dist.MultivariateNormal(signal, C))"
      ],
      "execution_count": 0,
      "outputs": []
    },
    {
      "cell_type": "code",
      "metadata": {
        "id": "zMh6lJixAJyL",
        "colab_type": "code",
        "colab": {}
      },
      "source": [
        ""
      ],
      "execution_count": 0,
      "outputs": []
    },
    {
      "cell_type": "code",
      "metadata": {
        "id": "EfXsU1EeAJyP",
        "colab_type": "code",
        "colab": {}
      },
      "source": [
        "from numpyro.handlers import seed, trace\n",
        "rng_key = jax.random.PRNGKey(0)"
      ],
      "execution_count": 0,
      "outputs": []
    },
    {
      "cell_type": "code",
      "metadata": {
        "id": "CBqlYUQjAJyU",
        "colab_type": "code",
        "colab": {}
      },
      "source": [
        "tr = numpyro.handlers.trace(seed(model, rng_key))"
      ],
      "execution_count": 0,
      "outputs": []
    },
    {
      "cell_type": "code",
      "metadata": {
        "id": "ahdo9fUTAJye",
        "colab_type": "code",
        "colab": {}
      },
      "source": [
        "res = tr.get_trace()"
      ],
      "execution_count": 0,
      "outputs": []
    },
    {
      "cell_type": "code",
      "metadata": {
        "id": "cOiyCgdDAJyl",
        "colab_type": "code",
        "colab": {}
      },
      "source": [
        "data = res['cl_wl']['value']"
      ],
      "execution_count": 0,
      "outputs": []
    },
    {
      "cell_type": "code",
      "metadata": {
        "id": "YYyO9NwEAJys",
        "colab_type": "code",
        "outputId": "b9db3642-9d37-4005-d3a5-6e22e31e37a7",
        "colab": {}
      },
      "source": [
        "semilogy(data)"
      ],
      "execution_count": 0,
      "outputs": [
        {
          "output_type": "execute_result",
          "data": {
            "text/plain": [
              "[<matplotlib.lines.Line2D at 0x7fb93ffd84c0>]"
            ]
          },
          "metadata": {
            "tags": []
          },
          "execution_count": 33
        },
        {
          "output_type": "display_data",
          "data": {
            "image/png": "[encoded data removed]",
            "text/plain": [
              "<Figure size 432x288 with 1 Axes>"
            ]
          },
          "metadata": {
            "tags": [],
            "needs_background": "light"
          }
        }
      ]
    },
    {
      "cell_type": "code",
      "metadata": {
        "id": "WSGsfHn6AJyw",
        "colab_type": "code",
        "colab": {}
      },
      "source": [
        "cond_model = numpyro.handlers.condition(model, {'cl_wl':data})"
      ],
      "execution_count": 0,
      "outputs": []
    },
    {
      "cell_type": "code",
      "metadata": {
        "id": "Ym-L7Hr1AJy1",
        "colab_type": "code",
        "colab": {}
      },
      "source": [
        "nuts_kernel = numpyro.infer.NUTS(cond_model)"
      ],
      "execution_count": 0,
      "outputs": []
    },
    {
      "cell_type": "code",
      "metadata": {
        "id": "v86Z1_PMAJy7",
        "colab_type": "code",
        "colab": {}
      },
      "source": [
        "rng_key = jax.random.PRNGKey(0)"
      ],
      "execution_count": 0,
      "outputs": []
    },
    {
      "cell_type": "code",
      "metadata": {
        "id": "EYPgxeeCAJy-",
        "colab_type": "code",
        "colab": {}
      },
      "source": [
        "mcmc = numpyro.infer.MCMC(nuts_kernel, \n",
        "                          num_warmup=500, \n",
        "                          num_samples=1000,\n",
        "                          jit_model_args=True)"
      ],
      "execution_count": 0,
      "outputs": []
    },
    {
      "cell_type": "code",
      "metadata": {
        "id": "eUv_U8YDAJzB",
        "colab_type": "code",
        "outputId": "dd2362ac-d722-4ff5-84d8-89133adeac0e",
        "colab": {}
      },
      "source": [
        "mcmc.run(rng_key, extra_fields=('potential_energy',))"
      ],
      "execution_count": 0,
      "outputs": [
        {
          "output_type": "stream",
          "text": [
            "/home/francois/.local/lib/python3.8/site-packages/jax/lax/lax.py:5190: UserWarning: Explicitly requested dtype float64 requested in asarray is not available, and will be truncated to dtype float32. To enable more dtypes, set the jax_enable_x64 configuration option or the JAX_ENABLE_X64 shell environment variable. See https://github.com/google/jax#current-gotchas for more.\n",
            "  warnings.warn(msg.format(dtype, fun_name , truncated_dtype))\n",
            "/home/francois/.local/lib/python3.8/site-packages/jax/lax/lax.py:5190: UserWarning: Explicitly requested dtype float64 requested in array is not available, and will be truncated to dtype float32. To enable more dtypes, set the jax_enable_x64 configuration option or the JAX_ENABLE_X64 shell environment variable. See https://github.com/google/jax#current-gotchas for more.\n",
            "  warnings.warn(msg.format(dtype, fun_name , truncated_dtype))\n",
            "/home/francois/.local/lib/python3.8/site-packages/jax/lax/lax.py:5190: UserWarning: Explicitly requested dtype <class 'jax.numpy.lax_numpy.int64'> requested in astype is not available, and will be truncated to dtype int32. To enable more dtypes, set the jax_enable_x64 configuration option or the JAX_ENABLE_X64 shell environment variable. See https://github.com/google/jax#current-gotchas for more.\n",
            "  warnings.warn(msg.format(dtype, fun_name , truncated_dtype))\n",
            "  0%|          | 0/1500 [00:00<?, ?it/s]"
          ],
          "name": "stderr"
        }
      ]
    },
    {
      "cell_type": "code",
      "metadata": {
        "id": "h0Y1GM-7AJzE",
        "colab_type": "code",
        "colab": {}
      },
      "source": [
        ""
      ],
      "execution_count": 0,
      "outputs": []
    }
  ]
}