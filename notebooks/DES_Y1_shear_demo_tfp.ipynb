{
  "nbformat": 4,
  "nbformat_minor": 0,
  "metadata": {
    "kernelspec": {
      "display_name": "Python 3",
      "language": "python",
      "name": "python3"
    },
    "language_info": {
      "codemirror_mode": {
        "name": "ipython",
        "version": 3
      },
      "file_extension": ".py",
      "mimetype": "text/x-python",
      "name": "python",
      "nbconvert_exporter": "python",
      "pygments_lexer": "ipython3",
      "version": "3.8.2"
    },
    "colab": {
      "name": "DES_Y1_shear_demo.ipynb",
      "provenance": [],
      "include_colab_link": true
    },
    "accelerator": "GPU"
  },
  "cells": [
    {
      "cell_type": "markdown",
      "metadata": {
        "id": "view-in-github",
        "colab_type": "text"
      },
      "source": [
        "<a href=\"https://colab.research.google.com/github/DifferentiableUniverseInitiative/jax-cosmo-paper/blob/master/notebooks/DES_Y1_shear_demo_tfp.ipynb\" target=\"_parent\"><img src=\"https://colab.research.google.com/assets/colab-badge.svg\" alt=\"Open In Colab\"/></a>"
      ]
    },
    {
      "cell_type": "markdown",
      "metadata": {
        "id": "ou21wjAMAJwV",
        "colab_type": "text"
      },
      "source": [
        "# Illustration of JAX-cosmo on a DES Y1-like analysis"
      ]
    },
    {
      "cell_type": "code",
      "metadata": {
        "id": "pX7n8teoATCx",
        "colab_type": "code",
        "colab": {
          "base_uri": "https://localhost:8080/",
          "height": 323
        },
        "outputId": "f93c98f4-4a9a-4508-aa07-1279b2543050"
      },
      "source": [
        "!pip install git+https://github.com/DifferentiableUniverseInitiative/jax_cosmo.git"
      ],
      "execution_count": 2,
      "outputs": [
        {
          "output_type": "stream",
          "text": [
            "Collecting git+https://github.com/DifferentiableUniverseInitiative/jax_cosmo.git\n",
            "  Cloning https://github.com/DifferentiableUniverseInitiative/jax_cosmo.git to /tmp/pip-req-build-ay7huora\n",
            "  Running command git clone -q https://github.com/DifferentiableUniverseInitiative/jax_cosmo.git /tmp/pip-req-build-ay7huora\n",
            "Requirement already satisfied: jax in /usr/local/lib/python3.6/dist-packages (from jax-cosmo==0.1rc4.dev20+ga05fc27) (0.1.64)\n",
            "Requirement already satisfied: jaxlib in /usr/local/lib/python3.6/dist-packages (from jax-cosmo==0.1rc4.dev20+ga05fc27) (0.1.45)\n",
            "Requirement already satisfied: numpy>=1.12 in /usr/local/lib/python3.6/dist-packages (from jax->jax-cosmo==0.1rc4.dev20+ga05fc27) (1.18.4)\n",
            "Requirement already satisfied: absl-py in /usr/local/lib/python3.6/dist-packages (from jax->jax-cosmo==0.1rc4.dev20+ga05fc27) (0.9.0)\n",
            "Requirement already satisfied: opt-einsum in /usr/local/lib/python3.6/dist-packages (from jax->jax-cosmo==0.1rc4.dev20+ga05fc27) (3.2.1)\n",
            "Requirement already satisfied: scipy in /usr/local/lib/python3.6/dist-packages (from jaxlib->jax-cosmo==0.1rc4.dev20+ga05fc27) (1.4.1)\n",
            "Requirement already satisfied: six in /usr/local/lib/python3.6/dist-packages (from absl-py->jax->jax-cosmo==0.1rc4.dev20+ga05fc27) (1.12.0)\n",
            "Building wheels for collected packages: jax-cosmo\n",
            "  Building wheel for jax-cosmo (setup.py) ... \u001b[?25l\u001b[?25hdone\n",
            "  Created wheel for jax-cosmo: filename=jax_cosmo-0.1rc4.dev20+ga05fc27-cp36-none-any.whl size=25628 sha256=b8c427ec233a9685869826ba93f838fcd952cef898bbcd4d3171375e1e99c6e7\n",
            "  Stored in directory: /tmp/pip-ephem-wheel-cache-hegr0a0h/wheels/88/09/bb/e8fa873bc98f4b1be20b586d836ec856fa676f1c8b1142ef06\n",
            "Successfully built jax-cosmo\n",
            "Installing collected packages: jax-cosmo\n",
            "Successfully installed jax-cosmo-0.1rc4.dev20+ga05fc27\n"
          ],
          "name": "stdout"
        }
      ]
    },
    {
      "cell_type": "code",
      "metadata": {
        "id": "Ocnog_lXAJwX",
        "colab_type": "code",
        "colab": {
          "base_uri": "https://localhost:8080/",
          "height": 35
        },
        "outputId": "380de24e-da50-4c67-ff6f-e0fbd8f5e58a"
      },
      "source": [
        "%pylab inline\n",
        "import os.path\n",
        "import jax\n",
        "import jax.numpy as np\n",
        "import jax_cosmo as jc"
      ],
      "execution_count": 1,
      "outputs": [
        {
          "output_type": "stream",
          "text": [
            "Populating the interactive namespace from numpy and matplotlib\n"
          ],
          "name": "stdout"
        }
      ]
    },
    {
      "cell_type": "markdown",
      "metadata": {
        "id": "TY01xHMlAJwe",
        "colab_type": "text"
      },
      "source": [
        "## Retrieving  the nz data"
      ]
    },
    {
      "cell_type": "code",
      "metadata": {
        "id": "FkQNiAm0AJwf",
        "colab_type": "code",
        "colab": {}
      },
      "source": [
        "# Let's grab the data file\n",
        "from astropy.io import fits\n",
        "if not os.path.isfile('2pt_NG_mcal_1110.fits'):\n",
        "    !wget http://desdr-server.ncsa.illinois.edu/despublic/y1a1_files/chains/2pt_NG_mcal_1110.fits\n",
        "\n",
        "nz_source=fits.getdata('2pt_NG_mcal_1110.fits', 6)"
      ],
      "execution_count": 0,
      "outputs": []
    },
    {
      "cell_type": "code",
      "metadata": {
        "id": "KL66Tw1TAJwl",
        "colab_type": "code",
        "colab": {
          "base_uri": "https://localhost:8080/",
          "height": 313
        },
        "outputId": "29f2e30f-71c6-4bdb-e717-9d52789ca813"
      },
      "source": [
        "# Let's plot the NZs\n",
        "plot(nz_source['Z_MID'], nz_source['BIN1'])\n",
        "plot(nz_source['Z_MID'], nz_source['BIN2'])\n",
        "plot(nz_source['Z_MID'], nz_source['BIN3'])\n",
        "plot(nz_source['Z_MID'], nz_source['BIN4'])\n",
        "xlim(0,2);\n",
        "xlabel('z')\n",
        "title('Source redshift distributions')\n"
      ],
      "execution_count": 3,
      "outputs": [
        {
          "output_type": "execute_result",
          "data": {
            "text/plain": [
              "Text(0.5, 1.0, 'Source redshift distributions')"
            ]
          },
          "metadata": {
            "tags": []
          },
          "execution_count": 3
        },
        {
          "output_type": "display_data",
          "data": {
            "image/png": "[encoded data removed]",
            "text/plain": [
              "<Figure size 432x288 with 1 Axes>"
            ]
          },
          "metadata": {
            "tags": [],
            "needs_background": "light"
          }
        }
      ]
    },
    {
      "cell_type": "code",
      "metadata": {
        "id": "tRy3cEfwAJwr",
        "colab_type": "code",
        "colab": {}
      },
      "source": [
        "# Now let's try to build the equivalent with jax-cosmo\n",
        "\n",
        "# This is the effective number of sources from the cosmic shear paper\n",
        "neff_s = [1.47, 1.46, 1.50, 0.73]\n",
        "\n",
        "nzs_s = [jc.redshift.kde_nz(nz_source['Z_MID'].astype('float32'),\n",
        "                            nz_source['BIN%d'%i].astype('float32'), \n",
        "                            bw=0.01,\n",
        "                            gals_per_arcmin2=neff_s[i-1])\n",
        "           for i in range(1,5)]"
      ],
      "execution_count": 0,
      "outputs": []
    },
    {
      "cell_type": "code",
      "metadata": {
        "id": "b98Xii8eAJwv",
        "colab_type": "code",
        "colab": {
          "base_uri": "https://localhost:8080/",
          "height": 447
        },
        "outputId": "0717f325-74b2-453b-9b91-49eb4fc131c8"
      },
      "source": [
        "z = linspace(0,2)\n",
        "for i in range(4):\n",
        "    plot(nz_source['Z_MID'], nz_source['BIN%d'%(i+1)], color='C%d'%i)\n",
        "    plot(z, nzs_s[i](z), '--', color='C%d'%i)\n",
        "\n",
        "xlim(0,2)\n"
      ],
      "execution_count": 5,
      "outputs": [
        {
          "output_type": "stream",
          "text": [
            "/usr/local/lib/python3.6/dist-packages/jax/lax/lax.py:5104: UserWarning: Explicitly requested dtype <class 'jax.numpy.lax_numpy.int64'> requested in arange is not available, and will be truncated to dtype int32. To enable more dtypes, set the jax_enable_x64 configuration option or the JAX_ENABLE_X64 shell environment variable. See https://github.com/google/jax#current-gotchas for more.\n",
            "  warnings.warn(msg.format(dtype, fun_name , truncated_dtype))\n",
            "/usr/local/lib/python3.6/dist-packages/jax/lax/lax.py:5104: UserWarning: Explicitly requested dtype <class 'jax.numpy.lax_numpy.int64'> requested in arange is not available, and will be truncated to dtype int32. To enable more dtypes, set the jax_enable_x64 configuration option or the JAX_ENABLE_X64 shell environment variable. See https://github.com/google/jax#current-gotchas for more.\n",
            "  warnings.warn(msg.format(dtype, fun_name , truncated_dtype))\n",
            "/usr/local/lib/python3.6/dist-packages/jax/lax/lax.py:5104: UserWarning: Explicitly requested dtype <class 'jax.numpy.lax_numpy.int64'> requested in arange is not available, and will be truncated to dtype int32. To enable more dtypes, set the jax_enable_x64 configuration option or the JAX_ENABLE_X64 shell environment variable. See https://github.com/google/jax#current-gotchas for more.\n",
            "  warnings.warn(msg.format(dtype, fun_name , truncated_dtype))\n",
            "/usr/local/lib/python3.6/dist-packages/jax/lax/lax.py:5104: UserWarning: Explicitly requested dtype <class 'jax.numpy.lax_numpy.int64'> requested in arange is not available, and will be truncated to dtype int32. To enable more dtypes, set the jax_enable_x64 configuration option or the JAX_ENABLE_X64 shell environment variable. See https://github.com/google/jax#current-gotchas for more.\n",
            "  warnings.warn(msg.format(dtype, fun_name , truncated_dtype))\n"
          ],
          "name": "stderr"
        },
        {
          "output_type": "execute_result",
          "data": {
            "text/plain": [
              "(0.0, 2.0)"
            ]
          },
          "metadata": {
            "tags": []
          },
          "execution_count": 5
        },
        {
          "output_type": "display_data",
          "data": {
            "image/png": "[encoded data removed]",
            "text/plain": [
              "<Figure size 432x288 with 1 Axes>"
            ]
          },
          "metadata": {
            "tags": [],
            "needs_background": "light"
          }
        }
      ]
    },
    {
      "cell_type": "markdown",
      "metadata": {
        "id": "WAyvns3sAJw1",
        "colab_type": "text"
      },
      "source": [
        "##  Let's build  a model for C_ell"
      ]
    },
    {
      "cell_type": "code",
      "metadata": {
        "id": "fAuW74YBAJw2",
        "colab_type": "code",
        "colab": {
          "base_uri": "https://localhost:8080/",
          "height": 233
        },
        "outputId": "98bee9a6-83ee-4a50-9fdb-824e6b8b4ce9"
      },
      "source": [
        "# First, let's define a function to go to and from a 1d parameter vector\n",
        "def get_params_vec(cosmo, m, dz, ia):\n",
        "    m1, m2, m3, m4 = m\n",
        "    dz1, dz2, dz3, dz4 = dz\n",
        "    A, eta = ia\n",
        "    return np.array([ \n",
        "        # Cosmological parameters\n",
        "        cosmo.sigma8, cosmo.Omega_c, cosmo.Omega_b,\n",
        "        cosmo.h, cosmo.n_s, cosmo.w0,\n",
        "        # Shear systematics\n",
        "        m1, m2, m3, m4,\n",
        "        # Photoz systematics\n",
        "        dz1, dz2, dz3, dz4,\n",
        "        # IA model\n",
        "        A, eta\n",
        "    ])\n",
        "    \n",
        "def unpack_params_vec(params):\n",
        "    # Retrieve cosmology\n",
        "    cosmo = jc.Cosmology(sigma8=params[0], Omega_c=params[1], Omega_b=params[2],\n",
        "                         h=params[3], n_s=params[4], w0=params[5],\n",
        "                         Omega_k=0., wa=0.)\n",
        "    m1,m2,m3,m4 = params[6:10]\n",
        "    dz1,dz2,dz3,dz4 = params[10:14]\n",
        "    A = params[14]\n",
        "    eta = params[15]\n",
        "    return cosmo, [m1,m2,m3,m4], [dz1,dz2,dz3,dz4], [A, eta]\n",
        "\n",
        "# Let's try a round trip just to make sure\n",
        "p = get_params_vec(jc.Planck15(), [1.,2.,3.,4.], [5.,6.,7.,8.],\n",
        "              [1., 2.])\n",
        "unpack_params_vec(p)"
      ],
      "execution_count": 6,
      "outputs": [
        {
          "output_type": "execute_result",
          "data": {
            "text/plain": [
              "(Cosmological parameters: \n",
              "     h:        0.6774 \n",
              "     Omega_b:  0.0486 \n",
              "     Omega_c:  0.2589 \n",
              "     Omega_k:  0.0 \n",
              "     w0:       -1.0 \n",
              "     wa:       0.0 \n",
              "     n:        0.9667 \n",
              "     sigma8:   0.8159,\n",
              " [1.0, 2.0, 3.0, 4.0],\n",
              " [5.0, 6.0, 7.0, 8.0],\n",
              " [DeviceArray(1., dtype=float32), DeviceArray(2., dtype=float32)])"
            ]
          },
          "metadata": {
            "tags": []
          },
          "execution_count": 6
        }
      ]
    },
    {
      "cell_type": "code",
      "metadata": {
        "id": "I8hrMWTAAJw7",
        "colab_type": "code",
        "colab": {
          "base_uri": "https://localhost:8080/",
          "height": 109
        },
        "outputId": "6b22c8b2-b4b1-41ac-d1b1-5f9d96fdd6ce"
      },
      "source": [
        "# Define some ell range\n",
        "ell = np.logspace(1, 3)\n",
        "\n",
        "@jax.jit\n",
        "def mu(params):\n",
        "    # First unpack parameter vector\n",
        "    cosmo, m, dz, (A, eta) = unpack_params_vec(params) \n",
        "\n",
        "    # Build source nz with redshift systematic bias\n",
        "    nzs_s_sys = [jc.redshift.systematic_shift(nzi, dzi) \n",
        "                for nzi, dzi in zip(nzs_s, dz)]\n",
        "\n",
        "    # Define IA model, z0 is fixed\n",
        "    b_ia = jc.bias.des_y1_ia_bias(A, eta, 0.62)\n",
        "    \n",
        "    # Define the lensing and number counts probe\n",
        "    probes = [jc.probes.WeakLensing(nzs_s_sys, \n",
        "                                    ia_bias=b_ia,\n",
        "                                    multiplicative_bias=m)]\n",
        "\n",
        "    cl = jc.angular_cl.angular_cl(cosmo, ell, probes)\n",
        "\n",
        "    return cl"
      ],
      "execution_count": 7,
      "outputs": [
        {
          "output_type": "stream",
          "text": [
            "/usr/local/lib/python3.6/dist-packages/jax/lax/lax.py:5104: UserWarning: Explicitly requested dtype float64 requested in asarray is not available, and will be truncated to dtype float32. To enable more dtypes, set the jax_enable_x64 configuration option or the JAX_ENABLE_X64 shell environment variable. See https://github.com/google/jax#current-gotchas for more.\n",
            "  warnings.warn(msg.format(dtype, fun_name , truncated_dtype))\n",
            "/usr/local/lib/python3.6/dist-packages/jax/lax/lax.py:5104: UserWarning: Explicitly requested dtype float64 requested in array is not available, and will be truncated to dtype float32. To enable more dtypes, set the jax_enable_x64 configuration option or the JAX_ENABLE_X64 shell environment variable. See https://github.com/google/jax#current-gotchas for more.\n",
            "  warnings.warn(msg.format(dtype, fun_name , truncated_dtype))\n"
          ],
          "name": "stderr"
        }
      ]
    },
    {
      "cell_type": "code",
      "metadata": {
        "id": "TTULYIcCAJw_",
        "colab_type": "code",
        "colab": {
          "base_uri": "https://localhost:8080/",
          "height": 35
        },
        "outputId": "45dac049-3b0c-403a-d6a8-636380b5ee12"
      },
      "source": [
        "## Let's get the covariance\n",
        "f_sky = 1321./41253.\n",
        "print(\"f_sky\", f_sky)\n",
        "@jax.jit\n",
        "def cov(params):\n",
        "    \n",
        "    cl_signal = mu(params)\n",
        "    \n",
        "    # First unpack parameter vector\n",
        "    cosmo, m, dz, (A, eta) = unpack_params_vec(params) \n",
        "    \n",
        "    # Build source nz with redshift systematic bias\n",
        "    nzs_s_sys = [jc.redshift.systematic_shift(nzi, dzi) \n",
        "                for nzi, dzi in zip(nzs_s, dz)]\n",
        "    \n",
        "    # Define IA model, z0 is fixed\n",
        "    b_ia = jc.bias.des_y1_ia_bias(A, eta, 0.62)\n",
        "    \n",
        "    # Define the lensing and number counts probe\n",
        "    probes = [jc.probes.WeakLensing(nzs_s_sys, \n",
        "                                    ia_bias=b_ia,\n",
        "                                    multiplicative_bias=m)]\n",
        "    \n",
        "    cl_noise = jc.angular_cl.noise_cl(ell, probes)\n",
        "    \n",
        "    cov = jc.angular_cl.gaussian_cl_covariance(ell, probes, cl_signal, cl_noise, f_sky=f_sky)\n",
        "    \n",
        "    return cov"
      ],
      "execution_count": 8,
      "outputs": [
        {
          "output_type": "stream",
          "text": [
            "f_sky 0.03202191355780186\n"
          ],
          "name": "stdout"
        }
      ]
    },
    {
      "cell_type": "code",
      "metadata": {
        "id": "Gz7OLBOCAJxF",
        "colab_type": "code",
        "colab": {}
      },
      "source": [
        "jacobian = jax.jit(jax.jacfwd(lambda p: mu(p).flatten()))"
      ],
      "execution_count": 0,
      "outputs": []
    },
    {
      "cell_type": "code",
      "metadata": {
        "id": "1ZvXh7kXAJxK",
        "colab_type": "code",
        "colab": {}
      },
      "source": [
        "# Let's try it out\n",
        "from functools import partial\n",
        "\n",
        "FiducialCosmo = partial(jc.Cosmology, sigma8=0.801,\n",
        "                         Omega_c=0.2545,\n",
        "                         Omega_b=0.0485,\n",
        "                         h=0.682,\n",
        "                         n_s=0.971,\n",
        "                         w0=-1., Omega_k=0., wa=0.)\n",
        "\n",
        "fid_cosmo = FiducialCosmo()\n",
        "fid_params = get_params_vec(fid_cosmo, \n",
        "                            [1.2e-2, 1.2e-2, 1.2e-2, 1.2e-2],\n",
        "                            [0.1e-2, -1.9e-2, 0.9e-2, -1.8e-2],\n",
        "                            [0.5, 0.])"
      ],
      "execution_count": 0,
      "outputs": []
    },
    {
      "cell_type": "code",
      "metadata": {
        "id": "zwsfFj4EAJxN",
        "colab_type": "code",
        "colab": {
          "base_uri": "https://localhost:8080/",
          "height": 181
        },
        "outputId": "6eecbf1f-bdfc-40a0-db4a-d31182362451"
      },
      "source": [
        "cl_wl = mu(fid_params)"
      ],
      "execution_count": 11,
      "outputs": [
        {
          "output_type": "stream",
          "text": [
            "/usr/local/lib/python3.6/dist-packages/jax/lax/lax.py:5104: UserWarning: Explicitly requested dtype float64 requested in asarray is not available, and will be truncated to dtype float32. To enable more dtypes, set the jax_enable_x64 configuration option or the JAX_ENABLE_X64 shell environment variable. See https://github.com/google/jax#current-gotchas for more.\n",
            "  warnings.warn(msg.format(dtype, fun_name , truncated_dtype))\n",
            "/usr/local/lib/python3.6/dist-packages/jax/lax/lax.py:5104: UserWarning: Explicitly requested dtype float64 requested in array is not available, and will be truncated to dtype float32. To enable more dtypes, set the jax_enable_x64 configuration option or the JAX_ENABLE_X64 shell environment variable. See https://github.com/google/jax#current-gotchas for more.\n",
            "  warnings.warn(msg.format(dtype, fun_name , truncated_dtype))\n",
            "/usr/local/lib/python3.6/dist-packages/jax/lax/lax.py:5104: UserWarning: Explicitly requested dtype <class 'jax.numpy.lax_numpy.int64'> requested in astype is not available, and will be truncated to dtype int32. To enable more dtypes, set the jax_enable_x64 configuration option or the JAX_ENABLE_X64 shell environment variable. See https://github.com/google/jax#current-gotchas for more.\n",
            "  warnings.warn(msg.format(dtype, fun_name , truncated_dtype))\n",
            "/usr/local/lib/python3.6/dist-packages/jax/lax/lax.py:5104: UserWarning: Explicitly requested dtype <class 'jax.numpy.lax_numpy.int64'> requested in arange is not available, and will be truncated to dtype int32. To enable more dtypes, set the jax_enable_x64 configuration option or the JAX_ENABLE_X64 shell environment variable. See https://github.com/google/jax#current-gotchas for more.\n",
            "  warnings.warn(msg.format(dtype, fun_name , truncated_dtype))\n"
          ],
          "name": "stderr"
        }
      ]
    },
    {
      "cell_type": "code",
      "metadata": {
        "id": "gPKAIA7pAJxV",
        "colab_type": "code",
        "colab": {
          "base_uri": "https://localhost:8080/",
          "height": 35
        },
        "outputId": "b288252f-87af-47d5-8bd2-8e552015ffb1"
      },
      "source": [
        "%timeit mu(fid_params).block_until_ready()"
      ],
      "execution_count": 12,
      "outputs": [
        {
          "output_type": "stream",
          "text": [
            "10 loops, best of 3: 26.6 ms per loop\n"
          ],
          "name": "stdout"
        }
      ]
    },
    {
      "cell_type": "code",
      "metadata": {
        "id": "EDnQXROYAJxc",
        "colab_type": "code",
        "colab": {
          "base_uri": "https://localhost:8080/",
          "height": 288
        },
        "outputId": "bab0dc42-817e-4c27-b069-29192557c260"
      },
      "source": [
        "loglog(ell, cl_wl[0])"
      ],
      "execution_count": 13,
      "outputs": [
        {
          "output_type": "execute_result",
          "data": {
            "text/plain": [
              "[<matplotlib.lines.Line2D at 0x7fd42becbb70>]"
            ]
          },
          "metadata": {
            "tags": []
          },
          "execution_count": 13
        },
        {
          "output_type": "display_data",
          "data": {
            "image/png": "[encoded data removed]",
            "text/plain": [
              "<Figure size 432x288 with 1 Axes>"
            ]
          },
          "metadata": {
            "tags": [],
            "needs_background": "light"
          }
        }
      ]
    },
    {
      "cell_type": "code",
      "metadata": {
        "id": "yOqVdlGWAJxf",
        "colab_type": "code",
        "colab": {
          "base_uri": "https://localhost:8080/",
          "height": 181
        },
        "outputId": "35097752-8f43-48e9-f177-5b0271a19257"
      },
      "source": [
        "C = cov(fid_params)"
      ],
      "execution_count": 14,
      "outputs": [
        {
          "output_type": "stream",
          "text": [
            "/usr/local/lib/python3.6/dist-packages/jax/lax/lax.py:5104: UserWarning: Explicitly requested dtype float64 requested in asarray is not available, and will be truncated to dtype float32. To enable more dtypes, set the jax_enable_x64 configuration option or the JAX_ENABLE_X64 shell environment variable. See https://github.com/google/jax#current-gotchas for more.\n",
            "  warnings.warn(msg.format(dtype, fun_name , truncated_dtype))\n",
            "/usr/local/lib/python3.6/dist-packages/jax/lax/lax.py:5104: UserWarning: Explicitly requested dtype float64 requested in array is not available, and will be truncated to dtype float32. To enable more dtypes, set the jax_enable_x64 configuration option or the JAX_ENABLE_X64 shell environment variable. See https://github.com/google/jax#current-gotchas for more.\n",
            "  warnings.warn(msg.format(dtype, fun_name , truncated_dtype))\n",
            "/usr/local/lib/python3.6/dist-packages/jax/lax/lax.py:5104: UserWarning: Explicitly requested dtype <class 'jax.numpy.lax_numpy.int64'> requested in astype is not available, and will be truncated to dtype int32. To enable more dtypes, set the jax_enable_x64 configuration option or the JAX_ENABLE_X64 shell environment variable. See https://github.com/google/jax#current-gotchas for more.\n",
            "  warnings.warn(msg.format(dtype, fun_name , truncated_dtype))\n",
            "/usr/local/lib/python3.6/dist-packages/jax/lax/lax.py:5104: UserWarning: Explicitly requested dtype <class 'jax.numpy.lax_numpy.int64'> requested in arange is not available, and will be truncated to dtype int32. To enable more dtypes, set the jax_enable_x64 configuration option or the JAX_ENABLE_X64 shell environment variable. See https://github.com/google/jax#current-gotchas for more.\n",
            "  warnings.warn(msg.format(dtype, fun_name , truncated_dtype))\n"
          ],
          "name": "stderr"
        }
      ]
    },
    {
      "cell_type": "code",
      "metadata": {
        "id": "7Szx4sXwAJxj",
        "colab_type": "code",
        "colab": {
          "base_uri": "https://localhost:8080/",
          "height": 181
        },
        "outputId": "90d9667f-e7e9-4c20-f33d-d8c7eb86c2cf"
      },
      "source": [
        "j = jacobian(fid_params)"
      ],
      "execution_count": 15,
      "outputs": [
        {
          "output_type": "stream",
          "text": [
            "/usr/local/lib/python3.6/dist-packages/jax/lax/lax.py:5104: UserWarning: Explicitly requested dtype float64 requested in asarray is not available, and will be truncated to dtype float32. To enable more dtypes, set the jax_enable_x64 configuration option or the JAX_ENABLE_X64 shell environment variable. See https://github.com/google/jax#current-gotchas for more.\n",
            "  warnings.warn(msg.format(dtype, fun_name , truncated_dtype))\n",
            "/usr/local/lib/python3.6/dist-packages/jax/lax/lax.py:5104: UserWarning: Explicitly requested dtype float64 requested in array is not available, and will be truncated to dtype float32. To enable more dtypes, set the jax_enable_x64 configuration option or the JAX_ENABLE_X64 shell environment variable. See https://github.com/google/jax#current-gotchas for more.\n",
            "  warnings.warn(msg.format(dtype, fun_name , truncated_dtype))\n",
            "/usr/local/lib/python3.6/dist-packages/jax/lax/lax.py:5104: UserWarning: Explicitly requested dtype <class 'jax.numpy.lax_numpy.int64'> requested in astype is not available, and will be truncated to dtype int32. To enable more dtypes, set the jax_enable_x64 configuration option or the JAX_ENABLE_X64 shell environment variable. See https://github.com/google/jax#current-gotchas for more.\n",
            "  warnings.warn(msg.format(dtype, fun_name , truncated_dtype))\n",
            "/usr/local/lib/python3.6/dist-packages/jax/lax/lax.py:5104: UserWarning: Explicitly requested dtype <class 'jax.numpy.lax_numpy.int64'> requested in arange is not available, and will be truncated to dtype int32. To enable more dtypes, set the jax_enable_x64 configuration option or the JAX_ENABLE_X64 shell environment variable. See https://github.com/google/jax#current-gotchas for more.\n",
            "  warnings.warn(msg.format(dtype, fun_name , truncated_dtype))\n"
          ],
          "name": "stderr"
        }
      ]
    },
    {
      "cell_type": "code",
      "metadata": {
        "id": "Dzk21ERRAJxp",
        "colab_type": "code",
        "colab": {}
      },
      "source": [
        "#%timeit jacobian(fid_params).block_until_ready()"
      ],
      "execution_count": 0,
      "outputs": []
    },
    {
      "cell_type": "code",
      "metadata": {
        "id": "_zJMe7YKAJxu",
        "colab_type": "code",
        "colab": {}
      },
      "source": [
        "# And we get the fisher matrix from the jacobian and covariance\n",
        "F = np.einsum('ia,ij,jb',j,np.linalg.inv(C),j)\n",
        "\n",
        "# Add priors to systematics\n",
        "import numpy as onp\n",
        "d = onp.zeros(16)\n",
        "d[6] = 1./(2.3e-2)**2\n",
        "d[7] = 1./(2.3e-2)**2\n",
        "d[8] = 1./(2.3e-2)**2\n",
        "d[9] = 1./(2.3e-2)**2\n",
        "d[10] = 1./(1.6e-2)**2\n",
        "d[11] = 1./(1.3e-2)**2\n",
        "d[12] = 1./(1.1e-2)**2\n",
        "d[13] = 1./(2.2e-2)**2\n",
        "\n",
        "F = F + np.diag(d)"
      ],
      "execution_count": 0,
      "outputs": []
    },
    {
      "cell_type": "code",
      "metadata": {
        "id": "TKCBOPmRAJxz",
        "colab_type": "code",
        "colab": {}
      },
      "source": [
        "import matplotlib.pyplot as plt\n",
        "from matplotlib.patches import Ellipse\n",
        "\n",
        "def plot_contours(fisher, pos, inds=[1,0], nstd=1., ax=None, **kwargs):\n",
        "  \"\"\"\n",
        "  Plot 2D parameter contours given a Hessian matrix of the likelihood\n",
        "  \"\"\"\n",
        "  i,j = inds\n",
        "  \n",
        "  def eigsorted(cov):\n",
        "    vals, vecs = linalg.eigh(cov)\n",
        "    order = vals.argsort()[::-1]\n",
        "    return vals[order], vecs[:, order]\n",
        "\n",
        "  mat = fisher\n",
        "  cov = np.linalg.inv(mat)\n",
        "  sigma_marg = lambda i: np.sqrt(cov[i, i])\n",
        "\n",
        "  if ax is None:\n",
        "      ax = plt.gca()\n",
        "\n",
        "  # Extracts the block we are interested in\n",
        "  block_cov = cov[:,[i,j]][[i,j],:]\n",
        "  vals, vecs = eigsorted(block_cov)\n",
        "  theta = degrees(np.arctan2(*vecs[:, 0][::-1]))\n",
        "\n",
        "  # Width and height are \"full\" widths, not radius\n",
        "  width, height = 2 * nstd * sqrt(vals)\n",
        "  ellip = Ellipse(xy=pos[[i,j]], width=width,\n",
        "                  height=height, angle=theta, **kwargs)\n",
        "\n",
        "  ax.add_artist(ellip)\n",
        "  sz = max(width, height)\n",
        "  s1 = 1.5*nstd*sigma_marg(i)\n",
        "  s2 = 1.5*nstd*sigma_marg(j)\n",
        "  ax.set_xlim(pos[i] - s1, pos[i] + s1)\n",
        "  ax.set_ylim(pos[j] - s2, pos[j] + s2)\n",
        "  plt.draw()\n",
        "  return ellip"
      ],
      "execution_count": 0,
      "outputs": []
    },
    {
      "cell_type": "code",
      "metadata": {
        "id": "b2if1bBMAJx4",
        "colab_type": "code",
        "colab": {
          "base_uri": "https://localhost:8080/",
          "height": 298
        },
        "outputId": "121f2292-eabf-4a68-9f7b-73611c6eaf1f"
      },
      "source": [
        "plot_contours(F, fid_params)\n",
        "xlabel('Omega_c')\n",
        "ylabel('sigma8')"
      ],
      "execution_count": 19,
      "outputs": [
        {
          "output_type": "execute_result",
          "data": {
            "text/plain": [
              "Text(27.0, 0.5, 'sigma8')"
            ]
          },
          "metadata": {
            "tags": []
          },
          "execution_count": 19
        },
        {
          "output_type": "display_data",
          "data": {
            "image/png": "[encoded data removed]",
            "text/plain": [
              "<Figure size 432x288 with 1 Axes>"
            ]
          },
          "metadata": {
            "tags": [],
            "needs_background": "light"
          }
        }
      ]
    },
    {
      "cell_type": "markdown",
      "metadata": {
        "id": "B7gghORJAJx8",
        "colab_type": "text"
      },
      "source": [
        "## Fisher matrices are ok, but let's try proper inference"
      ]
    },
    {
      "cell_type": "code",
      "metadata": {
        "id": "E6haCwL_AJx9",
        "colab_type": "code",
        "colab": {}
      },
      "source": [
        "from tensorflow_probability.python.internal.backend import jax as tf\n",
        "import tensorflow_probability as tfp; tfp = tfp.experimental.substrates.jax"
      ],
      "execution_count": 0,
      "outputs": []
    },
    {
      "cell_type": "code",
      "metadata": {
        "id": "Fuh9QA2jAJyB",
        "colab_type": "code",
        "colab": {}
      },
      "source": [
        "@jax.jit\n",
        "def model_fn(params):\n",
        "    # First unpack parameter vector\n",
        "    cosmo, m, dz, (A, eta) = unpack_params_vec(params) \n",
        "\n",
        "    # Build source nz with redshift systematic bias\n",
        "    nzs_s_sys = [jc.redshift.systematic_shift(nzi, dzi) \n",
        "                for nzi, dzi in zip(nzs_s, dz)]\n",
        "\n",
        "    # Define IA model, z0 is fixed\n",
        "    b_ia = jc.bias.des_y1_ia_bias(A, eta, 0.62)\n",
        "    \n",
        "    # Define the lensing and number counts probe\n",
        "    probes = [jc.probes.WeakLensing(nzs_s_sys, \n",
        "                                    ia_bias=b_ia,\n",
        "                                    multiplicative_bias=m)]\n",
        "    cl = jc.angular_cl.angular_cl(cosmo, ell, probes)\n",
        "    return cl.flatten()"
      ],
      "execution_count": 0,
      "outputs": []
    },
    {
      "cell_type": "code",
      "metadata": {
        "id": "EN3qWP1ZBB33",
        "colab_type": "code",
        "colab": {}
      },
      "source": [
        "tfd = tfp.distributions"
      ],
      "execution_count": 0,
      "outputs": []
    },
    {
      "cell_type": "code",
      "metadata": {
        "id": "1rE6EYPrDJlg",
        "colab_type": "code",
        "colab": {}
      },
      "source": [
        "params_fn = lambda x: get_params_vec(FiducialCosmo(**x), \n",
        "                            [1.2e-2, 1.2e-2, 1.2e-2, 1.2e-2],\n",
        "                            [0.1e-2, -1.9e-2, 0.9e-2, -1.8e-2],\n",
        "                            [0.5, 0.])"
      ],
      "execution_count": 0,
      "outputs": []
    },
    {
      "cell_type": "code",
      "metadata": {
        "id": "VjZpKW3nBB0r",
        "colab_type": "code",
        "colab": {}
      },
      "source": [
        "model = tfd.JointDistributionNamed(dict(\n",
        "  Omega_c = tfd.Uniform(0.1, 0.9),\n",
        "  sigma8 = tfd.Uniform(0.4, 1.0),\n",
        "  Omega_b = tfd.Uniform(0.03, 0.07),\n",
        "  h = tfd.Uniform(0.55, 0.9),\n",
        "  n_s = tfd.Uniform(0.87, 1.97),\n",
        "  w0 = tfd.Uniform(-2.0, -0.33),\n",
        "  obs_cl = lambda Omega_c, sigma8, Omega_b, h, n_s, w0: tfd.MultivariateNormalTriL(\n",
        "      model_fn(params_fn(dict(Omega_c=Omega_c, sigma8=sigma8, Omega_b=Omega_b, \n",
        "                          h=h, n_s=n_s, w0=w0)))\n",
        "      , np.linalg.cholesky(C))\n",
        "\n",
        "))"
      ],
      "execution_count": 0,
      "outputs": []
    },
    {
      "cell_type": "code",
      "metadata": {
        "id": "TU1h6J_yBByb",
        "colab_type": "code",
        "colab": {
          "base_uri": "https://localhost:8080/",
          "height": 143
        },
        "outputId": "95420db2-6286-47f6-a0f8-3cafa6fd6760"
      },
      "source": [
        "model.resolve_graph()"
      ],
      "execution_count": 25,
      "outputs": [
        {
          "output_type": "execute_result",
          "data": {
            "text/plain": [
              "(('w0', ()),\n",
              " ('sigma8', ()),\n",
              " ('n_s', ()),\n",
              " ('h', ()),\n",
              " ('Omega_c', ()),\n",
              " ('Omega_b', ()),\n",
              " ('obs_cl', ('Omega_c', 'sigma8', 'Omega_b', 'h', 'n_s', 'w0')))"
            ]
          },
          "metadata": {
            "tags": []
          },
          "execution_count": 25
        }
      ]
    },
    {
      "cell_type": "code",
      "metadata": {
        "id": "kZEK_OXWEySN",
        "colab_type": "code",
        "colab": {
          "base_uri": "https://localhost:8080/",
          "height": 181
        },
        "outputId": "c75ff955-27cd-4c09-e96a-03cb8df12474"
      },
      "source": [
        "y = model.sample(seed=jax.random.PRNGKey(0))"
      ],
      "execution_count": 26,
      "outputs": [
        {
          "output_type": "stream",
          "text": [
            "/usr/local/lib/python3.6/dist-packages/jax/lax/lax.py:5104: UserWarning: Explicitly requested dtype float64 requested in asarray is not available, and will be truncated to dtype float32. To enable more dtypes, set the jax_enable_x64 configuration option or the JAX_ENABLE_X64 shell environment variable. See https://github.com/google/jax#current-gotchas for more.\n",
            "  warnings.warn(msg.format(dtype, fun_name , truncated_dtype))\n",
            "/usr/local/lib/python3.6/dist-packages/jax/lax/lax.py:5104: UserWarning: Explicitly requested dtype float64 requested in array is not available, and will be truncated to dtype float32. To enable more dtypes, set the jax_enable_x64 configuration option or the JAX_ENABLE_X64 shell environment variable. See https://github.com/google/jax#current-gotchas for more.\n",
            "  warnings.warn(msg.format(dtype, fun_name , truncated_dtype))\n",
            "/usr/local/lib/python3.6/dist-packages/jax/lax/lax.py:5104: UserWarning: Explicitly requested dtype <class 'jax.numpy.lax_numpy.int64'> requested in astype is not available, and will be truncated to dtype int32. To enable more dtypes, set the jax_enable_x64 configuration option or the JAX_ENABLE_X64 shell environment variable. See https://github.com/google/jax#current-gotchas for more.\n",
            "  warnings.warn(msg.format(dtype, fun_name , truncated_dtype))\n",
            "/usr/local/lib/python3.6/dist-packages/jax/lax/lax.py:5104: UserWarning: Explicitly requested dtype <class 'jax.numpy.lax_numpy.int64'> requested in arange is not available, and will be truncated to dtype int32. To enable more dtypes, set the jax_enable_x64 configuration option or the JAX_ENABLE_X64 shell environment variable. See https://github.com/google/jax#current-gotchas for more.\n",
            "  warnings.warn(msg.format(dtype, fun_name , truncated_dtype))\n"
          ],
          "name": "stderr"
        }
      ]
    },
    {
      "cell_type": "code",
      "metadata": {
        "id": "167yOYekEyPC",
        "colab_type": "code",
        "colab": {
          "base_uri": "https://localhost:8080/",
          "height": 283
        },
        "outputId": "8b100c12-8a3e-4da8-fc88-01a069186ecc"
      },
      "source": [
        "semilogy(y['obs_cl'])"
      ],
      "execution_count": 27,
      "outputs": [
        {
          "output_type": "execute_result",
          "data": {
            "text/plain": [
              "[<matplotlib.lines.Line2D at 0x7fd3df1d9ac8>]"
            ]
          },
          "metadata": {
            "tags": []
          },
          "execution_count": 27
        },
        {
          "output_type": "display_data",
          "data": {
            "image/png": "[encoded data removed]",
            "text/plain": [
              "<Figure size 432x288 with 1 Axes>"
            ]
          },
          "metadata": {
            "tags": [],
            "needs_background": "light"
          }
        }
      ]
    },
    {
      "cell_type": "code",
      "metadata": {
        "id": "yG8gCx5jGgvP",
        "colab_type": "code",
        "colab": {}
      },
      "source": [
        "# compute somes data \n",
        "data = tfd.MultivariateNormalTriL(model_fn(fid_params), np.linalg.cholesky(C)).sample(seed=jax.random.PRNGKey(1))"
      ],
      "execution_count": 0,
      "outputs": []
    },
    {
      "cell_type": "code",
      "metadata": {
        "id": "OoZ_xjqcHNvd",
        "colab_type": "code",
        "colab": {
          "base_uri": "https://localhost:8080/",
          "height": 283
        },
        "outputId": "33e3ca58-475d-4c0f-e4e5-dafa10580a02"
      },
      "source": [
        "semilogy(data)"
      ],
      "execution_count": 29,
      "outputs": [
        {
          "output_type": "execute_result",
          "data": {
            "text/plain": [
              "[<matplotlib.lines.Line2D at 0x7fd3dea2aa90>]"
            ]
          },
          "metadata": {
            "tags": []
          },
          "execution_count": 29
        },
        {
          "output_type": "display_data",
          "data": {
            "image/png": "[encoded data removed]",
            "text/plain": [
              "<Figure size 432x288 with 1 Axes>"
            ]
          },
          "metadata": {
            "tags": [],
            "needs_background": "light"
          }
        }
      ]
    },
    {
      "cell_type": "code",
      "metadata": {
        "id": "J2iCtadfBBrS",
        "colab_type": "code",
        "colab": {}
      },
      "source": [
        "# Now write down the joint log prob\n",
        "@jax.jit\n",
        "def unnormalized_log_prob(params):\n",
        "  Omega_c, sigma8, Omega_b, h, n_s, w0 = params\n",
        "  return model.log_prob(dict(Omega_c=Omega_c, sigma8=sigma8, Omega_b=Omega_b, \n",
        "                          h=h, n_s=n_s, w0=w0, obs_cl=data))"
      ],
      "execution_count": 0,
      "outputs": []
    },
    {
      "cell_type": "code",
      "metadata": {
        "id": "LpAMxHFqFqef",
        "colab_type": "code",
        "colab": {}
      },
      "source": [
        "# Initialize the HMC transition kernel.\n",
        "num_results = int(1000)\n",
        "num_burnin_steps = int(100)\n",
        "adaptive_hmc = tfp.mcmc.SimpleStepSizeAdaptation(\n",
        "    tfp.mcmc.HamiltonianMonteCarlo(\n",
        "        target_log_prob_fn=unnormalized_log_prob,\n",
        "        num_leapfrog_steps=3,\n",
        "        step_size=1., seed=jax.random.PRNGKey(0)),\n",
        "    num_adaptation_steps=int(num_burnin_steps * 0.8))"
      ],
      "execution_count": 0,
      "outputs": []
    },
    {
      "cell_type": "code",
      "metadata": {
        "id": "fR5pmvdmFqiR",
        "colab_type": "code",
        "colab": {}
      },
      "source": [
        "# Run the chain (with burn-in).\n",
        "@tf.function\n",
        "def run_chain():\n",
        "  # Run the chain (with burn-in).\n",
        "  samples, is_accepted = tfp.mcmc.sample_chain(\n",
        "      num_results=num_results,\n",
        "      num_burnin_steps=num_burnin_steps,\n",
        "      current_state=np.array([y['Omega_c'], y['sigma8'], \n",
        "                              y['Omega_b'], y['h'], y['n_s'], y['w0']]),\n",
        "      kernel=adaptive_hmc,\n",
        "      trace_fn=lambda _, pkr: pkr.inner_results.is_accepted)\n",
        "\n",
        "  sample_mean = tf.reduce_mean(samples)\n",
        "  sample_stddev = tf.math.reduce_std(samples)\n",
        "  is_accepted = tf.reduce_mean(tf.cast(is_accepted, dtype=tf.float32))\n",
        "  return sample_mean, sample_stddev, is_accepted\n"
      ],
      "execution_count": 0,
      "outputs": []
    },
    {
      "cell_type": "code",
      "metadata": {
        "id": "IEcXg-8eFqbi",
        "colab_type": "code",
        "colab": {
          "base_uri": "https://localhost:8080/",
          "height": 181
        },
        "outputId": "82022025-87a3-4d43-f456-90f9c5378b30"
      },
      "source": [
        "sample_mean, sample_stddev, is_accepted = run_chain()"
      ],
      "execution_count": 0,
      "outputs": [
        {
          "output_type": "stream",
          "text": [
            "/usr/local/lib/python3.6/dist-packages/jax/lax/lax.py:5104: UserWarning: Explicitly requested dtype float64 requested in asarray is not available, and will be truncated to dtype float32. To enable more dtypes, set the jax_enable_x64 configuration option or the JAX_ENABLE_X64 shell environment variable. See https://github.com/google/jax#current-gotchas for more.\n",
            "  warnings.warn(msg.format(dtype, fun_name , truncated_dtype))\n",
            "/usr/local/lib/python3.6/dist-packages/jax/lax/lax.py:5104: UserWarning: Explicitly requested dtype float64 requested in array is not available, and will be truncated to dtype float32. To enable more dtypes, set the jax_enable_x64 configuration option or the JAX_ENABLE_X64 shell environment variable. See https://github.com/google/jax#current-gotchas for more.\n",
            "  warnings.warn(msg.format(dtype, fun_name , truncated_dtype))\n",
            "/usr/local/lib/python3.6/dist-packages/jax/lax/lax.py:5104: UserWarning: Explicitly requested dtype <class 'jax.numpy.lax_numpy.int64'> requested in astype is not available, and will be truncated to dtype int32. To enable more dtypes, set the jax_enable_x64 configuration option or the JAX_ENABLE_X64 shell environment variable. See https://github.com/google/jax#current-gotchas for more.\n",
            "  warnings.warn(msg.format(dtype, fun_name , truncated_dtype))\n",
            "/usr/local/lib/python3.6/dist-packages/jax/lax/lax.py:5104: UserWarning: Explicitly requested dtype <class 'jax.numpy.lax_numpy.int64'> requested in arange is not available, and will be truncated to dtype int32. To enable more dtypes, set the jax_enable_x64 configuration option or the JAX_ENABLE_X64 shell environment variable. See https://github.com/google/jax#current-gotchas for more.\n",
            "  warnings.warn(msg.format(dtype, fun_name , truncated_dtype))\n"
          ],
          "name": "stderr"
        }
      ]
    },
    {
      "cell_type": "code",
      "metadata": {
        "id": "Dw1KsRP3FqYa",
        "colab_type": "code",
        "colab": {}
      },
      "source": [
        "import time\n",
        "time.strftime('%H:%M%p %Z on %b %d, %Y')"
      ],
      "execution_count": 0,
      "outputs": []
    },
    {
      "cell_type": "code",
      "metadata": {
        "id": "a8O6ffrUJavK",
        "colab_type": "code",
        "colab": {}
      },
      "source": [
        ""
      ],
      "execution_count": 0,
      "outputs": []
    },
    {
      "cell_type": "code",
      "metadata": {
        "id": "qZQteZ8XJapr",
        "colab_type": "code",
        "colab": {}
      },
      "source": [
        ""
      ],
      "execution_count": 0,
      "outputs": []
    },
    {
      "cell_type": "code",
      "metadata": {
        "id": "fF1fMnwPJakj",
        "colab_type": "code",
        "colab": {}
      },
      "source": [
        ""
      ],
      "execution_count": 0,
      "outputs": []
    },
    {
      "cell_type": "code",
      "metadata": {
        "id": "R9m5ReuUAJyH",
        "colab_type": "code",
        "colab": {}
      },
      "source": [
        "# Let's define our model using numpyro\n",
        "def model():\n",
        "    #  Cosmological params\n",
        "    Omega_c = numpyro.sample('Omega_c', dist.Uniform(0.1, 0.9))\n",
        "    sigma8 = numpyro.sample('sigma8', dist.Uniform(0.4, 1.0))\n",
        "    Omega_b = numpyro.sample('Omega_b', dist.Uniform(0.03, 0.07))\n",
        "    h = numpyro.sample('h', dist.Uniform(0.55, 0.9))\n",
        "    n_s = numpyro.sample('n_s', dist.Uniform(0.87, 1.97))\n",
        "    w0 = numpyro.sample('w0', dist.Uniform(-2.0, -0.33))\n",
        "    \n",
        "    # parameters for systematics\n",
        "    m = [numpyro.sample('m%d'%i, dist.Normal(0.012, 0.023)) \n",
        "         for i in range(1,5)]\n",
        "    dz1 = numpyro.sample('dz1', dist.Normal(0.001, 0.016)) \n",
        "    dz2 = numpyro.sample('dz2', dist.Normal(-0.019, 0.013)) \n",
        "    dz3 = numpyro.sample('dz3', dist.Normal(0.009, 0.011)) \n",
        "    dz4 = numpyro.sample('dz4', dist.Normal(-0.018, 0.022)) \n",
        "    \n",
        "    # Astrophysical params\n",
        "    A = numpyro.sample('A', dist.Uniform(-5., 5.))\n",
        "    eta = numpyro.sample('eta', dist.Uniform(-5., 5.))\n",
        "    \n",
        "    # Now that params are defined, here is the forward model\n",
        "    cosmo = FiducialCosmo(Omega_c=Omega_c, sigma8=sigma8, Omega_b=Omega_b,\n",
        "                          h=h, n_s=n_s, w0=w0)\n",
        "    \n",
        "    signal = model_fn(get_params_vec(cosmo, m, [dz1, dz2, dz3, dz4], [A, eta]))\n",
        "    \n",
        "    # And here we define the likelihood\n",
        "    numpyro.sample('cl_wl', dist.MultivariateNormal(signal, C))"
      ],
      "execution_count": 0,
      "outputs": []
    },
    {
      "cell_type": "code",
      "metadata": {
        "id": "zMh6lJixAJyL",
        "colab_type": "code",
        "colab": {}
      },
      "source": [
        ""
      ],
      "execution_count": 0,
      "outputs": []
    },
    {
      "cell_type": "code",
      "metadata": {
        "id": "EfXsU1EeAJyP",
        "colab_type": "code",
        "colab": {}
      },
      "source": [
        "from numpyro.handlers import seed, trace\n",
        "rng_key = jax.random.PRNGKey(0)"
      ],
      "execution_count": 0,
      "outputs": []
    },
    {
      "cell_type": "code",
      "metadata": {
        "id": "CBqlYUQjAJyU",
        "colab_type": "code",
        "colab": {}
      },
      "source": [
        "tr = numpyro.handlers.trace(seed(model, rng_key))"
      ],
      "execution_count": 0,
      "outputs": []
    },
    {
      "cell_type": "code",
      "metadata": {
        "id": "ahdo9fUTAJye",
        "colab_type": "code",
        "colab": {}
      },
      "source": [
        "res = tr.get_trace()"
      ],
      "execution_count": 0,
      "outputs": []
    },
    {
      "cell_type": "code",
      "metadata": {
        "id": "cOiyCgdDAJyl",
        "colab_type": "code",
        "colab": {}
      },
      "source": [
        "data = res['cl_wl']['value']"
      ],
      "execution_count": 0,
      "outputs": []
    },
    {
      "cell_type": "code",
      "metadata": {
        "id": "YYyO9NwEAJys",
        "colab_type": "code",
        "colab": {},
        "outputId": "b9db3642-9d37-4005-d3a5-6e22e31e37a7"
      },
      "source": [
        "semilogy(data)"
      ],
      "execution_count": 0,
      "outputs": [
        {
          "output_type": "execute_result",
          "data": {
            "text/plain": [
              "[<matplotlib.lines.Line2D at 0x7fb93ffd84c0>]"
            ]
          },
          "metadata": {
            "tags": []
          },
          "execution_count": 33
        },
        {
          "output_type": "display_data",
          "data": {
            "image/png": "[encoded data removed]",
            "text/plain": [
              "<Figure size 432x288 with 1 Axes>"
            ]
          },
          "metadata": {
            "tags": [],
            "needs_background": "light"
          }
        }
      ]
    },
    {
      "cell_type": "code",
      "metadata": {
        "id": "WSGsfHn6AJyw",
        "colab_type": "code",
        "colab": {}
      },
      "source": [
        "cond_model = numpyro.handlers.condition(model, {'cl_wl':data})"
      ],
      "execution_count": 0,
      "outputs": []
    },
    {
      "cell_type": "code",
      "metadata": {
        "id": "Ym-L7Hr1AJy1",
        "colab_type": "code",
        "colab": {}
      },
      "source": [
        "nuts_kernel = numpyro.infer.NUTS(cond_model)"
      ],
      "execution_count": 0,
      "outputs": []
    },
    {
      "cell_type": "code",
      "metadata": {
        "id": "v86Z1_PMAJy7",
        "colab_type": "code",
        "colab": {}
      },
      "source": [
        "rng_key = jax.random.PRNGKey(0)"
      ],
      "execution_count": 0,
      "outputs": []
    },
    {
      "cell_type": "code",
      "metadata": {
        "id": "EYPgxeeCAJy-",
        "colab_type": "code",
        "colab": {}
      },
      "source": [
        "mcmc = numpyro.infer.MCMC(nuts_kernel, \n",
        "                          num_warmup=500, \n",
        "                          num_samples=1000,\n",
        "                          jit_model_args=True)"
      ],
      "execution_count": 0,
      "outputs": []
    },
    {
      "cell_type": "code",
      "metadata": {
        "id": "eUv_U8YDAJzB",
        "colab_type": "code",
        "colab": {},
        "outputId": "dd2362ac-d722-4ff5-84d8-89133adeac0e"
      },
      "source": [
        "mcmc.run(rng_key, extra_fields=('potential_energy',))"
      ],
      "execution_count": 0,
      "outputs": [
        {
          "output_type": "stream",
          "text": [
            "/home/francois/.local/lib/python3.8/site-packages/jax/lax/lax.py:5190: UserWarning: Explicitly requested dtype float64 requested in asarray is not available, and will be truncated to dtype float32. To enable more dtypes, set the jax_enable_x64 configuration option or the JAX_ENABLE_X64 shell environment variable. See https://github.com/google/jax#current-gotchas for more.\n",
            "  warnings.warn(msg.format(dtype, fun_name , truncated_dtype))\n",
            "/home/francois/.local/lib/python3.8/site-packages/jax/lax/lax.py:5190: UserWarning: Explicitly requested dtype float64 requested in array is not available, and will be truncated to dtype float32. To enable more dtypes, set the jax_enable_x64 configuration option or the JAX_ENABLE_X64 shell environment variable. See https://github.com/google/jax#current-gotchas for more.\n",
            "  warnings.warn(msg.format(dtype, fun_name , truncated_dtype))\n",
            "/home/francois/.local/lib/python3.8/site-packages/jax/lax/lax.py:5190: UserWarning: Explicitly requested dtype <class 'jax.numpy.lax_numpy.int64'> requested in astype is not available, and will be truncated to dtype int32. To enable more dtypes, set the jax_enable_x64 configuration option or the JAX_ENABLE_X64 shell environment variable. See https://github.com/google/jax#current-gotchas for more.\n",
            "  warnings.warn(msg.format(dtype, fun_name , truncated_dtype))\n",
            "  0%|          | 0/1500 [00:00<?, ?it/s]"
          ],
          "name": "stderr"
        }
      ]
    },
    {
      "cell_type": "code",
      "metadata": {
        "id": "h0Y1GM-7AJzE",
        "colab_type": "code",
        "colab": {}
      },
      "source": [
        ""
      ],
      "execution_count": 0,
      "outputs": []
    }
  ]
}